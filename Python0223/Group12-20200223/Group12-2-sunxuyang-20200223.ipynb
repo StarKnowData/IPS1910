{
 "cells": [
  {
   "cell_type": "markdown",
   "metadata": {},
   "source": [
    "# 孙旭阳第一次作业   2020/2/22"
   ]
  },
  {
   "cell_type": "markdown",
   "metadata": {},
   "source": [
    "# NO.1星星排列作业"
   ]
  },
  {
   "cell_type": "code",
   "execution_count": 19,
   "metadata": {},
   "outputs": [
    {
     "name": "stdout",
     "output_type": "stream",
     "text": [
      "\n",
      "*\n",
      "**\n",
      "***\n",
      "****\n",
      "*****\n"
     ]
    }
   ],
   "source": [
    "#作业一\n",
    "                      # 设置打印总行数，range(6)是5行\n",
    "\n",
    "for i in range(6):   # 打印 * ，每行 * 数量与行数相同\n",
    "    print(i*'*')"
   ]
  },
  {
   "cell_type": "code",
   "execution_count": 21,
   "metadata": {},
   "outputs": [
    {
     "name": "stdout",
     "output_type": "stream",
     "text": [
      "\n",
      "*\n",
      "***\n",
      "*****\n",
      "*******\n",
      "*********\n"
     ]
    }
   ],
   "source": [
    "#作业二\n",
    "for i in range(6):    #设置打印行数\n",
    "    k = i*2-1         #引入新的变量\n",
    "    print(k*\"*\")      #第i行的*个数为k"
   ]
  },
  {
   "cell_type": "code",
   "execution_count": 23,
   "metadata": {},
   "outputs": [
    {
     "name": "stdout",
     "output_type": "stream",
     "text": [
      "    \n",
      "   *\n",
      "  ***\n",
      " *****\n",
      "*******\n"
     ]
    }
   ],
   "source": [
    "#作业三\n",
    "for i in range(5):      #设置行数\n",
    "    k = i*2-1           #引入参数k（第i行的星星个数）\n",
    "    m = 4-i             #引入参数m（第i行前方空格数）\n",
    "    print(m*\" \"+k*\"*\")  #打印效果\n",
    "    "
   ]
  },
  {
   "cell_type": "code",
   "execution_count": 24,
   "metadata": {},
   "outputs": [
    {
     "name": "stdout",
     "output_type": "stream",
     "text": [
      "      \n",
      "     *\n",
      "    **\n",
      "   ***\n",
      "  ****\n",
      " *****\n",
      "******\n"
     ]
    }
   ],
   "source": [
    "#作业四\n",
    "for i in range(7):     #设置行数\n",
    "    m = 6-i            #引入参数（第i行前方空格数为m）\n",
    "    print(m*\" \"+i*\"*\") #打印效果"
   ]
  },
  {
   "cell_type": "code",
   "execution_count": 29,
   "metadata": {},
   "outputs": [
    {
     "name": "stdout",
     "output_type": "stream",
     "text": [
      "    \n",
      "   *\n",
      "  ***\n",
      " *****\n",
      "*******\n",
      " *****\n",
      "  ***\n",
      "   *\n"
     ]
    }
   ],
   "source": [
    "#作业五\n",
    "for i in range(8):          #设置行数\n",
    "    if i <= 4:              #将行数分为上下两段讨论\n",
    "        k = i*2-1           #前四行中，第i行的*个数\n",
    "        m = 4-i             #前四行中，第i行前方空格个数\n",
    "        print(m*\" \"+k*\"*\")  #打印\n",
    "    else:\n",
    "        k = (8-i)*2-1       #后三行中，第i行*个数\n",
    "        m = i-4             #后三行中，第i行前方空格数 \n",
    "        print(m*\" \"+ k*\"*\") #打印效果\n",
    "        "
   ]
  },
  {
   "cell_type": "markdown",
   "metadata": {},
   "source": [
    "-----\n",
    "# NO.2课堂内容重现"
   ]
  },
  {
   "cell_type": "code",
   "execution_count": 2,
   "metadata": {},
   "outputs": [
    {
     "name": "stdout",
     "output_type": "stream",
     "text": [
      "请输入您的年龄，并点击enter键确认22\n",
      "You are an adult.\n"
     ]
    }
   ],
   "source": [
    "UserAge = int(input(\"请输入您的年龄，并点击enter键确认\"))   #input和if函数调用\n",
    "                          \n",
    "if UserAge > 18:\n",
    "    print(\"You are an adult.\")\n",
    "else:\n",
    "    print(\"You are a child.\")"
   ]
  },
  {
   "cell_type": "code",
   "execution_count": 40,
   "metadata": {},
   "outputs": [
    {
     "name": "stdout",
     "output_type": "stream",
     "text": [
      "123456789\n",
      "123456789 "
     ]
    }
   ],
   "source": [
    "print('123456789')               #默认换行\n",
    "print('123456789',end=\" \")       #不换行"
   ]
  },
  {
   "cell_type": "markdown",
   "metadata": {},
   "source": [
    "-------"
   ]
  },
  {
   "cell_type": "markdown",
   "metadata": {},
   "source": [
    "----\n",
    "# NO.3 作业chapter 1-7锻炼"
   ]
  },
  {
   "cell_type": "markdown",
   "metadata": {},
   "source": [
    "## Chapter 4——Python3运算符"
   ]
  },
  {
   "cell_type": "markdown",
   "metadata": {},
   "source": [
    "#### chapter4.2 实例（Python算术运算符）"
   ]
  },
  {
   "cell_type": "code",
   "execution_count": 14,
   "metadata": {},
   "outputs": [
    {
     "name": "stdout",
     "output_type": "stream",
     "text": [
      "a+b的和为:  38\n",
      "a-b的差为： 8\n",
      "a*b的积为： 345\n",
      "a/b的商为： 1.5333333333333334\n",
      "a/b的余数为： 8\n"
     ]
    }
   ],
   "source": [
    "#！/usr/bin/python3\n",
    "\n",
    "a = 23\n",
    "b = 15\n",
    "\n",
    "#基础算术运算符调用练习\n",
    "\n",
    "c = a+b\n",
    "print('a+b的和为: ',c)\n",
    "\n",
    "c = a-b\n",
    "print(\"a-b的差为：\",c)\n",
    "\n",
    "c = a*b\n",
    "print(\"a*b的积为：\",c)\n",
    "\n",
    "c = a/b\n",
    "print(\"a/b的商为：\",c)\n",
    "\n",
    "c = a%b\n",
    "print(\"a/b的余数为：\",c)"
   ]
  },
  {
   "cell_type": "code",
   "execution_count": 13,
   "metadata": {},
   "outputs": [
    {
     "name": "stdout",
     "output_type": "stream",
     "text": [
      "236的3次方为： 13144256\n",
      "236/3等于 78 余数 2\n"
     ]
    }
   ],
   "source": [
    "a = 236\n",
    "b = 3\n",
    "\n",
    "c = a**b\n",
    "print(\"236的3次方为：\",c)\n",
    "\n",
    "c = a//b\n",
    "d = a%b\n",
    "print(\"236/3等于\",c,\"余数\",d)"
   ]
  },
  {
   "cell_type": "markdown",
   "metadata": {},
   "source": [
    "#### chapter4.3 实例（Python比较运算符）"
   ]
  },
  {
   "cell_type": "code",
   "execution_count": 17,
   "metadata": {},
   "outputs": [
    {
     "name": "stdout",
     "output_type": "stream",
     "text": [
      "1.a不等于b\n",
      "2.a不等于b\n",
      "3.a大于等于b\n"
     ]
    }
   ],
   "source": [
    "#!/usr/bin/pyhton3\n",
    "\n",
    "a = 24\n",
    "b = 18\n",
    "c = 8\n",
    "\n",
    "if(a == b):\n",
    "    print(\"1.a等于b\")\n",
    "else:\n",
    "    print(\"1.a不等于b\")\n",
    "    \n",
    "if(a != b):              #不等于\n",
    "    print(\"2.a不等于b\")\n",
    "else:\n",
    "    print(\"2.a等于b\")\n",
    "    \n",
    "\n",
    "if(a < b):\n",
    "    print(\"3.a小于b\")\n",
    "else:\n",
    "    print(\"3.a大于等于b\")"
   ]
  },
  {
   "cell_type": "markdown",
   "metadata": {},
   "source": [
    "#### chapter4.4 实例（Python赋值运算符）"
   ]
  },
  {
   "cell_type": "code",
   "execution_count": 18,
   "metadata": {},
   "outputs": [
    {
     "name": "stdout",
     "output_type": "stream",
     "text": [
      "1. c的值为： 32\n",
      "2. c的值为： 56\n",
      "3. c的值为： 1344\n",
      "4. c的值为： 56.0\n",
      "5. c的值为： 2\n",
      "6. c的值为： 16777216\n",
      "7. c的值为： 699050\n"
     ]
    }
   ],
   "source": [
    "#!/usr/bin/python3\n",
    "a = 24\n",
    "b = 8\n",
    "c = 0\n",
    "\n",
    "c = a + b\n",
    "print(\"1. c的值为：\",c)   #简单赋值\n",
    "\n",
    "c +=a\n",
    "print(\"2. c的值为：\",c)   #加法赋值\n",
    "\n",
    "c *= a\n",
    "print(\"3. c的值为：\",c)   #乘法赋值\n",
    "\n",
    "c /= a\n",
    "print(\"4. c的值为：\",c)   #除法赋值\n",
    "\n",
    "c =2\n",
    "c %= a\n",
    "print(\"5. c的值为：\",c)   #取模赋值\n",
    "\n",
    "c **= a\n",
    "print(\"6. c的值为：\",c)   #幂赋值\n",
    "\n",
    "c //= a\n",
    "print(\"7. c的值为：\",c)   #取整除赋值"
   ]
  },
  {
   "cell_type": "markdown",
   "metadata": {},
   "source": [
    "#### chapter4.5 实例（Python位运算符）"
   ]
  },
  {
   "cell_type": "code",
   "execution_count": 9,
   "metadata": {},
   "outputs": [
    {
     "name": "stdout",
     "output_type": "stream",
     "text": [
      "1. c的值为： 12\n",
      "2. c的值为： 61\n",
      "3. c的值为： 49\n",
      "5. c的值为： 491520\n",
      "6. c的值为： 0\n"
     ]
    }
   ],
   "source": [
    "#!/usr/bin/python3\n",
    "\n",
    "a = 60   # 60= 0011 1100\n",
    "b = 13   # 13= 0000 1101\n",
    "c = 0\n",
    "\n",
    "#换位与运算符\n",
    "c = a & b;  # 12= 0000 1100\n",
    "print(\"1. c的值为：\",c)\n",
    "\n",
    "#按位或运算符   # 61= 0011 1101\n",
    "c = a | b; \n",
    "print(\"2. c的值为：\",c)\n",
    "\n",
    "#按位异或运算符\n",
    "c = a ^ b;      # 49= 0011 0001\n",
    "print(\"3. c的值为：\",c)\n",
    "\n",
    "#      #按位取反运算符\n",
    "#      c = a~b; \n",
    "#      print(\"4. c的值为：\",c)    #运算不出来，因为~符号打不出来 之后无法识别\n",
    "\n",
    "#左移动运算符\n",
    "c = a << b;      #240 = 1111 0000\n",
    "print(\"5. c的值为：\",c)\n",
    "\n",
    "#右移动运算符\n",
    "c = a >> b;      # 15 = 0000 1111\n",
    "print(\"6. c的值为：\",c)\n",
    " "
   ]
  },
  {
   "cell_type": "markdown",
   "metadata": {},
   "source": [
    "#### chapter4.6 实例（逻辑运算符）    ####没太弄明白，后续继续研究！！！"
   ]
  },
  {
   "cell_type": "code",
   "execution_count": 6,
   "metadata": {},
   "outputs": [
    {
     "name": "stdout",
     "output_type": "stream",
     "text": [
      "1. 变量a和b都为true\n",
      "2. 变量a和b都为true或其中一个变量为true\n",
      "3. 变量a和b有一个都为true\n"
     ]
    }
   ],
   "source": [
    "#！/usr/bin/python\n",
    "\n",
    "a = 10\n",
    "b = 20\n",
    "\n",
    "#布尔“与”\n",
    "if (a and b):\n",
    "    print(\"1. 变量a和b都为true\")\n",
    "else:\n",
    "    print(\"1. 变量a和b有一个不为true\") \n",
    "\n",
    "#布尔“或”\n",
    "if (a or b):\n",
    "    print(\"2. 变量a和b都为true或其中一个变量为true\")\n",
    "else:\n",
    "    print(\"2. 变量a和b都不为true\")\n",
    "\n",
    "#布尔“非”    \n",
    "if not(a and b):\n",
    "    print(\"3. 变量a和b都为false，或者其中一个变量为false\")\n",
    "else:\n",
    "    print(\"3. 变量a和b有一个都为true\")"
   ]
  },
  {
   "cell_type": "markdown",
   "metadata": {},
   "source": [
    "#### chapter4.7 实例（成员运算符）"
   ]
  },
  {
   "cell_type": "code",
   "execution_count": 8,
   "metadata": {},
   "outputs": [
    {
     "name": "stdout",
     "output_type": "stream",
     "text": [
      "1. 变量a不在给定的列表list中\n",
      "2. 变量b不在给定的列表list中\n"
     ]
    }
   ],
   "source": [
    "#!/usr/bin/python3\n",
    "\n",
    "a = 15\n",
    "b = 24\n",
    "list = [1,2,3,4,5];\n",
    "\n",
    "#找到返回true，否则返回false\n",
    "if (a in list):\n",
    "    print(\"1. 变量a在给定的列表list中\")\n",
    "else:\n",
    "    print(\"1. 变量a不在给定的列表list中\")\n",
    "\n",
    "#找到返回false，否则返回true\n",
    "if (b not in list):\n",
    "    print(\"2. 变量b不在给定的列表list中\")\n",
    "else:\n",
    "    print(\"2. 变量b在给定的列表list中\")"
   ]
  },
  {
   "cell_type": "markdown",
   "metadata": {},
   "source": [
    "#### chapter4.8 实例（身份运算符）"
   ]
  },
  {
   "cell_type": "code",
   "execution_count": 12,
   "metadata": {},
   "outputs": [
    {
     "name": "stdout",
     "output_type": "stream",
     "text": [
      "1. a和b有相同的标识\n",
      "2. a和b有相同的标识\n",
      "3. a和b有相同的标识\n"
     ]
    }
   ],
   "source": [
    "#!/usr/bin/python3\n",
    "\n",
    "a = 24\n",
    "b = 24\n",
    "\n",
    "#is 判断两个标识符是否引用自一个对象\n",
    "if (a is b):\n",
    "    print(\"1. a和b有相同的标识\")\n",
    "else:\n",
    "    print(\"1. a和b没有相同的标识\")\n",
    "\n",
    "#id().函数用于获取对象内存地址\n",
    "if (id(a) == id(b)):\n",
    "    print(\"2. a和b有相同的标识\")\n",
    "else:\n",
    "    print(\"2. a和b没有相同的标识\")\n",
    "\n",
    "#is not判断两个标识符是否引用自不同对象\n",
    "if (a is not b):\n",
    "    print(\"3. a和b没有相同的标识\")\n",
    "else:\n",
    "    print(\"3. a和b有相同的标识\")"
   ]
  },
  {
   "cell_type": "code",
   "execution_count": 13,
   "metadata": {},
   "outputs": [
    {
     "data": {
      "text/plain": [
       "True"
      ]
     },
     "execution_count": 13,
     "metadata": {},
     "output_type": "execute_result"
    }
   ],
   "source": [
    "#is与==的区别\n",
    "a = [1,2,3]\n",
    "b = a\n",
    "b is a"
   ]
  },
  {
   "cell_type": "code",
   "execution_count": 14,
   "metadata": {},
   "outputs": [
    {
     "data": {
      "text/plain": [
       "True"
      ]
     },
     "execution_count": 14,
     "metadata": {},
     "output_type": "execute_result"
    }
   ],
   "source": [
    "b == a"
   ]
  },
  {
   "cell_type": "code",
   "execution_count": 15,
   "metadata": {},
   "outputs": [
    {
     "data": {
      "text/plain": [
       "False"
      ]
     },
     "execution_count": 15,
     "metadata": {},
     "output_type": "execute_result"
    }
   ],
   "source": [
    "b =a[:]\n",
    "b is a"
   ]
  },
  {
   "cell_type": "code",
   "execution_count": 16,
   "metadata": {},
   "outputs": [
    {
     "data": {
      "text/plain": [
       "True"
      ]
     },
     "execution_count": 16,
     "metadata": {},
     "output_type": "execute_result"
    }
   ],
   "source": [
    "b == a"
   ]
  },
  {
   "cell_type": "markdown",
   "metadata": {},
   "source": [
    "#### chapter4.9 实例（python运算符优先级）"
   ]
  },
  {
   "cell_type": "code",
   "execution_count": 17,
   "metadata": {},
   "outputs": [
    {
     "name": "stdout",
     "output_type": "stream",
     "text": [
      "运算结果为： 126.0\n",
      "运算结果为： 126.0\n",
      "运算结果为： 78.0\n"
     ]
    }
   ],
   "source": [
    "#!/usr/bin/python3\n",
    "\n",
    "a = 24\n",
    "b = 18\n",
    "c = 15\n",
    "d = 5\n",
    "e = 0\n",
    "\n",
    "#运算顺序与数学相同\n",
    "e = (a+b)*c/d\n",
    "print(\"运算结果为：\",e)\n",
    "\n",
    "e = (a+b)*(c/d)\n",
    "print(\"运算结果为：\",e)\n",
    "\n",
    "e = a+(b*c)/d\n",
    "print(\"运算结果为：\",e)"
   ]
  },
  {
   "cell_type": "markdown",
   "metadata": {},
   "source": [
    "-------\n",
    "## Chapter 5——变量"
   ]
  },
  {
   "cell_type": "markdown",
   "metadata": {},
   "source": [
    "### （.......数据类型和数学函数，背诵即可）"
   ]
  },
  {
   "cell_type": "markdown",
   "metadata": {},
   "source": [
    "-------\n",
    "##  Chapter 6——string"
   ]
  },
  {
   "cell_type": "markdown",
   "metadata": {},
   "source": [
    "### 6.1 python访问字符串中的值"
   ]
  },
  {
   "cell_type": "code",
   "execution_count": 21,
   "metadata": {},
   "outputs": [
    {
     "name": "stdout",
     "output_type": "stream",
     "text": [
      "var1[0]: H\n",
      "var2[1:5]: unoo\n"
     ]
    }
   ],
   "source": [
    "#!/usr/bin/python3\n",
    "\n",
    "var1 = 'Hello world!'         #定义字符创内容\n",
    "var2 = 'Runoob'               #定义字符创内容\n",
    "\n",
    "print(\"var1[0]:\",var1[0])     #截取字符串1 中的第一个字符\n",
    "print(\"var2[1:5]:\",var2[1:5]) #截取字符串2 中的第2到5个字符"
   ]
  },
  {
   "cell_type": "markdown",
   "metadata": {},
   "source": [
    "### 6.2 字符串更新"
   ]
  },
  {
   "cell_type": "code",
   "execution_count": 23,
   "metadata": {},
   "outputs": [
    {
     "name": "stdout",
     "output_type": "stream",
     "text": [
      "已更新字符串： Hello runoob!\n"
     ]
    }
   ],
   "source": [
    "#!/usr/bin/python3\n",
    "\n",
    "var1 = 'Hello world!'  \n",
    "\n",
    "#重新截取字符串1中的第1到6个字符（空格也包含在内）\n",
    "print(\"已更新字符串：\",var1[:6]+'runoob!')    \n"
   ]
  },
  {
   "cell_type": "markdown",
   "metadata": {},
   "source": [
    "### 6.4 字符串运算符"
   ]
  },
  {
   "cell_type": "code",
   "execution_count": 25,
   "metadata": {},
   "outputs": [
    {
     "name": "stdout",
     "output_type": "stream",
     "text": [
      "a+b输出结果： hellopython\n",
      "a*2输出结果： hellohello\n",
      "a[1]输出结果： e\n",
      "a[1:4]输出结果： ell\n",
      "h在变量a中\n",
      "m不在变量a中\n",
      "\\n\n",
      "\\n\n"
     ]
    }
   ],
   "source": [
    "#!/usr/bin/python3\n",
    "\n",
    "a = \"hello\"\n",
    "b = \"python\"\n",
    "\n",
    "print(\"a+b输出结果：\",a+b)         # +字符串连接\n",
    "print(\"a*2输出结果：\",a*2)         # *重复输出字符串2次\n",
    "print(\"a[1]输出结果：\",a[1])       # 通过索引获取字符串中的字符\n",
    "print(\"a[1:4]输出结果：\",a[1:4])   # 截取字符串中的第2，3，4个字符（4-1=3，截取3个）\n",
    "\n",
    "if(\"h\" in a):                     # 成员运算符，包含返回true\n",
    "    print(\"h在变量a中\")\n",
    "else:\n",
    "    print(\"h不在变量a中\")\n",
    "\n",
    "if(\"m\"not in a):                 # 成员运算符，包含返回false\n",
    "    print(\"m不在变量a中\")\n",
    "else:\n",
    "    print(\"m在变量a中\")\n",
    "    \n",
    "print(r'\\n')                      # 输出原始字符串\n",
    "print(R'\\n')"
   ]
  },
  {
   "cell_type": "markdown",
   "metadata": {},
   "source": [
    "### 6.5 字符串格式化"
   ]
  },
  {
   "cell_type": "code",
   "execution_count": 43,
   "metadata": {},
   "outputs": [
    {
     "name": "stdout",
     "output_type": "stream",
     "text": [
      "我叫小明,家住北京,今年10岁了！我上5年级了，期末考了100分，我很高兴。\n"
     ]
    }
   ],
   "source": [
    "print(\"我叫%s,家住%s,今年%d岁了！我上%d年级了，期末考了%d分，%s很高兴。\" %('小明','北京',10,5,100,'我'))  \n",
    "\n",
    "#   %s 代表格式化字符串\n",
    "#   %d 代表格式化整数\n",
    "#   可按顺序连续使用多个"
   ]
  },
  {
   "cell_type": "markdown",
   "metadata": {},
   "source": [
    "### 6.6 多行字符串"
   ]
  },
  {
   "cell_type": "code",
   "execution_count": 46,
   "metadata": {},
   "outputs": [
    {
     "name": "stdout",
     "output_type": "stream",
     "text": [
      "\n",
      "print( math.fabs(-10))     \n",
      "print(\n",
      "random.choice(li))\n",
      "\n"
     ]
    }
   ],
   "source": [
    "string = '''\n",
    "print( math.fabs(-10))     \n",
    "print(\n",
    "random.choice(li))\n",
    "'''\n",
    "print(string)               # 多行字符串可用于包裹长篇文字、数据"
   ]
  },
  {
   "cell_type": "markdown",
   "metadata": {},
   "source": [
    "##  Chapter 7——bytes    "
   ]
  },
  {
   "cell_type": "markdown",
   "metadata": {},
   "source": [
    "   ##       .......不是很懂。。。。"
   ]
  },
  {
   "cell_type": "markdown",
   "metadata": {},
   "source": [
    "### bytes 转 str"
   ]
  },
  {
   "cell_type": "code",
   "execution_count": 48,
   "metadata": {},
   "outputs": [
    {
     "data": {
      "text/plain": [
       "'abc'"
      ]
     },
     "execution_count": 48,
     "metadata": {},
     "output_type": "execute_result"
    }
   ],
   "source": [
    "b\"abc\".decode()\n",
    "str(b'abc')\n",
    "str(b'abc',encoding='utf-8')"
   ]
  },
  {
   "cell_type": "markdown",
   "metadata": {},
   "source": [
    "### str 转 bytes"
   ]
  },
  {
   "cell_type": "code",
   "execution_count": 49,
   "metadata": {},
   "outputs": [
    {
     "data": {
      "text/plain": [
       "b'\\xe4\\xb8\\xad\\xe5\\x9b\\xbd'"
      ]
     },
     "execution_count": 49,
     "metadata": {},
     "output_type": "execute_result"
    }
   ],
   "source": [
    "'中国'.encode()\n",
    "bytes('中国',encoding=\"utf-8\")"
   ]
  },
  {
   "cell_type": "markdown",
   "metadata": {},
   "source": [
    "##  Chapter 8——list   "
   ]
  },
  {
   "cell_type": "code",
   "execution_count": null,
   "metadata": {},
   "outputs": [],
   "source": []
  }
 ],
 "metadata": {
  "kernelspec": {
   "display_name": "Python 3",
   "language": "python",
   "name": "python3"
  },
  "language_info": {
   "codemirror_mode": {
    "name": "ipython",
    "version": 3
   },
   "file_extension": ".py",
   "mimetype": "text/x-python",
   "name": "python",
   "nbconvert_exporter": "python",
   "pygments_lexer": "ipython3",
   "version": "3.7.0"
  }
 },
 "nbformat": 4,
 "nbformat_minor": 2
}
