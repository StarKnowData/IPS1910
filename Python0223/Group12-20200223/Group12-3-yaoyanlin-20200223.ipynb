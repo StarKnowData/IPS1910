{
 "cells": [
  {
   "cell_type": "code",
   "execution_count": 4,
   "metadata": {},
   "outputs": [
    {
     "name": "stdout",
     "output_type": "stream",
     "text": [
      "请输入您的年龄：12\n",
      "You are a child.\n"
     ]
    }
   ],
   "source": [
    "UserAge = int(input(\"请输入您的年龄：\"))\n",
    "\n",
    "if UserAge > 18:\n",
    "    print(\"You are an adult.\")\n",
    "else:\n",
    "    print(\"You are a child.\")"
   ]
  },
  {
   "cell_type": "code",
   "execution_count": 6,
   "metadata": {},
   "outputs": [
    {
     "name": "stdout",
     "output_type": "stream",
     "text": [
      "123\n",
      "123"
     ]
    }
   ],
   "source": [
    "print('123')#默认换行\n",
    "print('123',end=\"\") #不换行"
   ]
  },
  {
   "cell_type": "markdown",
   "metadata": {},
   "source": [
    "----\n",
    "#### 经典的星星矩阵\n"
   ]
  },
  {
   "cell_type": "code",
   "execution_count": 7,
   "metadata": {},
   "outputs": [
    {
     "name": "stdout",
     "output_type": "stream",
     "text": [
      "*****\n",
      "*****\n",
      "*****\n",
      "*****\n",
      "*****\n"
     ]
    }
   ],
   "source": [
    "for row in range(5): \n",
    "    for column in range(5):\n",
    "        print(\"*\",end='')\n",
    "    print(\"\")"
   ]
  },
  {
   "cell_type": "code",
   "execution_count": 8,
   "metadata": {},
   "outputs": [
    {
     "name": "stdout",
     "output_type": "stream",
     "text": [
      "*\n",
      "**\n",
      "***\n",
      "****\n",
      "*****\n"
     ]
    }
   ],
   "source": [
    "#作业1\n",
    "for i in range(5):\n",
    "    for column in range(i+1):\n",
    "        print(\"*\",end='')\n",
    "    print(\"\")"
   ]
  },
  {
   "cell_type": "code",
   "execution_count": 9,
   "metadata": {},
   "outputs": [
    {
     "name": "stdout",
     "output_type": "stream",
     "text": [
      "*\n",
      "***\n",
      "*****\n",
      "*******\n",
      "*********\n"
     ]
    }
   ],
   "source": [
    "#作业2\n",
    "for r in range(5):\n",
    "    for column in range(r):\n",
    "        print(\"**\",end='')\n",
    "    print(\"*\")"
   ]
  },
  {
   "cell_type": "code",
   "execution_count": 10,
   "metadata": {},
   "outputs": [
    {
     "name": "stdout",
     "output_type": "stream",
     "text": [
      "     *\n",
      "    ***\n",
      "   *****\n",
      "  *******\n",
      " *********\n"
     ]
    }
   ],
   "source": [
    "#作业3\n",
    "for r in range(5):\n",
    "    print(\" \"*(5-r),end='')\n",
    "    for column in range(r):\n",
    "        print(\"**\",end='')\n",
    "    print(\"*\")"
   ]
  },
  {
   "cell_type": "code",
   "execution_count": 11,
   "metadata": {},
   "outputs": [
    {
     "name": "stdout",
     "output_type": "stream",
     "text": [
      "      *\n",
      "     **\n",
      "    ***\n",
      "   ****\n",
      "  *****\n",
      " ******\n"
     ]
    }
   ],
   "source": [
    "#作业4\n",
    "for i in range(6):\n",
    "    print(\" \"*(6-i),end='')\n",
    "    for column in range(i):\n",
    "        print(\"*\",end='')\n",
    "    print(\"*\")"
   ]
  },
  {
   "cell_type": "code",
   "execution_count": 24,
   "metadata": {},
   "outputs": [
    {
     "name": "stdout",
     "output_type": "stream",
     "text": [
      "   *\n",
      "  ***\n",
      " *****\n",
      "*******\n",
      " *****\n",
      "  ***\n",
      "   *\n"
     ]
    }
   ],
   "source": [
    "#作业5 (感觉有点蠢)\n",
    "i=1\n",
    "while(i<=4):\n",
    "    star = \" \"*(4-i) + \"*\"*(i)+\"*\"*(i-1)  \n",
    "    print(star)\n",
    "    i+=1\n",
    "i=3\n",
    "while(i>=1):\n",
    "    star = ' '*(4-i) + \"*\"*(2*i-1) \n",
    "    print(star)\n",
    "    i-=1"
   ]
  },
  {
   "cell_type": "code",
   "execution_count": 22,
   "metadata": {},
   "outputs": [
    {
     "name": "stdout",
     "output_type": "stream",
     "text": [
      "    \n",
      "   *\n",
      "  ***\n",
      " *****\n",
      "*******\n",
      " *****\n",
      "  ***\n",
      "   *\n"
     ]
    }
   ],
   "source": [
    "#作业5（数学问题）\n",
    "for i in range(8):\n",
    "    if i<= 4:\n",
    "        print(' '*(4-i)+(2*i-1)*'*')\n",
    "    else:\n",
    "        print(' '*(i-4)+(2*(8-i)-1)*'*')"
   ]
  },
  {
   "cell_type": "code",
   "execution_count": 13,
   "metadata": {},
   "outputs": [
    {
     "name": "stdout",
     "output_type": "stream",
     "text": [
      "    * \n",
      "   * * \n",
      "  * * * \n",
      " * * * * \n",
      "* * * * * \n"
     ]
    }
   ],
   "source": [
    "i=1\n",
    "while(i<=5):\n",
    "    star = \" \"*(5-i) + \"* \"*i  #前面(5-i)个空格，再补加**之间的空格\n",
    "    print(star)\n",
    "    i+=1"
   ]
  },
  {
   "cell_type": "code",
   "execution_count": 14,
   "metadata": {},
   "outputs": [
    {
     "name": "stdout",
     "output_type": "stream",
     "text": [
      "     \n",
      "    * \n",
      "   * * \n",
      "  * * * \n",
      " * * * * \n",
      "* * * * * \n"
     ]
    }
   ],
   "source": [
    "for i in range(6): #这样的话前面会多一行空行诶\n",
    "    star = \" \"*(5-i) + \"* \"*i\n",
    "    print(star)"
   ]
  },
  {
   "cell_type": "code",
   "execution_count": 16,
   "metadata": {},
   "outputs": [
    {
     "name": "stdout",
     "output_type": "stream",
     "text": [
      "1-c的值为: 31\n",
      "2-c的值为: 11\n",
      "2-c的值为: 210\n",
      "3-c的值为: 2.1\n",
      "4-c的值为: 1\n",
      "6-c的值为: 8\n",
      "7-c的值为: 2\n"
     ]
    }
   ],
   "source": [
    "a = 21\n",
    "b = 10\n",
    "c = 0\n",
    "\n",
    "c = a + b\n",
    "print(\"1-c的值为:\",c)\n",
    "\n",
    "c = a - b\n",
    "print(\"2-c的值为:\",c)\n",
    "\n",
    "c = a * b\n",
    "print(\"2-c的值为:\",c)\n",
    "\n",
    "c = a / b\n",
    "print(\"3-c的值为:\",c)\n",
    "\n",
    "c = a % b\n",
    "print(\"4-c的值为:\",c)\n",
    "\n",
    "a = 2\n",
    "b = 3\n",
    "c = a ** b\n",
    "print(\"6-c的值为:\",c)\n",
    "\n",
    "a = 10\n",
    "b = 5\n",
    "c = a // b\n",
    "print(\"7-c的值为:\",c)"
   ]
  },
  {
   "cell_type": "code",
   "execution_count": 17,
   "metadata": {},
   "outputs": [
    {
     "name": "stdout",
     "output_type": "stream",
     "text": [
      "1 - a 不等于 b\n",
      "2 - a 不等于 b\n",
      "3 - a 大于等于 b\n",
      "4 - a 大于 b\n",
      "5 - a 小于等于 b\n",
      "6 - b 大于等于 a\n"
     ]
    }
   ],
   "source": [
    "a = 21\n",
    "b = 10\n",
    "c = 0\n",
    "\n",
    "if(a == b):\n",
    "    print(\"1 - a 等于 b\")\n",
    "else:\n",
    "    print(\"1 - a 不等于 b\")\n",
    "    \n",
    "if(a != b):\n",
    "     print(\"2 - a 不等于 b\")\n",
    "else:\n",
    "    print(\"2 - a 等于 b\")\n",
    "    \n",
    "if(a < b):\n",
    "    print(\"3 - a 小于 b\")\n",
    "else:\n",
    "    print(\"3 - a 大于等于 b\")\n",
    "    \n",
    "if(a > b):\n",
    "    print(\"4 - a 大于 b\")\n",
    "else:\n",
    "    print(\"4 - a 小于等于 b\")\n",
    "    \n",
    "\n",
    "a = 5;\n",
    "b = 20;\n",
    "if(a <= b):\n",
    "    print(\"5 - a 小于等于 b\")\n",
    "else:\n",
    "    print(\"5 - a 大于 b\")\n",
    "    \n",
    "if(b >= a):\n",
    "    print(\"6 - b 大于等于 a\")\n",
    "else:\n",
    "    print(\"6 - b 小于 a\")"
   ]
  },
  {
   "cell_type": "code",
   "execution_count": 18,
   "metadata": {},
   "outputs": [
    {
     "name": "stdout",
     "output_type": "stream",
     "text": [
      "var1[0]:  H\n",
      "var2[1:5]:  unoo\n"
     ]
    }
   ],
   "source": [
    "var1 = 'Hello World!'\n",
    "var2 = \"Runoob\"\n",
    "\n",
    "print (\"var1[0]: \", var1[0])\n",
    "print (\"var2[1:5]: \", var2[1:5])"
   ]
  },
  {
   "cell_type": "code",
   "execution_count": 20,
   "metadata": {},
   "outputs": [
    {
     "name": "stdout",
     "output_type": "stream",
     "text": [
      "已更新字符串:  Hello Python!\n"
     ]
    }
   ],
   "source": [
    "var1 = 'Hello World!'\n",
    "\n",
    "print (\"已更新字符串: \", var1[:6] + 'Python!')"
   ]
  },
  {
   "cell_type": "code",
   "execution_count": 21,
   "metadata": {},
   "outputs": [
    {
     "name": "stdout",
     "output_type": "stream",
     "text": [
      "我叫 yyl,今年 20 岁\n"
     ]
    }
   ],
   "source": [
    "print(\"我叫 %s,今年 %d 岁\" % ('yyl', 20))"
   ]
  },
  {
   "cell_type": "code",
   "execution_count": null,
   "metadata": {},
   "outputs": [],
   "source": []
  }
 ],
 "metadata": {
  "kernelspec": {
   "display_name": "Python 3",
   "language": "python",
   "name": "python3"
  }
 },
 "nbformat": 4,
 "nbformat_minor": 4
}
