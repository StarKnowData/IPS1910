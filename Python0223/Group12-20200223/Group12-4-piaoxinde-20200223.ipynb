{
 "cells": [
  {
   "cell_type": "code",
   "execution_count": 15,
   "metadata": {},
   "outputs": [
    {
     "name": "stdout",
     "output_type": "stream",
     "text": [
      "\n",
      "*\n",
      "**\n",
      "***\n",
      "****\n",
      "*****\n",
      "******\n"
     ]
    }
   ],
   "source": [
    "#作业 1\n",
    "for i in range(7):\n",
    "   print(i*'*')"
   ]
  },
  {
   "cell_type": "code",
   "execution_count": 21,
   "metadata": {},
   "outputs": [
    {
     "name": "stdout",
     "output_type": "stream",
     "text": [
      "\n",
      "*\n",
      "***\n",
      "*****\n",
      "*******\n",
      "*********\n",
      "***********\n"
     ]
    }
   ],
   "source": [
    "#作业 2\n",
    "for i in range(7):\n",
    "   print((2*i-1)*'*')"
   ]
  },
  {
   "cell_type": "code",
   "execution_count": 22,
   "metadata": {},
   "outputs": [
    {
     "name": "stdout",
     "output_type": "stream",
     "text": [
      "    \n",
      "   *\n",
      "  ***\n",
      " *****\n",
      "*******\n"
     ]
    }
   ],
   "source": [
    "#作业3\n",
    "for i in range(5):\n",
    "     print(' '*(4-i)+(2*i-1)*'*')"
   ]
  },
  {
   "cell_type": "code",
   "execution_count": 23,
   "metadata": {},
   "outputs": [
    {
     "name": "stdout",
     "output_type": "stream",
     "text": [
      "        \n",
      "       *\n",
      "      **\n",
      "     ***\n",
      "    ****\n",
      "   *****\n",
      "  ******\n",
      " *******\n",
      "********\n"
     ]
    }
   ],
   "source": [
    "#作业4\n",
    "for i in range(9):\n",
    "    print(' '*(8-i)+i*'*')"
   ]
  },
  {
   "cell_type": "code",
   "execution_count": 24,
   "metadata": {},
   "outputs": [
    {
     "name": "stdout",
     "output_type": "stream",
     "text": [
      "    \n",
      "   *\n",
      "  ***\n",
      " *****\n",
      "*******\n",
      " *****\n",
      "  ***\n",
      "   *\n",
      "    \n",
      "     \n"
     ]
    }
   ],
   "source": [
    "#作业5\n",
    "for i in range(10):\n",
    "# 图形分成两部分，行数不大于4和大于4\n",
    "    if i<= 4:\n",
    "#行数不大于4的部分\n",
    "        print(' '*(4-i)+(2*i-1)*'*')\n",
    "    else:\n",
    "#行数大于4的部分\n",
    "        print(' '*(i-4)+(2*(8-i)-1)*'*')"
   ]
  },
  {
   "cell_type": "code",
   "execution_count": 25,
   "metadata": {},
   "outputs": [
    {
     "name": "stdout",
     "output_type": "stream",
     "text": [
      "1-c的值为： 31\n",
      "2-c的值为： 11\n",
      "3-c的值为： 210\n",
      "4-c的值为： 2.1\n",
      "5-c的值为： 1\n",
      "6-c的值为： 16679880978201\n",
      "7-c的值为： 2\n"
     ]
    }
   ],
   "source": [
    "a=21\n",
    "b=10\n",
    "c=0\n",
    "c=a+b \n",
    "print(\"1-c的值为：\",c)\n",
    "c=a-b \n",
    "print(\"2-c的值为：\",c)\n",
    "c=a*b \n",
    "print(\"3-c的值为：\",c)\n",
    "c=a/b \n",
    "print(\"4-c的值为：\",c)\n",
    "c=a%b \n",
    "print(\"5-c的值为：\",c)\n",
    "#修改变量a、b、c a=2b=3\n",
    "c=a**b \n",
    "print(\"6-c的值为：\",c)\n",
    "a=10\n",
    "b=5\n",
    "c=a//b \n",
    "print(\"7-c的值为：\",c)"
   ]
  },
  {
   "cell_type": "code",
   "execution_count": 26,
   "metadata": {},
   "outputs": [
    {
     "data": {
      "text/plain": [
       "['False',\n",
       " 'None',\n",
       " 'True',\n",
       " 'and',\n",
       " 'as',\n",
       " 'assert',\n",
       " 'async',\n",
       " 'await',\n",
       " 'break',\n",
       " 'class',\n",
       " 'continue',\n",
       " 'def',\n",
       " 'del',\n",
       " 'elif',\n",
       " 'else',\n",
       " 'except',\n",
       " 'finally',\n",
       " 'for',\n",
       " 'from',\n",
       " 'global',\n",
       " 'if',\n",
       " 'import',\n",
       " 'in',\n",
       " 'is',\n",
       " 'lambda',\n",
       " 'nonlocal',\n",
       " 'not',\n",
       " 'or',\n",
       " 'pass',\n",
       " 'raise',\n",
       " 'return',\n",
       " 'try',\n",
       " 'while',\n",
       " 'with',\n",
       " 'yield']"
      ]
     },
     "execution_count": 26,
     "metadata": {},
     "output_type": "execute_result"
    }
   ],
   "source": [
    "import keyword\n",
    "#导入一个外部的包或者库\n",
    "\n",
    "\n",
    "keyword.kwlist#在.后面，说明这是keyword的函数"
   ]
  },
  {
   "cell_type": "code",
   "execution_count": null,
   "metadata": {},
   "outputs": [],
   "source": [
    "numberInput=input(\"请输入你的年龄\")\n",
    "\n",
    "if int(numberInput)>18:\n",
    "    print(\"chengren\")\n",
    "else:\n",
    "    print(\"child\")"
   ]
  },
  {
   "cell_type": "code",
   "execution_count": null,
   "metadata": {},
   "outputs": [],
   "source": []
  }
 ],
 "metadata": {
  "kernelspec": {
   "display_name": "Python 3",
   "language": "python",
   "name": "python3"
  },
  "language_info": {
   "codemirror_mode": {
    "name": "ipython",
    "version": 3
   },
   "file_extension": ".py",
   "mimetype": "text/x-python",
   "name": "python",
   "nbconvert_exporter": "python",
   "pygments_lexer": "ipython3",
   "version": "3.7.1"
  }
 },
 "nbformat": 4,
 "nbformat_minor": 2
}
