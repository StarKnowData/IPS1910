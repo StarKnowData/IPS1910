{
 "cells": [
  {
   "cell_type": "code",
   "execution_count": 1,
   "metadata": {},
   "outputs": [
    {
     "data": {
      "text/plain": [
       "['False',\n",
       " 'None',\n",
       " 'True',\n",
       " 'and',\n",
       " 'as',\n",
       " 'assert',\n",
       " 'async',\n",
       " 'await',\n",
       " 'break',\n",
       " 'class',\n",
       " 'continue',\n",
       " 'def',\n",
       " 'del',\n",
       " 'elif',\n",
       " 'else',\n",
       " 'except',\n",
       " 'finally',\n",
       " 'for',\n",
       " 'from',\n",
       " 'global',\n",
       " 'if',\n",
       " 'import',\n",
       " 'in',\n",
       " 'is',\n",
       " 'lambda',\n",
       " 'nonlocal',\n",
       " 'not',\n",
       " 'or',\n",
       " 'pass',\n",
       " 'raise',\n",
       " 'return',\n",
       " 'try',\n",
       " 'while',\n",
       " 'with',\n",
       " 'yield']"
      ]
     },
     "execution_count": 1,
     "metadata": {},
     "output_type": "execute_result"
    }
   ],
   "source": [
    "# 引入keyword包\n",
    "import keyword\n",
    "# 使用keyword包中的kwlist方法，列出所有保留字\n",
    "keyword.kwlist"
   ]
  },
  {
   "cell_type": "code",
   "execution_count": 2,
   "metadata": {},
   "outputs": [
    {
     "name": "stdout",
     "output_type": "stream",
     "text": [
      "    请输入点东西并按Enter 键    13\n",
      "13\n"
     ]
    }
   ],
   "source": [
    "# 用变量content接收输入的字符串\n",
    "content = input(\"    请输入点东西并按Enter 键    \")\n",
    "# 输出content\n",
    "print(content)"
   ]
  },
  {
   "cell_type": "code",
   "execution_count": 3,
   "metadata": {},
   "outputs": [
    {
     "name": "stdout",
     "output_type": "stream",
     "text": [
      "Hello World"
     ]
    }
   ],
   "source": [
    "# 一行写多行\n",
    "# 引入包；变量赋值；包的方法（看功能是输出）\n",
    "import sys;x = 'Hello World';sys.stdout.write(x + '')"
   ]
  },
  {
   "cell_type": "code",
   "execution_count": 4,
   "metadata": {},
   "outputs": [
    {
     "name": "stdout",
     "output_type": "stream",
     "text": [
      "123\n",
      "123123"
     ]
    }
   ],
   "source": [
    "#输出函数换行规则\n",
    "#默认换行\n",
    "print('123')\n",
    "#不换行\n",
    "print('123',end = '')\n",
    "print('123',end = '')"
   ]
  },
  {
   "cell_type": "code",
   "execution_count": 5,
   "metadata": {},
   "outputs": [
    {
     "name": "stdout",
     "output_type": "stream",
     "text": [
      "1 - c的值为： 31\n",
      "2 - c的值为： 11\n",
      "3 - c的值为： 210\n",
      "4 - c的值为： 2.1\n",
      "5 - c的值为： 1\n",
      "6 - c的值为： 8\n",
      "7 - c的值为： 2\n"
     ]
    }
   ],
   "source": [
    "#a、b、c变量赋值\n",
    "a = 21\n",
    "b = 10\n",
    "c = 0\n",
    "\n",
    "# 计算a+b的值并赋值给c\n",
    "c = a + b\n",
    "# 输出第1个c的值\n",
    "print(\"1 - c的值为：\",c)\n",
    "# 计算a-b的值并赋值给c\n",
    "c = a - b\n",
    "# 输出第2个c的值\n",
    "print(\"2 - c的值为：\",c)\n",
    "# 计算a*b的值并赋值给c\n",
    "c = a * b\n",
    "# 输出第3个c的值\n",
    "print(\"3 - c的值为：\",c)\n",
    "# 计算a/b的值并赋值给c\n",
    "c = a / b\n",
    "# 输出第4个c的值\n",
    "print(\"4 - c的值为：\",c)\n",
    "# 计算a%b的值并赋值给c\n",
    "c = a % b\n",
    "# 输出第5个c的值\n",
    "print(\"5 - c的值为：\",c)\n",
    "\n",
    "# 修改变量 a、b、c\n",
    "a = 2\n",
    "b = 3\n",
    "# 计算a**b的值并赋值给c\n",
    "c = a**b\n",
    "# 输出第6个c的值\n",
    "print(\"6 - c的值为：\",c)\n",
    "\n",
    "# 修改变量 a、b、c\n",
    "a = 10\n",
    "b = 5\n",
    "# 计算a//b的值并赋值给c\n",
    "c = a//b\n",
    "# 输出第7个c的值\n",
    "print(\"7 - c的值为：\",c)"
   ]
  },
  {
   "cell_type": "code",
   "execution_count": 6,
   "metadata": {},
   "outputs": [
    {
     "name": "stdout",
     "output_type": "stream",
     "text": [
      "1 - a 不等于 b\n",
      "2 - a 不等于 b\n",
      "3 - a 大于等于 b\n",
      "4 - a 大于 b\n",
      "5 - a 小于等于 b\n",
      "6 - b 大于等于 a\n"
     ]
    }
   ],
   "source": [
    "# 条件\n",
    "# 为a、b、c赋值\n",
    "a = 21\n",
    "b = 10\n",
    "c = 0\n",
    "\n",
    "# 如果a与b相等，输出“1_a等于b”，不然输出“1_a不等于b”\n",
    "if( a == b ):\n",
    "    print(\"1 - a 等于 b\")\n",
    "else:\n",
    "    print(\"1 - a 不等于 b\")\n",
    "\n",
    "# 如果a与b不相等，输出“2_a不等于b”，不然输出“2_a等于b”\n",
    "if( a != b ):\n",
    "    print(\"2 - a 不等于 b\")\n",
    "else:\n",
    "    print(\"2 - a 等于 b\")\n",
    "\n",
    "# 如果a小于b，输出“3_a小于b”，不然输出“3_a大于等于b”\n",
    "if( a < b ):\n",
    "    print(\"3 - a 小于 b\")\n",
    "else:\n",
    "    print(\"3 - a 大于等于 b\")\n",
    "    \n",
    "# 如果a大于b，输出“4_a大于b”，不然输出“4_a小于等于b”\n",
    "if( a > b ):\n",
    "    print(\"4 - a 大于 b\")\n",
    "else:\n",
    "    print(\"4 - a 小于等于 b\")\n",
    "    \n",
    "# 修改变量a和b的值\n",
    "a = 5\n",
    "b = 20\n",
    "# 如果a不大于b，输出“5_a小于等于b”，否则输出“5_a大于b”\n",
    "if (a <= b ):\n",
    "    print(\"5 - a 小于等于 b\")\n",
    "else:\n",
    "    print(\"5 - a 大于 b\")\n",
    "\n",
    "# 如果a不小于b，输出“6_b大于等于a”，否则输出“6_b小于a”\n",
    "if (b >= a ):\n",
    "    print(\"6 - b 大于等于 a\")\n",
    "else:\n",
    "    print(\"6 - b 小于 a\")\n"
   ]
  },
  {
   "cell_type": "code",
   "execution_count": 7,
   "metadata": {},
   "outputs": [
    {
     "name": "stdout",
     "output_type": "stream",
     "text": [
      "1 - c的值为： 31\n",
      "2 - c的值为： 52\n",
      "3 - c的值为： 1092\n",
      "4 - c的值为： 52.0\n",
      "5 - c的值为： 2\n",
      "6 - c的值为： 2097152\n",
      "7 - c的值为： 99864\n"
     ]
    }
   ],
   "source": [
    "# 赋值运算符\n",
    "# a、b、c赋值\n",
    "a = 21\n",
    "b = 10\n",
    "c = 0\n",
    "\n",
    "c = a + b\n",
    "print(\"1 - c的值为：\",c)\n",
    "\n",
    "#计算a+c的值并赋给c，输出c\n",
    "c += a\n",
    "print(\"2 - c的值为：\",c)\n",
    "\n",
    "# 计算c*a的值并赋给c，输出c\n",
    "c *= a\n",
    "print(\"3 - c的值为：\",c)\n",
    "\n",
    "# 计算c/a的值并赋给c，输出c\n",
    "c /= a\n",
    "print(\"4 - c的值为：\",c)\n",
    "\n",
    "# 改变c的初值，计算c%a的值并赋给c，输出c\n",
    "c = 2\n",
    "c %= a\n",
    "print(\"5 - c的值为：\",c)\n",
    "\n",
    "# 计算c**a的值并赋给c，输出c\n",
    "c **= a\n",
    "print(\"6 - c的值为：\",c)\n",
    "\n",
    "# 计算c//a的值并赋给c，输出c\n",
    "c //= a\n",
    "print(\"7 - c的值为：\",c)\n"
   ]
  },
  {
   "cell_type": "code",
   "execution_count": 8,
   "metadata": {},
   "outputs": [
    {
     "name": "stdout",
     "output_type": "stream",
     "text": [
      "1 - c的值为： 12\n",
      "2 - c的值为： 61\n",
      "3 - c的值为： 49\n",
      "4 - c的值为： -61\n",
      "5 - c的值为： 240\n",
      "6 - c的值为： 15\n"
     ]
    }
   ],
   "source": [
    "# 为a、b赋初值，二进制a = 00111100B    b = 00001101B\n",
    "a = 60\n",
    "b = 13\n",
    "c = 0\n",
    "# 按位与\n",
    "c = a & b\n",
    "print(\"1 - c的值为：\",c)\n",
    "\n",
    "# 按位或\n",
    "c = a | b\n",
    "print(\"2 - c的值为：\",c)\n",
    "\n",
    "# 按位异或\n",
    "c = a ^ b\n",
    "print(\"3 - c的值为：\",c)\n",
    "\n",
    "# 按位取反\n",
    "c = ~a\n",
    "print(\"4 - c的值为：\",c)\n",
    "\n",
    "# 左移两位\n",
    "c = a << 2\n",
    "print(\"5 - c的值为：\",c)\n",
    "\n",
    "# 右移两位\n",
    "c = a >> 2\n",
    "print(\"6 - c的值为：\",c)\n"
   ]
  },
  {
   "cell_type": "code",
   "execution_count": 9,
   "metadata": {},
   "outputs": [
    {
     "name": "stdout",
     "output_type": "stream",
     "text": [
      "1 - 变量 a 和 b 都为true\n",
      "2 - 变量 a 和 b 都为 true,或其中一个变量为 true\n",
      "3 - 变量 a 和 b 有一个不为true\n",
      "4 - 变量 a 和 b 都为true，或其中一个变量为true\n",
      "5 - 变量 a 和 b 都为false，或其中一个变量为false\n"
     ]
    }
   ],
   "source": [
    "# a、b赋初值\n",
    "a = 10\n",
    "b = 20\n",
    "\n",
    "# 逻辑与\n",
    "if ( a and b ):\n",
    "    print(\"1 - 变量 a 和 b 都为true\")\n",
    "else:\n",
    "    print(\"1 - 变量 a 和 b 有一个不为true\")\n",
    "    \n",
    "# 逻辑或\n",
    "if ( a or b ):\n",
    "    print(\"2 - 变量 a 和 b 都为 true,或其中一个变量为 true\")\n",
    "else:\n",
    "    print(\"2 - 变量 a 和 b 都不为true\")\n",
    "    \n",
    "# 逻辑与\n",
    "a = 0\n",
    "if ( a and b ):\n",
    "    print(\"3 - 变量 a 和 b 都为true\")\n",
    "else:\n",
    "    print(\"3 - 变量 a 和 b 有一个不为true\")\n",
    "    \n",
    "# 逻辑或\n",
    "if ( a or b ):\n",
    "    print(\"4 - 变量 a 和 b 都为true，或其中一个变量为true\")\n",
    "else:\n",
    "    print(\"4 - 变量 a 和 b 都不为true\")\n",
    "    \n",
    "# 逻辑与非\n",
    "if not( a and b ):\n",
    "    print(\"5 - 变量 a 和 b 都为false，或其中一个变量为false\")\n",
    "else:\n",
    "    print(\"5 - 变量 a 和 b 都为 true\")"
   ]
  },
  {
   "cell_type": "code",
   "execution_count": 10,
   "metadata": {},
   "outputs": [
    {
     "name": "stdout",
     "output_type": "stream",
     "text": [
      "1 - 变量 a 不在给定的列表 list 中\n",
      "2 - 变量 b 不在给定的列表 list 中\n",
      "3 - 变量 a 在给定的列表 list 中\n"
     ]
    }
   ],
   "source": [
    "# 成员运算符\n",
    "# a、b赋初值，定义list\n",
    "a = 10\n",
    "b = 20\n",
    "list = [1,2,3,4,5]\n",
    "\n",
    "if (a in list):\n",
    "    print(\"1 - 变量 a 在给定的列表 list 中\")\n",
    "else:\n",
    "    print(\"1 - 变量 a 不在给定的列表 list 中\")\n",
    "    \n",
    "if (b not in list):\n",
    "    print(\"2 - 变量 b 不在给定的列表 list 中\")\n",
    "else:\n",
    "    print(\"2 - 变量 b 在给定的列表 list 中\")\n",
    "    \n",
    "# 修改a的值\n",
    "a = 2\n",
    "if (a in list):\n",
    "    print(\"3 - 变量 a 在给定的列表 list 中\")\n",
    "else:\n",
    "    print(\"3 - 变量 a 不在给定的列表 list 中\")\n",
    "    "
   ]
  },
  {
   "cell_type": "code",
   "execution_count": 11,
   "metadata": {},
   "outputs": [
    {
     "name": "stdout",
     "output_type": "stream",
     "text": [
      "1 - a 和 b 有相同的标识\n",
      "2 - a 和 b 有相同的标识\n",
      "3 - a 和 b 没有相同的标识\n",
      "4 - a 和 b 没有相同的标识\n"
     ]
    }
   ],
   "source": [
    "# 身份运算符\n",
    "a = 20\n",
    "b = 20\n",
    "\n",
    "if (a is b):\n",
    "    print(\"1 - a 和 b 有相同的标识\")\n",
    "else:\n",
    "    print(\"1 - a 和 b 没有相同的标识\")\n",
    "    \n",
    "if (id(a) == id(b)):\n",
    "    print(\"2 - a 和 b 有相同的标识\")\n",
    "else:\n",
    "    print(\"2 - a 和 b 没有相同的标识\")\n",
    "\n",
    "# 修改变量b的值\n",
    "b = 30\n",
    "if (a is b):\n",
    "    print(\"3 - a 和 b 有相同的标识\")\n",
    "else:\n",
    "    print(\"3 - a 和 b 没有相同的标识\")\n",
    "    \n",
    "if (a is not b):\n",
    "    print(\"4 - a 和 b 没有相同的标识\")\n",
    "else:\n",
    "    print(\"4 - a 和 b 有相同的标识\")\n",
    "    \n",
    "\n"
   ]
  },
  {
   "cell_type": "code",
   "execution_count": 12,
   "metadata": {},
   "outputs": [
    {
     "name": "stdout",
     "output_type": "stream",
     "text": [
      "(a + b) * c/d 运算结果为： 90.0\n",
      "((a + b) * c) / d 运算结果为： 90.0\n",
      "(a + b) * (c / d) 运算结果为： 90.0\n",
      "a + (b * c) / d 运算结果为： 50.0\n"
     ]
    }
   ],
   "source": [
    "# 变量赋值\n",
    "a = 20\n",
    "b = 10\n",
    "c = 15\n",
    "d = 5\n",
    "e = 0\n",
    "\n",
    "# ( 30 * 15 ) / 5\n",
    "e = (a + b) * c/d   \n",
    "print(\"(a + b) * c/d 运算结果为：\", e)\n",
    "\n",
    "# ( 30 * 15 ) / 5\n",
    "e = ((a + b) * c) / d   \n",
    "print(\"((a + b) * c) / d 运算结果为：\", e)\n",
    "\n",
    "# (30)* (15 / 5)\n",
    "e = (a + b) * (c / d)   \n",
    "print(\"(a + b) * (c / d) 运算结果为：\", e)\n",
    "\n",
    "# 20 + (150/5)\n",
    "e = a + (b * c) / d   \n",
    "print(\"a + (b * c) / d 运算结果为：\", e)\n",
    "\n"
   ]
  },
  {
   "cell_type": "code",
   "execution_count": 13,
   "metadata": {},
   "outputs": [
    {
     "name": "stdout",
     "output_type": "stream",
     "text": [
      "var1[0]:  H\n",
      "var2[1:5]: unoo\n"
     ]
    }
   ],
   "source": [
    "# 字符串\n",
    "# 赋初值\n",
    "var1 = 'Hello World!'\n",
    "var2 = \"Runoob\"\n",
    "\n",
    "# 输出var1第一个字符，以及var2第2~4个字符\n",
    "print(\"var1[0]: \",var1[0])\n",
    "print(\"var2[1:5]:\",var2[1:5])"
   ]
  },
  {
   "cell_type": "code",
   "execution_count": 14,
   "metadata": {},
   "outputs": [
    {
     "name": "stdout",
     "output_type": "stream",
     "text": [
      "已更新字符串： Hello Runoob!\n"
     ]
    }
   ],
   "source": [
    "# 赋值\n",
    "var1 = 'Hello World!'\n",
    "# 输出var1前5个字符加上‘Runoob!’\n",
    "print(\"已更新字符串：\",var1[:6]+'Runoob!')"
   ]
  },
  {
   "cell_type": "code",
   "execution_count": 15,
   "metadata": {},
   "outputs": [
    {
     "name": "stdout",
     "output_type": "stream",
     "text": [
      " a + b 输出结果： HelloPython\n",
      " a * 2 输出结果： HelloHello\n",
      "a[1] 输出结果： e\n",
      "a[1:4] 输出结果： ell\n",
      "H 在变量 a 中\n",
      "M 不在变量 a 中\n",
      "\\n\n",
      "\\n\n"
     ]
    }
   ],
   "source": [
    "a = \"Hello\"\n",
    "b = \"Python\"\n",
    "\n",
    "print(\" a + b 输出结果：\",a + b)\n",
    "print(\" a * 2 输出结果：\",a * 2)\n",
    "print(\"a[1] 输出结果：\",a[1])\n",
    "print(\"a[1:4] 输出结果：\",a[1:4])\n",
    "\n",
    "# 输出即注释系列\n",
    "if( \"H\" in a):\n",
    "    print(\"H 在变量 a 中\")\n",
    "else:\n",
    "    print(\"H 不在变量 a 中\")\n",
    "\n",
    "if( \"M\" not in a):\n",
    "    print(\"M 不在变量 a 中\")\n",
    "else:\n",
    "    print(\"M 在变量 a 中\")\n",
    "    \n",
    "print(r'\\n')\n",
    "print(R'\\n')"
   ]
  },
  {
   "cell_type": "code",
   "execution_count": 16,
   "metadata": {},
   "outputs": [
    {
     "name": "stdout",
     "output_type": "stream",
     "text": [
      "我叫小明，今年10岁\n"
     ]
    }
   ],
   "source": [
    "# 字符串格式化\n",
    "print(\"我叫%s，今年%d岁\" % ('小明', 10)) "
   ]
  },
  {
   "cell_type": "code",
   "execution_count": 17,
   "metadata": {},
   "outputs": [
    {
     "name": "stdout",
     "output_type": "stream",
     "text": [
      "\n",
      "print(math.fbs(-10))\n",
      "print(\n",
      "random.choice(li))\n",
      "\n"
     ]
    }
   ],
   "source": [
    "# 三引号的应用\n",
    "string = '''\n",
    "print(math.fbs(-10))\n",
    "print(\n",
    "random.choice(li))\n",
    "'''\n",
    "print(string)"
   ]
  },
  {
   "cell_type": "code",
   "execution_count": 18,
   "metadata": {},
   "outputs": [
    {
     "data": {
      "text/plain": [
       "'abc'"
      ]
     },
     "execution_count": 18,
     "metadata": {},
     "output_type": "execute_result"
    }
   ],
   "source": [
    "# bytes转str\n",
    "b'abc'.decode()\n",
    "str(b'abc')\n",
    "str(b'abc',encoding='utf-8')"
   ]
  },
  {
   "cell_type": "code",
   "execution_count": 19,
   "metadata": {},
   "outputs": [
    {
     "data": {
      "text/plain": [
       "b'\\xe4\\xb8\\xad\\xe5\\x9b\\xbd'"
      ]
     },
     "execution_count": 19,
     "metadata": {},
     "output_type": "execute_result"
    }
   ],
   "source": [
    "# str转bytes：\n",
    "'中国'.encode()\n",
    "bytes('中国',encoding='utf-8')"
   ]
  },
  {
   "cell_type": "markdown",
   "metadata": {},
   "source": [
    "### 星星"
   ]
  },
  {
   "cell_type": "code",
   "execution_count": 20,
   "metadata": {},
   "outputs": [
    {
     "name": "stdout",
     "output_type": "stream",
     "text": [
      "*\n",
      "**\n",
      "***\n",
      "****\n",
      "*****\n"
     ]
    }
   ],
   "source": [
    "# 设置打印总行数，range(1,6)是5行\n",
    "for i in range(1,6):\n",
    "# 打印 * ，每行 * 数量与行数相同\n",
    "    print(i*'*')"
   ]
  },
  {
   "cell_type": "code",
   "execution_count": 21,
   "metadata": {},
   "outputs": [
    {
     "name": "stdout",
     "output_type": "stream",
     "text": [
      "*\n",
      "***\n",
      "*****\n",
      "*******\n",
      "*********\n"
     ]
    }
   ],
   "source": [
    "# 设置打印总行数，5行\n",
    "for i in range(1,6):\n",
    "# 设置每行的 * 数：行数的2倍减1\n",
    "    print((2*i-1)*'*')"
   ]
  },
  {
   "cell_type": "code",
   "execution_count": 22,
   "metadata": {},
   "outputs": [
    {
     "name": "stdout",
     "output_type": "stream",
     "text": [
      "   *\n",
      "  ***\n",
      " *****\n",
      "*******\n"
     ]
    }
   ],
   "source": [
    "# 设置打印总行数为4行\n",
    "for i in range(1,5):\n",
    "# 每行输出的 * 数量为行数的2倍减1，前面的空格数为总行数与当前行数的差值（比如当前总行数是4，第一行就是4-1）\n",
    "    print(' '*(4-i)+(2*i-1)*'*')"
   ]
  },
  {
   "cell_type": "code",
   "execution_count": 23,
   "metadata": {},
   "outputs": [
    {
     "name": "stdout",
     "output_type": "stream",
     "text": [
      "      *\n",
      "     **\n",
      "    ***\n",
      "   ****\n",
      "  *****\n",
      " ******\n"
     ]
    }
   ],
   "source": [
    "# 设置打印总行数6行\n",
    "for i in range(1,7):\n",
    "# 每行输出的 * 数量与行数相同，前面的空格数为总行数减当前行数\n",
    "    print(' '*(7-i)+i*'*')"
   ]
  },
  {
   "cell_type": "code",
   "execution_count": 24,
   "metadata": {},
   "outputs": [
    {
     "name": "stdout",
     "output_type": "stream",
     "text": [
      "   *\n",
      "  ***\n",
      " *****\n",
      "*******\n",
      " *****\n",
      "  ***\n",
      "   *\n"
     ]
    }
   ],
   "source": [
    "# 设置打印总行数7行\n",
    "for i in range(1,8):\n",
    "# 因为图形的特殊性，分成两部分，行数不大于4和大于4的\n",
    "    if i<= 4:\n",
    "#打印行数不大于4的部分\n",
    "        print(' '*(4-i)+(2*i-1)*'*')\n",
    "    else:\n",
    "# 打印行数大于4的部分\n",
    "        print(' '*(i-4)+(2*(8-i)-1)*'*')\n"
   ]
  },
  {
   "cell_type": "code",
   "execution_count": null,
   "metadata": {},
   "outputs": [],
   "source": []
  }
 ],
 "metadata": {
  "kernelspec": {
   "display_name": "Python 3",
   "language": "python",
   "name": "python3"
  },
  "language_info": {
   "codemirror_mode": {
    "name": "ipython",
    "version": 3
   },
   "file_extension": ".py",
   "mimetype": "text/x-python",
   "name": "python",
   "nbconvert_exporter": "python",
   "pygments_lexer": "ipython3",
   "version": "3.7.4"
  }
 },
 "nbformat": 4,
 "nbformat_minor": 2
}
