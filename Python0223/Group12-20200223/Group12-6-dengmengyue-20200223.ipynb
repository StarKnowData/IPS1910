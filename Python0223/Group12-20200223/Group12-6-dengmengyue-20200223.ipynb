{
 "cells": [
  {
   "cell_type": "markdown",
   "metadata": {},
   "source": [
    "# 第三章"
   ]
  },
  {
   "cell_type": "code",
   "execution_count": 1,
   "metadata": {},
   "outputs": [
    {
     "name": "stdout",
     "output_type": "stream",
     "text": [
      " 请输入内容 嘿嘿\n",
      "嘿嘿\n"
     ]
    }
   ],
   "source": [
    "content = input(\" 请输入内容 \") \n",
    "print(content)"
   ]
  },
  {
   "cell_type": "code",
   "execution_count": 2,
   "metadata": {},
   "outputs": [
    {
     "name": "stdout",
     "output_type": "stream",
     "text": [
      "123\n",
      "123"
     ]
    }
   ],
   "source": [
    "print('123') \n",
    "print('123', end = \"\")"
   ]
  },
  {
   "cell_type": "markdown",
   "metadata": {},
   "source": [
    "# 第四章"
   ]
  },
  {
   "cell_type": "code",
   "execution_count": 47,
   "metadata": {},
   "outputs": [
    {
     "name": "stdout",
     "output_type": "stream",
     "text": [
      "1 - c 的值为: 31\n",
      "2 - c 的值为: 11\n",
      "3 - c 的值为: 210\n",
      "4 - c 的值为: 2.1\n",
      "5 - c 的值为: 1\n",
      "6 - c 的值为: 8\n",
      "7 - c 的值为: 2\n"
     ]
    }
   ],
   "source": [
    "a = 21\n",
    "b = 10\n",
    "c = 0\n",
    "\n",
    "c = a + b\n",
    "print (\"1 - c 的值为:\",c)\n",
    "\n",
    "c = a - b\n",
    "print (\"2 - c 的值为:\",c)\n",
    "\n",
    "c = a * b\n",
    "print (\"3 - c 的值为:\",c)\n",
    "\n",
    "c = a / b\n",
    "print (\"4 - c 的值为:\",c)\n",
    "\n",
    "c = a % b\n",
    "print (\"5 - c 的值为:\",c)\n",
    "\n",
    "\n",
    "a = 2\n",
    "b = 3\n",
    "c = a**b \n",
    "print (\"6 - c 的值为:\", c)\n",
    "\n",
    "a = 10\n",
    "b = 5\n",
    "c = a//b \n",
    "print (\"7 - c 的值为:\", c)"
   ]
  },
  {
   "cell_type": "code",
   "execution_count": 24,
   "metadata": {},
   "outputs": [
    {
     "name": "stdout",
     "output_type": "stream",
     "text": [
      "1 - a 不等于 b\n",
      "2 - a 不等于 b\n",
      "3 - a 大于等于 b\n",
      "4 - a 大于 b\n",
      "5 - a 小于等于 b\n",
      "6 - b 大于等于 a\n"
     ]
    }
   ],
   "source": [
    "a = 21\n",
    "b = 10\n",
    "c = 0\n",
    "\n",
    "if ( a == b ):\n",
    "    print(\"1 - a 等于 b\")\n",
    "else:\n",
    "    print(\"1 - a 不等于 b\")\n",
    "    \n",
    "if ( a != b ):\n",
    "    print(\"2 - a 不等于 b\")\n",
    "else:\n",
    "    print(\"2 - a 等于 b\")\n",
    "    \n",
    "if ( a < b ):\n",
    "    print(\"3 - a 小于 b\")\n",
    "else:\n",
    "    print(\"3 - a 大于等于 b\")\n",
    "    \n",
    "if ( a > b ):\n",
    "    print(\"4 - a 大于 b\")\n",
    "else:\n",
    "    print(\"4 - a 小于等于 b\")\n",
    "\n",
    "\n",
    "a = 5;\n",
    "b = 20;\n",
    "if ( a <= b ):\n",
    "    print(\"5 - a 小于等于 b\")\n",
    "else:\n",
    "    print(\"5 - a 大于 b\")\n",
    "    \n",
    "if ( b >= a ):\n",
    "    print(\"6 - b 大于等于 a\")\n",
    "else:\n",
    "    print(\"6 - b 小于 a\")"
   ]
  },
  {
   "cell_type": "code",
   "execution_count": 25,
   "metadata": {},
   "outputs": [
    {
     "name": "stdout",
     "output_type": "stream",
     "text": [
      "1 - c的值为： 31\n",
      "2 - c的值为： 52\n",
      "3 - c的值为： 1092\n",
      "4 - c的值为： 52.0\n",
      "5 - c的值为： 2\n",
      "6 - c的值为： 2097152\n",
      "7 - c的值为： 99864\n"
     ]
    }
   ],
   "source": [
    "a = 21\n",
    "b = 10\n",
    "c = 0\n",
    "\n",
    "c = a + b\n",
    "print (\"1 - c的值为：\", c)\n",
    "\n",
    "c += a\n",
    "print (\"2 - c的值为：\", c)\n",
    "\n",
    "c *= a\n",
    "print (\"3 - c的值为：\", c)\n",
    "\n",
    "c /= a \n",
    "print (\"4 - c的值为：\", c)\n",
    "\n",
    "c = 2\n",
    "c %= a\n",
    "print (\"5 - c的值为：\", c)\n",
    "\n",
    "c **= a\n",
    "print (\"6 - c的值为：\", c)\n",
    "\n",
    "c //= a\n",
    "print (\"7 - c的值为：\", c)"
   ]
  },
  {
   "cell_type": "code",
   "execution_count": 36,
   "metadata": {},
   "outputs": [
    {
     "name": "stdout",
     "output_type": "stream",
     "text": [
      "1 - c 的值为: 12\n",
      "2-c 的值为: 61\n",
      "3-c 的值为: 49\n",
      "4-c 的值为: -61\n",
      "5-c 的值为: 240\n",
      "6-c 的值为: 15\n"
     ]
    }
   ],
   "source": [
    "a=60\n",
    "b=13\n",
    "c=0\n",
    "\n",
    "c=a & b;\n",
    "print(\"1 - c 的值为:\",c)\n",
    "\n",
    "c=a | b;\n",
    "print(\"2-c 的值为:\",c)\n",
    "\n",
    "c=a ^ b;\n",
    "print(\"3-c 的值为:\",c)\n",
    "\n",
    "c=~a;\n",
    "print(\"4-c 的值为:\",c)\n",
    "\n",
    "c=a << 2;\n",
    "print(\"5-c 的值为:\",c)\n",
    "\n",
    "c=a >> 2;\n",
    "print(\"6-c 的值为:\",c)"
   ]
  },
  {
   "cell_type": "code",
   "execution_count": 37,
   "metadata": {},
   "outputs": [
    {
     "name": "stdout",
     "output_type": "stream",
     "text": [
      "1 - 变量 a 和 b 都为 true\n",
      "2 - 变量 a 和 b 都为 true，或其中一个变量为 true\n",
      "3 - 变量 a 和 b 有一个不为 true\n",
      "4 - 变量 a 和 b 都为 true，或其中一个变量为 true\n",
      "5 - 变量 a 和 b 都为 false，或其中一个变量为 false\n"
     ]
    }
   ],
   "source": [
    "a = 10\n",
    "b = 20\n",
    "\n",
    "if ( a and b ):\n",
    "    print (\"1 - 变量 a 和 b 都为 true\")\n",
    "else:\n",
    "    print (\"1 - 变量 a 和 b 有一个不为 true\")\n",
    "\n",
    "if ( a or b ):\n",
    "    print (\"2 - 变量 a 和 b 都为 true，或其中一个变量为 true\")\n",
    "else:\n",
    "    print (\"2 - 变量 a 和 b 都不为 true\")\n",
    "    \n",
    "\n",
    "a = 0\n",
    "if ( a and b ):\n",
    "    print (\"3 - 变量 a 和 b 都为 true\")\n",
    "else:\n",
    "    print (\"3 - 变量 a 和 b 有一个不为 true\")\n",
    "    \n",
    "if ( a or b ):\n",
    "    print (\"4 - 变量 a 和 b 都为 true，或其中一个变量为 true\")\n",
    "else:\n",
    "    print (\"4 - 变量 a 和 b 都不为 true\")\n",
    "    \n",
    "if not( a and b ):\n",
    "    print (\"5 - 变量 a 和 b 都为 false，或其中一个变量为 false\")\n",
    "else:\n",
    "    print (\"5 - 变量 a 和 b 都不为 true\")"
   ]
  },
  {
   "cell_type": "code",
   "execution_count": 38,
   "metadata": {},
   "outputs": [
    {
     "name": "stdout",
     "output_type": "stream",
     "text": [
      "1 - 变量 a 不在给定的列表list中\n",
      "2 - 变量 b 不在给定的列表list中\n",
      "3 - 变量 a 在给定的列表list中\n"
     ]
    }
   ],
   "source": [
    "a = 10\n",
    "b = 20\n",
    "list = [1, 2, 3, 4, 5 ];\n",
    "\n",
    "if ( a in list ):\n",
    "    print (\"1 - 变量 a 在给定的列表list中\")\n",
    "else:\n",
    "    print (\"1 - 变量 a 不在给定的列表list中\")\n",
    "    \n",
    "if ( b not in list ):\n",
    "    print (\"2 - 变量 b 不在给定的列表list中\")\n",
    "else:\n",
    "    print (\"2 - 变量 b 在给定的列表list中\")\n",
    "    \n",
    "\n",
    "a = 2\n",
    "if ( a in list ):\n",
    "    print (\"3 - 变量 a 在给定的列表list中\")\n",
    "else:\n",
    "    print(\"3 - 变量 a 不在给定的列表list中\")"
   ]
  },
  {
   "cell_type": "code",
   "execution_count": 39,
   "metadata": {},
   "outputs": [
    {
     "name": "stdout",
     "output_type": "stream",
     "text": [
      "1 - a 和 b 有相同的标识\n",
      "2 - a 和 b 有相同的标识\n",
      "3 - a 和 b 没有相同的标识\n",
      "4 - a 和 b 没有相同的标识\n"
     ]
    }
   ],
   "source": [
    "a = 20\n",
    "b = 20\n",
    "\n",
    "if ( a is b ):\n",
    "    print (\"1 - a 和 b 有相同的标识\")\n",
    "else:\n",
    "    print (\"1 - a 和 b 没有相同的标识\")\n",
    "    \n",
    "if ( id(a) == id(b) ):\n",
    "    print (\"2 - a 和 b 有相同的标识\")\n",
    "else:\n",
    "    print (\"2 - a 和 b 没有相同的标识\")\n",
    "\n",
    "b = 30\n",
    "if ( a is b ):\n",
    "    print (\"3 - a 和 b 有相同的标识\")\n",
    "else:\n",
    "    print (\"3 - a 和 b 没有相同的标识\")\n",
    "    \n",
    "if ( a is not b ):\n",
    "    print (\"4 - a 和 b 没有相同的标识\")\n",
    "else:\n",
    "    print (\"4 - a 和 b 有相同的标识\")"
   ]
  },
  {
   "cell_type": "code",
   "execution_count": 41,
   "metadata": {},
   "outputs": [
    {
     "data": {
      "text/plain": [
       "True"
      ]
     },
     "execution_count": 41,
     "metadata": {},
     "output_type": "execute_result"
    }
   ],
   "source": [
    "a = [1, 2, 3]\n",
    "b = a\n",
    "b is a "
   ]
  },
  {
   "cell_type": "code",
   "execution_count": 42,
   "metadata": {},
   "outputs": [
    {
     "data": {
      "text/plain": [
       "True"
      ]
     },
     "execution_count": 42,
     "metadata": {},
     "output_type": "execute_result"
    }
   ],
   "source": [
    "a = [1, 2, 3]\n",
    "b = a\n",
    "b == a"
   ]
  },
  {
   "cell_type": "code",
   "execution_count": 43,
   "metadata": {},
   "outputs": [
    {
     "data": {
      "text/plain": [
       "False"
      ]
     },
     "execution_count": 43,
     "metadata": {},
     "output_type": "execute_result"
    }
   ],
   "source": [
    "a = [1, 2, 3]\n",
    "b = a\n",
    "b = a[:]\n",
    "b is a"
   ]
  },
  {
   "cell_type": "code",
   "execution_count": 44,
   "metadata": {},
   "outputs": [
    {
     "data": {
      "text/plain": [
       "True"
      ]
     },
     "execution_count": 44,
     "metadata": {},
     "output_type": "execute_result"
    }
   ],
   "source": [
    "a = [1, 2, 3]\n",
    "b = a\n",
    "b = a[:]\n",
    "b is a\n",
    "b == a"
   ]
  },
  {
   "cell_type": "code",
   "execution_count": 45,
   "metadata": {},
   "outputs": [
    {
     "name": "stdout",
     "output_type": "stream",
     "text": [
      "(a + b) * c / d 运算结果为: 90.0\n",
      "((a + b) * c) / d 运算结果为: 90.0\n",
      "(a + b) * (c / d) 运算结果为: 90.0\n",
      "a + (b * c) / d 运算结果为: 50.0\n"
     ]
    }
   ],
   "source": [
    "a = 20\n",
    "b = 10\n",
    "c = 15\n",
    "d = 5\n",
    "e = 0\n",
    "\n",
    "e = (a + b) * c / d \n",
    "print (\"(a + b) * c / d 运算结果为:\", e)\n",
    "\n",
    "e = ((a + b) * c) / d \n",
    "print (\"((a + b) * c) / d 运算结果为:\", e)\n",
    "\n",
    "e = (a + b) * (c / d);\n",
    "print (\"(a + b) * (c / d) 运算结果为:\", e)\n",
    "\n",
    "e = a + (b * c) / d; \n",
    "print (\"a + (b * c) / d 运算结果为:\", e)"
   ]
  },
  {
   "cell_type": "markdown",
   "metadata": {},
   "source": [
    "# 第五章"
   ]
  },
  {
   "cell_type": "code",
   "execution_count": 29,
   "metadata": {},
   "outputs": [
    {
     "data": {
      "text/plain": [
       "4"
      ]
     },
     "execution_count": 29,
     "metadata": {},
     "output_type": "execute_result"
    }
   ],
   "source": [
    "2+2"
   ]
  },
  {
   "cell_type": "code",
   "execution_count": 4,
   "metadata": {},
   "outputs": [
    {
     "data": {
      "text/plain": [
       "20"
      ]
     },
     "execution_count": 4,
     "metadata": {},
     "output_type": "execute_result"
    }
   ],
   "source": [
    "50-5*6"
   ]
  },
  {
   "cell_type": "code",
   "execution_count": 8,
   "metadata": {},
   "outputs": [
    {
     "data": {
      "text/plain": [
       "5.0"
      ]
     },
     "execution_count": 8,
     "metadata": {},
     "output_type": "execute_result"
    }
   ],
   "source": [
    "(50-5*6)/ 4"
   ]
  },
  {
   "cell_type": "code",
   "execution_count": 9,
   "metadata": {},
   "outputs": [
    {
     "data": {
      "text/plain": [
       "1.6"
      ]
     },
     "execution_count": 9,
     "metadata": {},
     "output_type": "execute_result"
    }
   ],
   "source": [
    "8 / 5"
   ]
  },
  {
   "cell_type": "markdown",
   "metadata": {},
   "source": [
    "# 第六章"
   ]
  },
  {
   "cell_type": "code",
   "execution_count": 10,
   "metadata": {},
   "outputs": [],
   "source": [
    "var1 = 'Hello World!'\n",
    "var2 = \"Runoob\""
   ]
  },
  {
   "cell_type": "code",
   "execution_count": 11,
   "metadata": {},
   "outputs": [
    {
     "name": "stdout",
     "output_type": "stream",
     "text": [
      "var1[0]:  H\n",
      "var2[1:5]:  unoo\n"
     ]
    }
   ],
   "source": [
    "var1 = 'Hello World!'\n",
    "var2 = \"Runoob\"\n",
    "print (\"var1[0]: \", var1[0])\n",
    "print (\"var2[1:5]: \", var2[1:5])"
   ]
  },
  {
   "cell_type": "code",
   "execution_count": 12,
   "metadata": {},
   "outputs": [
    {
     "name": "stdout",
     "output_type": "stream",
     "text": [
      "更新 :  Hello Runoob!\n"
     ]
    }
   ],
   "source": [
    "var1 = 'Hello World!'\n",
    "print (\"更新 : \", var1[:6] + 'Runoob!')"
   ]
  },
  {
   "cell_type": "code",
   "execution_count": 14,
   "metadata": {},
   "outputs": [
    {
     "name": "stdout",
     "output_type": "stream",
     "text": [
      "a + b 输出结果： HelloPython\n",
      "a * 2 输出结果： HelloHello\n",
      "a[1] 输出结果： e\n",
      "a[1:4] 输出结果： ell\n",
      "H在变量a中\n",
      "M不在变量a中\n",
      "\\n\n",
      "\\n\n"
     ]
    }
   ],
   "source": [
    "a = \"Hello\"\n",
    "b = \"Python\"\n",
    "print(\"a + b 输出结果：\", a + b)\n",
    "print(\"a * 2 输出结果：\", a * 2)\n",
    "print(\"a[1] 输出结果：\", a[1])\n",
    "print(\"a[1:4] 输出结果：\", a[1:4])\n",
    "\n",
    "if( \"H\" in a) :\n",
    " print(\"H在变量a中\")\n",
    "else :\n",
    " print(\"H不在变量a中\")\n",
    "\n",
    "if( \"M\" not in a) :\n",
    " print(\"M不在变量a中\")\n",
    "else :\n",
    " print(\"M在变量a中\")\n",
    "\n",
    "print (r'\\n')\n",
    "print (R'\\n')"
   ]
  },
  {
   "cell_type": "code",
   "execution_count": 19,
   "metadata": {},
   "outputs": [
    {
     "name": "stdout",
     "output_type": "stream",
     "text": [
      "我叫 森森，今年  18岁\n"
     ]
    }
   ],
   "source": [
    "print(\"我叫 %s，今年  %d岁\" % ('森森', 18))"
   ]
  },
  {
   "cell_type": "code",
   "execution_count": 20,
   "metadata": {},
   "outputs": [
    {
     "name": "stdout",
     "output_type": "stream",
     "text": [
      " \n",
      "print( math.fabs(-10)) \n",
      "print( \n",
      "random.choice(li)) \n",
      "\n"
     ]
    }
   ],
   "source": [
    "string = ''' \n",
    "print( math.fabs(-10)) \n",
    "print( \n",
    "random.choice(li)) \n",
    "''' \n",
    "print(string)"
   ]
  },
  {
   "cell_type": "markdown",
   "metadata": {},
   "source": [
    "# 第七章"
   ]
  },
  {
   "cell_type": "code",
   "execution_count": 21,
   "metadata": {},
   "outputs": [
    {
     "data": {
      "text/plain": [
       "'abc'"
      ]
     },
     "execution_count": 21,
     "metadata": {},
     "output_type": "execute_result"
    }
   ],
   "source": [
    "b'abc'.decode() \n",
    "str(b'abc') \n",
    "str(b'abc', encoding='utf-8')"
   ]
  },
  {
   "cell_type": "code",
   "execution_count": 23,
   "metadata": {},
   "outputs": [
    {
     "data": {
      "text/plain": [
       "b'\\xe4\\xb8\\xad\\xe5\\x9b\\xbd'"
      ]
     },
     "execution_count": 23,
     "metadata": {},
     "output_type": "execute_result"
    }
   ],
   "source": [
    "'中国'.encode() \n",
    "bytes('中国', encoding='utf-8')"
   ]
  },
  {
   "cell_type": "markdown",
   "metadata": {},
   "source": []
  },
  {
   "cell_type": "markdown",
   "metadata": {},
   "source": [
    "# 星星"
   ]
  },
  {
   "cell_type": "code",
   "execution_count": 48,
   "metadata": {},
   "outputs": [
    {
     "name": "stdout",
     "output_type": "stream",
     "text": [
      "*****\n",
      "*****\n",
      "*****\n",
      "*****\n",
      "*****\n"
     ]
    }
   ],
   "source": [
    "for row in range(5):\n",
    "    for column in range(5):\n",
    "        print(\"*\",end='')\n",
    "    print(\"\")"
   ]
  },
  {
   "cell_type": "code",
   "execution_count": 49,
   "metadata": {},
   "outputs": [
    {
     "name": "stdout",
     "output_type": "stream",
     "text": [
      "*\n",
      "**\n",
      "***\n",
      "****\n",
      "*****\n"
     ]
    }
   ],
   "source": [
    "#作业1-1\n",
    "for i in range(5):\n",
    "    for column in range(i+1):\n",
    "        print(\"*\",end='')\n",
    "    print(\"\")"
   ]
  },
  {
   "cell_type": "code",
   "execution_count": 65,
   "metadata": {},
   "outputs": [
    {
     "name": "stdout",
     "output_type": "stream",
     "text": [
      "* \n",
      "* * \n",
      "* * * \n",
      "* * * * \n",
      "* * * * * \n"
     ]
    }
   ],
   "source": [
    "#作业1-2\n",
    "for i in range(5):\n",
    "        print(\"* \" * (i+1))"
   ]
  },
  {
   "cell_type": "code",
   "execution_count": 50,
   "metadata": {},
   "outputs": [
    {
     "name": "stdout",
     "output_type": "stream",
     "text": [
      "*\n",
      "***\n",
      "*****\n",
      "*******\n",
      "*********\n"
     ]
    }
   ],
   "source": [
    "#作业2\n",
    "for r in range(5):\n",
    "    for column in range(r):\n",
    "        print(\"**\",end='')\n",
    "    print(\"*\")"
   ]
  },
  {
   "cell_type": "code",
   "execution_count": 79,
   "metadata": {},
   "outputs": [
    {
     "name": "stdout",
     "output_type": "stream",
     "text": [
      "    *\n",
      "   ***\n",
      "  *****\n",
      " *******\n",
      "*********\n"
     ]
    }
   ],
   "source": [
    "#作业3-1\n",
    "num=5\n",
    "for i in range(1,num+1):\n",
    "    print(' '*(num-i)+'*'*(2*i-1))"
   ]
  },
  {
   "cell_type": "code",
   "execution_count": 51,
   "metadata": {},
   "outputs": [
    {
     "name": "stdout",
     "output_type": "stream",
     "text": [
      "     *\n",
      "    ***\n",
      "   *****\n",
      "  *******\n",
      " *********\n"
     ]
    }
   ],
   "source": [
    "#作业3-2\n",
    "for r in range(5):\n",
    "    print(\" \"*(5-r),end='')\n",
    "    for column in range(r):\n",
    "        print(\"**\",end='')\n",
    "    print(\"*\")"
   ]
  },
  {
   "cell_type": "code",
   "execution_count": 52,
   "metadata": {},
   "outputs": [
    {
     "name": "stdout",
     "output_type": "stream",
     "text": [
      "      *\n",
      "     **\n",
      "    ***\n",
      "   ****\n",
      "  *****\n",
      " ******\n"
     ]
    }
   ],
   "source": [
    "#作业4\n",
    "for i in range(6):\n",
    "    print(\" \"*(6-i),end='')\n",
    "    for column in range(i):\n",
    "        print(\"*\",end='')\n",
    "    print(\"*\")"
   ]
  },
  {
   "cell_type": "code",
   "execution_count": 63,
   "metadata": {},
   "outputs": [
    {
     "name": "stdout",
     "output_type": "stream",
     "text": [
      "   *\n",
      "  ***\n",
      " *****\n",
      "*******\n",
      " *****\n",
      "  ***\n",
      "   *\n",
      "    \n"
     ]
    }
   ],
   "source": [
    "#作业5-1\n",
    "def print_xiaoxingxing(raw):\n",
    "    #raw: 菱形边的* 数\n",
    "    for i in range(1, raw + 1):\n",
    "        print((raw - i) * ' ' + (2 * i - 1) * '*')\n",
    "    for i in range(1, raw + 1):\n",
    "        print(i * ' ' + (2 * (raw - i) - 1) * '*')\n",
    "\n",
    "print_xiaoxingxing(4)"
   ]
  },
  {
   "cell_type": "code",
   "execution_count": 64,
   "metadata": {},
   "outputs": [
    {
     "name": "stdout",
     "output_type": "stream",
     "text": [
      "   *\n",
      "  ***\n",
      " *****\n",
      "*******\n",
      " *****\n",
      "  ***\n",
      "   *\n"
     ]
    }
   ],
   "source": [
    "#作业5-2\n",
    "i=1\n",
    "while(i<=4):\n",
    "    xingxing = \" \"*(4-i) + \"*\"*(i)+\"*\"*(i-1)  \n",
    "    print(xingxing)\n",
    "    i+=1\n",
    "i=3\n",
    "while(i>=1):\n",
    "    xingxing = ' '*(4-i) + \"*\"*(2*i-1) \n",
    "    print(xingxing)\n",
    "    i-=1"
   ]
  }
 ],
 "metadata": {
  "kernelspec": {
   "display_name": "Python 3",
   "language": "python",
   "name": "python3"
  },
  "language_info": {
   "codemirror_mode": {
    "name": "ipython",
    "version": 3
   },
   "file_extension": ".py",
   "mimetype": "text/x-python",
   "name": "python",
   "nbconvert_exporter": "python",
   "pygments_lexer": "ipython3",
   "version": "3.7.4"
  }
 },
 "nbformat": 4,
 "nbformat_minor": 2
}
