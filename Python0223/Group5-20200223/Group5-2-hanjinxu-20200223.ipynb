{
 "cells": [
  {
   "cell_type": "code",
   "execution_count": 1,
   "metadata": {},
   "outputs": [
    {
     "name": "stdout",
     "output_type": "stream",
     "text": [
      "Hello python, I am Hanjinxu.Glad to see you!\n"
     ]
    }
   ],
   "source": [
    "print(\"Hello python, I am Hanjinxu.Glad to see you!\")"
   ]
  },
  {
   "cell_type": "code",
   "execution_count": 2,
   "metadata": {},
   "outputs": [],
   "source": [
    "\n",
    "A=10\n",
    "a=11"
   ]
  },
  {
   "cell_type": "code",
   "execution_count": 3,
   "metadata": {},
   "outputs": [
    {
     "data": {
      "text/plain": [
       "11"
      ]
     },
     "execution_count": 3,
     "metadata": {},
     "output_type": "execute_result"
    }
   ],
   "source": [
    "a"
   ]
  },
  {
   "cell_type": "code",
   "execution_count": 4,
   "metadata": {},
   "outputs": [
    {
     "data": {
      "text/plain": [
       "10"
      ]
     },
     "execution_count": 4,
     "metadata": {},
     "output_type": "execute_result"
    }
   ],
   "source": [
    "A"
   ]
  },
  {
   "cell_type": "code",
   "execution_count": 5,
   "metadata": {},
   "outputs": [
    {
     "data": {
      "text/plain": [
       "['False',\n",
       " 'None',\n",
       " 'True',\n",
       " 'and',\n",
       " 'as',\n",
       " 'assert',\n",
       " 'async',\n",
       " 'await',\n",
       " 'break',\n",
       " 'class',\n",
       " 'continue',\n",
       " 'def',\n",
       " 'del',\n",
       " 'elif',\n",
       " 'else',\n",
       " 'except',\n",
       " 'finally',\n",
       " 'for',\n",
       " 'from',\n",
       " 'global',\n",
       " 'if',\n",
       " 'import',\n",
       " 'in',\n",
       " 'is',\n",
       " 'lambda',\n",
       " 'nonlocal',\n",
       " 'not',\n",
       " 'or',\n",
       " 'pass',\n",
       " 'raise',\n",
       " 'return',\n",
       " 'try',\n",
       " 'while',\n",
       " 'with',\n",
       " 'yield']"
      ]
     },
     "execution_count": 5,
     "metadata": {},
     "output_type": "execute_result"
    }
   ],
   "source": [
    "import keyword # 引入一个外部的包 库\n",
    "\n",
    "keyword.kwlist"
   ]
  },
  {
   "cell_type": "code",
   "execution_count": 6,
   "metadata": {},
   "outputs": [],
   "source": [
    "#CRM\n",
    "#客户管理系统\n"
   ]
  },
  {
   "cell_type": "code",
   "execution_count": 7,
   "metadata": {},
   "outputs": [
    {
     "data": {
      "text/plain": [
       "'\\n我也是多行注释，我只不过是双引号，跟上面没区别\\n'"
      ]
     },
     "execution_count": 7,
     "metadata": {},
     "output_type": "execute_result"
    }
   ],
   "source": [
    "#新冠肺炎的分析研究项目\n",
    "\n",
    "#xinguan\n",
    "\n",
    "#NCP/COVID19\n",
    "\n",
    "#survivedcount=治疗好的个数\n",
    "\n",
    "\n",
    "\n",
    "'''\n",
    "\n",
    "'''\n",
    "#多行注释\n",
    "\n",
    "\n",
    "\"\"\"\n",
    "我也是多行注释，我只不过是双引号，跟上面没区别\n",
    "\"\"\"\n",
    "\n",
    "\n",
    "\n",
    "\n",
    "\n",
    "\n",
    "\n",
    "\n",
    "\n",
    "\n",
    "\n",
    "\n",
    "\n"
   ]
  },
  {
   "cell_type": "code",
   "execution_count": 8,
   "metadata": {},
   "outputs": [
    {
     "name": "stdout",
     "output_type": "stream",
     "text": [
      "A==11\n"
     ]
    }
   ],
   "source": [
    "#每一个代码，1.5行注释\n",
    "if a==11:\n",
    "    print('A==11')\n",
    "else:\n",
    "    print('A<>11')"
   ]
  },
  {
   "cell_type": "code",
   "execution_count": 9,
   "metadata": {},
   "outputs": [
    {
     "name": "stdout",
     "output_type": "stream",
     "text": [
      "请输入你的年龄22\n",
      "Adault\n"
     ]
    }
   ],
   "source": [
    "numberinput=int(input('请输入你的年龄'))\n",
    "if numberinput>18:\n",
    "    print('Adault')\n",
    "else:\n",
    "    print('child')"
   ]
  },
  {
   "cell_type": "code",
   "execution_count": 10,
   "metadata": {},
   "outputs": [
    {
     "name": "stdout",
     "output_type": "stream",
     "text": [
      "monday,monday,friday,"
     ]
    }
   ],
   "source": [
    "print(\"monday\",end=',')\n",
    "print(\"monday\",end=',')\n",
    "print(\"friday\",end=',')\n",
    "\n",
    "#&与(只有两个都是1，才是1)\n",
    "\n",
    "#|或(只要有一个是1)\n",
    "#complex  只有python有\n",
    "\n",
    "\n",
    "\n"
   ]
  },
  {
   "cell_type": "code",
   "execution_count": 13,
   "metadata": {},
   "outputs": [
    {
     "data": {
      "text/plain": [
       "['False',\n",
       " 'None',\n",
       " 'True',\n",
       " 'and',\n",
       " 'as',\n",
       " 'assert',\n",
       " 'async',\n",
       " 'await',\n",
       " 'break',\n",
       " 'class',\n",
       " 'continue',\n",
       " 'def',\n",
       " 'del',\n",
       " 'elif',\n",
       " 'else',\n",
       " 'except',\n",
       " 'finally',\n",
       " 'for',\n",
       " 'from',\n",
       " 'global',\n",
       " 'if',\n",
       " 'import',\n",
       " 'in',\n",
       " 'is',\n",
       " 'lambda',\n",
       " 'nonlocal',\n",
       " 'not',\n",
       " 'or',\n",
       " 'pass',\n",
       " 'raise',\n",
       " 'return',\n",
       " 'try',\n",
       " 'while',\n",
       " 'with',\n",
       " 'yield']"
      ]
     },
     "execution_count": 13,
     "metadata": {},
     "output_type": "execute_result"
    }
   ],
   "source": [
    "#作业作业作业作业作业作业作业作业作业作业作业作业作业作业作业作业作业作业作业作业作业作业作业作业作业作业作业作业作业作业作业：\n",
    "# -*- coding: utf-8 -*-\n",
    "# encoding: utf-8\n",
    "import keyword # 引入一个外部的包 库\n",
    "\n",
    "keyword.kwlist\n",
    "\n",
    "\n",
    "\n",
    "\n"
   ]
  },
  {
   "cell_type": "code",
   "execution_count": null,
   "metadata": {},
   "outputs": [],
   "source": [
    "\n",
    "'''\n",
    "\n",
    "'''\n",
    "#多行注释\n",
    "\n",
    "\n",
    "\"\"\"\n",
    "我也是多行注释，我只不过是双引号，跟上面没区别\n",
    "\"\"\""
   ]
  },
  {
   "cell_type": "code",
   "execution_count": 15,
   "metadata": {},
   "outputs": [],
   "source": [
    "total=item_one+\\\n",
    " item_two + \\\n",
    " item_thre\n",
    "#在[],{},()中多行语句，不需要反斜杠\n"
   ]
  },
  {
   "cell_type": "code",
   "execution_count": 16,
   "metadata": {},
   "outputs": [
    {
     "name": "stdout",
     "output_type": "stream",
     "text": [
      "请输入东西按enter666\n",
      "666\n"
     ]
    }
   ],
   "source": [
    "content=input('请输入东西按enter')\n",
    "print(content)\n",
    "#input等待并接受命令行中的用户输入\n"
   ]
  },
  {
   "cell_type": "code",
   "execution_count": 19,
   "metadata": {},
   "outputs": [
    {
     "name": "stdout",
     "output_type": "stream",
     "text": [
      "hello world"
     ]
    }
   ],
   "source": [
    "import sys;x='hello world';sys.stdout.write(x+\n",
    "'')\n",
    "#同一行可使用多条语句，语句之间用分号分割"
   ]
  },
  {
   "cell_type": "code",
   "execution_count": 20,
   "metadata": {},
   "outputs": [
    {
     "name": "stdout",
     "output_type": "stream",
     "text": [
      "123\n",
      "123"
     ]
    }
   ],
   "source": [
    "print('123')#默认换行\n",
    "print('123',end='')#不换行\n"
   ]
  },
  {
   "cell_type": "code",
   "execution_count": 23,
   "metadata": {},
   "outputs": [
    {
     "name": "stdout",
     "output_type": "stream",
     "text": [
      "1-c的值为 31\n",
      "2-c的值为： 11\n",
      "3-c的值为： 210\n",
      "4-c的值为： 2.1\n",
      "5-c的值为： 1\n",
      "6-c的值为： 8\n",
      "7-c的值为： 2\n"
     ]
    }
   ],
   "source": [
    "a=21\n",
    "b=10\n",
    "c=0\n",
    "\n",
    "c=a+b\n",
    "print(\"1-c的值为\",c)\n",
    "\n",
    "c=a-b\n",
    "print('2-c的值为：',c)\n",
    "\n",
    "c=a*b\n",
    "print('3-c的值为：',c)\n",
    "\n",
    "c=a/b\n",
    "print('4-c的值为：',c)\n",
    "\n",
    "c=a%b\n",
    "print('5-c的值为：',c)\n",
    "#修改变量a b c\n",
    "a=2\n",
    "b=3\n",
    "c=a**b\n",
    "print('6-c的值为：',c)\n",
    "\n",
    "a=10\n",
    "b=5\n",
    "c=a//b\n",
    "print('7-c的值为：',c)"
   ]
  },
  {
   "cell_type": "code",
   "execution_count": 24,
   "metadata": {},
   "outputs": [
    {
     "name": "stdout",
     "output_type": "stream",
     "text": [
      "1-a不等于b\n",
      "2-a不等于b\n",
      "3-a大于等于b\n",
      "5-a小于等于b\n",
      "6-b大于等于a\n"
     ]
    }
   ],
   "source": [
    "a=21\n",
    "b=10\n",
    "c=0\n",
    "if (a==b):\n",
    "    print('1-a=b')\n",
    "else:\n",
    "    print('1-a不等于b')\n",
    "    \n",
    "if (a!=b):\n",
    "    print('2-a不等于b')\n",
    "else:\n",
    "    print('2-a等于b')\n",
    "    \n",
    "if (a<b):\n",
    "    print('3-a小于b')\n",
    "else:\n",
    "    print('3-a大于等于b')\n",
    "    \n",
    "#修改变量a和b的值\n",
    "\n",
    "a=5;\n",
    "b=20;\n",
    "if (a<=b):\n",
    "    print('5-a小于等于b')\n",
    "else:\n",
    "    print('5-a大于b')\n",
    "    \n",
    "    \n",
    "if (b>=a):\n",
    "    print('6-b大于等于a')\n",
    "else:\n",
    "    print('6-b小于a')"
   ]
  },
  {
   "cell_type": "code",
   "execution_count": 25,
   "metadata": {},
   "outputs": [
    {
     "name": "stdout",
     "output_type": "stream",
     "text": [
      "1-c的值为 31\n",
      "2-c的值为 52\n",
      "3-c的值为 1092\n",
      "4-c的值为 52.0\n",
      "5-c的值为 2\n",
      "6-c的值为 2097152\n",
      "7-c的值为 99864\n"
     ]
    }
   ],
   "source": [
    "\n",
    "a=21\n",
    "b=10\n",
    "c=0\n",
    "\n",
    "\n",
    "c=a+b\n",
    "print('1-c的值为',c)\n",
    "\n",
    "c+=a\n",
    "print('2-c的值为',c)\n",
    "\n",
    "c*=a\n",
    "print('3-c的值为',c)\n",
    "\n",
    "c/=a\n",
    "print('4-c的值为',c)\n",
    "\n",
    "c=2\n",
    "c%=a\n",
    "print('5-c的值为',c)\n",
    "\n",
    "c**=a\n",
    "print('6-c的值为',c)\n",
    "\n",
    "c//=a\n",
    "print('7-c的值为',c)\n"
   ]
  },
  {
   "cell_type": "code",
   "execution_count": 30,
   "metadata": {},
   "outputs": [
    {
     "data": {
      "text/plain": [
       "'a=00111100\\nb=00001101\\nc=a&b\\nd=a|b\\ne=a^b\\nf=~a'"
      ]
     },
     "execution_count": 30,
     "metadata": {},
     "output_type": "execute_result"
    }
   ],
   "source": [
    "a=00111100\n",
    "b=00001101\n",
    "a&b=00001100\n",
    "a|b=00111101\n",
    "a^b=00110001\n",
    "~a=11000011\n",
    "\n"
   ]
  },
  {
   "cell_type": "code",
   "execution_count": 31,
   "metadata": {},
   "outputs": [
    {
     "name": "stdout",
     "output_type": "stream",
     "text": [
      "1-c 12\n",
      "2-c 49\n",
      "3-c 61\n",
      "4-c -61\n",
      "5-c 240\n",
      "6-c 15\n"
     ]
    }
   ],
   "source": [
    "a=60  #60=00111101\n",
    "b=13  #13=00001101\n",
    "c=0   #\n",
    "c=a&b;#12=00001100\n",
    "print('1-c',c)\n",
    "c=a^b; #49=00110001\n",
    "print('2-c',c)\n",
    "c=a|b; #61=00111101\n",
    "print('3-c',c)\n",
    "c=~a;  #-61=11000011\n",
    "print('4-c',c)\n",
    "c=a<<2; #240=11110000\n",
    "print('5-c',c)\n",
    "c=a>>2; #15=00001111\n",
    "print('6-c',c)"
   ]
  },
  {
   "cell_type": "code",
   "execution_count": 32,
   "metadata": {},
   "outputs": [
    {
     "name": "stdout",
     "output_type": "stream",
     "text": [
      "1-  都为true\n",
      "2-  都为true，或其中一个为true\n",
      "3-  有一个不为true\n",
      "4- 都为true ，或其中一个为true\n",
      "5- 都为false，或其中一个为false\n"
     ]
    }
   ],
   "source": [
    "a=10\n",
    "b=20\n",
    "\n",
    "if (a and b):\n",
    "    print('1-  都为true')\n",
    "else:\n",
    "    print('1-  有一个不为true')\n",
    "    \n",
    "if (a or b):\n",
    "    print('2-  都为true，或其中一个为true')\n",
    "else:\n",
    "    print('2-  都不为true')\n",
    "    \n",
    "#修改变量a\n",
    "a=0\n",
    "if (a and b):\n",
    "    print('3- 都为true')\n",
    "else:\n",
    "    print('3-  有一个不为true')\n",
    "    \n",
    "if (a or b):\n",
    "    print('4- 都为true ，或其中一个为true')\n",
    "else:\n",
    "    print('4- 都不为true')\n",
    "    \n",
    "if not(a and b):\n",
    "    print('5- 都为false，或其中一个为false')\n",
    "else:\n",
    "    print('5- 都为false')"
   ]
  },
  {
   "cell_type": "code",
   "execution_count": 33,
   "metadata": {},
   "outputs": [
    {
     "name": "stdout",
     "output_type": "stream",
     "text": [
      "1-a不在给定的列表中\n",
      "2-b不在列表中\n",
      "3-a在列表中\n"
     ]
    }
   ],
   "source": [
    "a=10\n",
    "b=20\n",
    "list=[1,2,3,4]\n",
    "if (a in list):\n",
    "    print('1-a在列表中')\n",
    "else:\n",
    "    print('1-a不在给定的列表中')\n",
    "    \n",
    "if (b not in list):\n",
    "    print('2-b不在列表中')\n",
    "else:\n",
    "    print('2-b在列表中')\n",
    "#修改a\n",
    "a=2\n",
    "if (a in list):\n",
    "    print('3-a在列表中')\n",
    "else:\n",
    "    print('3-a不在列表中')"
   ]
  },
  {
   "cell_type": "code",
   "execution_count": 34,
   "metadata": {},
   "outputs": [
    {
     "name": "stdout",
     "output_type": "stream",
     "text": [
      "1-a和b有相同表识\n",
      "2-a和b有相同的标识\n",
      "3-a和b没有相同的表识\n",
      "4-a和b没有相同的表识\n"
     ]
    }
   ],
   "source": [
    "a=20\n",
    "b=20\n",
    "if (a is b):\n",
    "    print('1-a和b有相同表识')\n",
    "else:\n",
    "    print('1-a和b没有相同的表识')\n",
    "if (id(a)==id(b)):\n",
    "    print('2-a和b有相同的标识')\n",
    "else:\n",
    "    print('2-a和b没有相同的表识')\n",
    "#修改变量b\n",
    "b=30\n",
    "if (a is b):\n",
    "    print('3-a和b有相同的表识')\n",
    "else:\n",
    "    print('3-a和b没有相同的表识')\n",
    "if (a is not b):\n",
    "    print('4-a和b没有相同的表识')\n",
    "else:\n",
    "    print('4-a和b有相同的表识')"
   ]
  },
  {
   "cell_type": "code",
   "execution_count": 35,
   "metadata": {},
   "outputs": [
    {
     "data": {
      "text/plain": [
       "True"
      ]
     },
     "execution_count": 35,
     "metadata": {},
     "output_type": "execute_result"
    }
   ],
   "source": [
    "#is用于判断引用变量的对象是否为同一个，==用于判断引用变脸值是否相等\n",
    "a=[1,2,3]\n",
    "b=a\n",
    "b is a\n",
    "b==a\n",
    "b=a[:]\n",
    "b is a\n",
    "b==a\n",
    "\n"
   ]
  },
  {
   "cell_type": "code",
   "execution_count": 36,
   "metadata": {},
   "outputs": [
    {
     "name": "stdout",
     "output_type": "stream",
     "text": [
      "(a+b)*c/d结果为 90.0\n",
      "e=((a+b)*c)/d  结果为 90.0\n",
      "e=(a+b)*(c/d结果为 90.0\n",
      "e=a+(b*c)/d   50.0\n"
     ]
    }
   ],
   "source": [
    "a=20\n",
    "b=10\n",
    "c=15\n",
    "d=5\n",
    "e=0\n",
    "e=(a+b)*c/d                    #(30*15)/5\n",
    "print('(a+b)*c/d结果为',e)\n",
    "\n",
    "e=((a+b)*c)/d             #(30*15)/5\n",
    "print('e=((a+b)*c)/d  结果为',e)\n",
    "\n",
    "e=(a+b)*(c/d);   #(30)*(15/5)\n",
    "print('e=(a+b)*(c/d结果为',e)\n",
    "\n",
    "e=a+(b*c)/d      #20+(150/5)\n",
    "\n",
    "print('e=a+(b*c)/d  ',e)\n"
   ]
  },
  {
   "cell_type": "code",
   "execution_count": 37,
   "metadata": {},
   "outputs": [
    {
     "name": "stdout",
     "output_type": "stream",
     "text": [
      "var1[0] H\n",
      "var1[0] ello\n"
     ]
    }
   ],
   "source": [
    "var1='Hello world'\n",
    "var2='Hello world'\n",
    "\n",
    "print('var1[0]',var1[0])\n",
    "print('var1[0]',var2[1:5])"
   ]
  },
  {
   "cell_type": "code",
   "execution_count": 38,
   "metadata": {},
   "outputs": [
    {
     "name": "stdout",
     "output_type": "stream",
     "text": [
      "已更新新字符串 Hello runoob\n"
     ]
    }
   ],
   "source": [
    "var1='Hello world'\n",
    "print('已更新新字符串',var1[:6]+'runoob')"
   ]
  },
  {
   "cell_type": "code",
   "execution_count": 39,
   "metadata": {},
   "outputs": [
    {
     "name": "stdout",
     "output_type": "stream",
     "text": [
      "a+b输出结果 hellopython\n",
      "a*2输出结果 hellohello\n",
      "a[1]输出结果 e\n",
      "a[1:4]输出结果 ell\n",
      "H不在变量a中\n",
      "M不在变量a中\n",
      "\\n\n",
      "\\n\n"
     ]
    }
   ],
   "source": [
    "a='hello'\n",
    "b='python'\n",
    "print('a+b输出结果',a+b)\n",
    "print('a*2输出结果',a*2)\n",
    "print('a[1]输出结果',a[1])\n",
    "print('a[1:4]输出结果',a[1:4])\n",
    "\n",
    "if ('H' in a):\n",
    "    print('H在变量a中')\n",
    "else:\n",
    "    print('H不在变量a中')\n",
    "    \n",
    "    \n",
    "if ('M' not in a):\n",
    "    print('M不在变量a中')\n",
    "else:\n",
    "    print('M在变量a中')\n",
    "    \n",
    "print(r'\\n')\n",
    "print(R'\\n')"
   ]
  },
  {
   "cell_type": "code",
   "execution_count": 40,
   "metadata": {},
   "outputs": [
    {
     "name": "stdout",
     "output_type": "stream",
     "text": [
      "我叫小明， 今年10岁\n"
     ]
    }
   ],
   "source": [
    "print('我叫%s， 今年%d岁'%('小明',10))"
   ]
  },
  {
   "cell_type": "code",
   "execution_count": 41,
   "metadata": {},
   "outputs": [
    {
     "name": "stdout",
     "output_type": "stream",
     "text": [
      "\n",
      "print(math.fabs(-10))\n",
      "print(\n",
      "random.choice(li))\n",
      "\n"
     ]
    }
   ],
   "source": [
    "string='''\n",
    "print(math.fabs(-10))\n",
    "print(\n",
    "random.choice(li))\n",
    "'''\n",
    "print(string)"
   ]
  },
  {
   "cell_type": "code",
   "execution_count": 10,
   "metadata": {},
   "outputs": [
    {
     "name": "stdout",
     "output_type": "stream",
     "text": [
      "\n",
      "*\n",
      "**\n",
      "***\n",
      "****\n",
      "*****\n"
     ]
    }
   ],
   "source": [
    "#结束结束结束结束结束结束结束结束结束结束结束结束结束结束结束结束结束结束结束结束结束结束结束结束结束结束结束结束结束结束结束结束结束结束结束\n",
    "\n",
    "for i in range(6):\n",
    "    for l in range(i):\n",
    "        print('*',end='')\n",
    "    print('')"
   ]
  },
  {
   "cell_type": "code",
   "execution_count": 11,
   "metadata": {},
   "outputs": [
    {
     "name": "stdout",
     "output_type": "stream",
     "text": [
      "\n",
      "*\n",
      "***\n",
      "******\n",
      "**********\n",
      "***************\n"
     ]
    }
   ],
   "source": [
    "for i in range(6):\n",
    "    for l in range(i):\n",
    "        for r in range(l+1):\n",
    "            print('*',end='')\n",
    "    print('')"
   ]
  },
  {
   "cell_type": "code",
   "execution_count": 24,
   "metadata": {},
   "outputs": [
    {
     "name": "stdout",
     "output_type": "stream",
     "text": [
      "    *\n",
      "   **\n",
      "  ***\n",
      " ****\n",
      "*****\n"
     ]
    }
   ],
   "source": [
    "\n",
    "for i in range(5):\n",
    "    print(' '*(4-i),end='')\n",
    "    print('*'*(i+1))\n",
    "    "
   ]
  },
  {
   "cell_type": "code",
   "execution_count": 25,
   "metadata": {},
   "outputs": [
    {
     "name": "stdout",
     "output_type": "stream",
     "text": [
      "      \n",
      "     *\n",
      "    **\n",
      "   ***\n",
      "  ****\n",
      " *****\n"
     ]
    }
   ],
   "source": [
    "for i in range(6):\n",
    "    \n",
    "    \n",
    "    for l in range((6-i)):\n",
    "        print(' ',end='')\n",
    "    for s in range(i):\n",
    "        print('*',end='')\n",
    "    print('')"
   ]
  },
  {
   "cell_type": "code",
   "execution_count": 40,
   "metadata": {},
   "outputs": [
    {
     "name": "stdout",
     "output_type": "stream",
     "text": [
      "    * \n",
      "   * * \n",
      "  * * * \n",
      " * * * * \n",
      "* * * * * \n"
     ]
    }
   ],
   "source": [
    "for i in range(5):\n",
    "    print(' '*(4-i),end='')\n",
    "    print('* '*(i+1))\n",
    "\n",
    "\n",
    "\n",
    "\n",
    "    \n",
    "        \n",
    "       "
   ]
  },
  {
   "cell_type": "code",
   "execution_count": null,
   "metadata": {},
   "outputs": [],
   "source": []
  },
  {
   "cell_type": "code",
   "execution_count": null,
   "metadata": {},
   "outputs": [],
   "source": []
  }
 ],
 "metadata": {
  "kernelspec": {
   "display_name": "Python 3",
   "language": "python",
   "name": "python3"
  },
  "language_info": {
   "codemirror_mode": {
    "name": "ipython",
    "version": 3
   },
   "file_extension": ".py",
   "mimetype": "text/x-python",
   "name": "python",
   "nbconvert_exporter": "python",
   "pygments_lexer": "ipython3",
   "version": "3.7.4"
  }
 },
 "nbformat": 4,
 "nbformat_minor": 2
}
