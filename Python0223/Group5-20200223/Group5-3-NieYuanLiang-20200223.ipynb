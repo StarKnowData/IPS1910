{
 "cells": [
  {
   "cell_type": "code",
   "execution_count": 11,
   "metadata": {},
   "outputs": [
    {
     "name": "stdout",
     "output_type": "stream",
     "text": [
      "请输入点东西并按Enter键\n",
      "\n"
     ]
    }
   ],
   "source": [
    "content=input('请输入点东西并按Enter键')\n",
    "print(content)"
   ]
  },
  {
   "cell_type": "code",
   "execution_count": 12,
   "metadata": {},
   "outputs": [
    {
     "name": "stdout",
     "output_type": "stream",
     "text": [
      "123\n",
      "123"
     ]
    }
   ],
   "source": [
    "print('123')\n",
    "print('123', end = \"\")"
   ]
  },
  {
   "cell_type": "code",
   "execution_count": 15,
   "metadata": {},
   "outputs": [
    {
     "name": "stdout",
     "output_type": "stream",
     "text": [
      "1 - c 的值为 31\n",
      "2 - c 的值为 11\n",
      "3 - c 的值为 210\n",
      "4 - c 的值为 2.1\n",
      "5 - c 的值为 1\n",
      "6 - c 的值为 8\n",
      "7 - c 的值为 2\n"
     ]
    }
   ],
   "source": [
    "a = 21\n",
    "b = 10\n",
    "c = 0\n",
    "c = a + b\n",
    "print (\"1 - c 的值为\", c)\n",
    "c = a - b\n",
    "print (\"2 - c 的值为\", c)\n",
    "c = a * b\n",
    "print (\"3 - c 的值为\", c)\n",
    "c = a / b\n",
    "print (\"4 - c 的值为\", c)\n",
    "c = a % b\n",
    "print (\"5 - c 的值为\", c)\n",
    "# 修改变量 a，b，c\n",
    "a = 2\n",
    "b = 3\n",
    "c = a**b \n",
    "print (\"6 - c 的值为\", c)\n",
    "a = 10\n",
    "b = 5\n",
    "c = a//b \n",
    "print (\"7 - c 的值为\", c)"
   ]
  },
  {
   "cell_type": "code",
   "execution_count": 16,
   "metadata": {},
   "outputs": [
    {
     "name": "stdout",
     "output_type": "stream",
     "text": [
      "1 - a 不等于 b\n",
      "2 - a 不等于 b\n",
      "3 - a 大于等于 b\n",
      "4 - a 大于 b\n",
      "5 - a 大于等于 b\n",
      "6 - b 大于等于 a\n"
     ]
    }
   ],
   "source": [
    "a = 21\n",
    "b = 10\n",
    "c = 0\n",
    "if ( a == b ):\n",
    "    print (\"1 - a 等于 b\")\n",
    "else:\n",
    "    print (\"1 - a 不等于 b\")\n",
    "if ( a != b ):\n",
    "    print (\"2 - a 不等于 b\")\n",
    "else:\n",
    "    print (\"2 - a 等于 b\")\n",
    "if ( a < b ):\n",
    "    print (\"3 - a 小于 b\")\n",
    "else:\n",
    "    print (\"3 - a 大于等于 b\")\n",
    "if ( a > b ):\n",
    "    print (\"4 - a 大于 b\")\n",
    "else:\n",
    "    print (\"4 - a 大于等于 b\")\n",
    "#ץ修改变量a和b的值\n",
    "a = 5;\n",
    "b = 20;\n",
    "if ( a <= b ):\n",
    "    print (\"5 - a 大于等于 b\")\n",
    "else:\n",
    "    print (\"5 - a 大于 b\")\n",
    "if ( b >= a ):\n",
    "    print (\"6 - b 大于等于 a\")\n",
    "else:\n",
    "    print (\"6 - b 小于 a\")"
   ]
  },
  {
   "cell_type": "code",
   "execution_count": 17,
   "metadata": {},
   "outputs": [
    {
     "name": "stdout",
     "output_type": "stream",
     "text": [
      "1 - c 的值为 31\n"
     ]
    }
   ],
   "source": [
    "a = 21\n",
    "b = 10\n",
    "c = 0\n",
    "c = a + b\n",
    "print (\"1 - c 的值为\", c)\n",
    "c += a"
   ]
  },
  {
   "cell_type": "code",
   "execution_count": 18,
   "metadata": {},
   "outputs": [
    {
     "name": "stdout",
     "output_type": "stream",
     "text": [
      "2 - c 的值为 52\n",
      "3 - c 的值为 1092\n",
      "4 - c 的值为 52.0\n",
      "5 - c 的值为 2\n",
      "6 - c 的值为 2097152\n",
      "7 - c 的值为 99864\n"
     ]
    }
   ],
   "source": [
    "print (\"2 - c 的值为\", c)\n",
    "c *= a\n",
    "print (\"3 - c 的值为\", c)\n",
    "c /= a \n",
    "print (\"4 - c 的值为\", c)\n",
    "c = 2\n",
    "c %= a\n",
    "print (\"5 - c 的值为\", c)\n",
    "c **= a\n",
    "print (\"6 - c 的值为\", c)\n",
    "c //= a\n",
    "print (\"7 - c 的值为\", c)"
   ]
  },
  {
   "cell_type": "code",
   "execution_count": 20,
   "metadata": {},
   "outputs": [
    {
     "name": "stdout",
     "output_type": "stream",
     "text": [
      "1 - c 的值为 12\n",
      "2 - c 的值为 61\n",
      "3 - c 的值为 49\n",
      "4 - c 的值为 -61\n",
      "5 - c 的值为 240\n",
      "6 - c 的值为 15\n"
     ]
    }
   ],
   "source": [
    "a = 60 # 60 = 0011 1100 \n",
    "b = 13 # 13 = 0000 1101 \n",
    "c = 0\n",
    "c = a & b; # 12 = 0000 1100\n",
    "print (\"1 - c 的值为\", c)\n",
    "c = a | b; # 61 = 0011 1101 \n",
    "print (\"2 - c 的值为\", c)\n",
    "c = a ^ b; # 49 = 0011 0001\n",
    "print (\"3 - c 的值为\", c)\n",
    "c = ~a; # -61 = 1100 0011\n",
    "print (\"4 - c 的值为\", c)\n",
    "c = a << 2; # 240 = 1111 0000\n",
    "print (\"5 - c 的值为\", c)\n",
    "c = a >> 2; # 15 = 0000 1111\n",
    "print (\"6 - c 的值为\", c)"
   ]
  },
  {
   "cell_type": "code",
   "execution_count": 21,
   "metadata": {},
   "outputs": [
    {
     "name": "stdout",
     "output_type": "stream",
     "text": [
      "1 - 变量 a 和 b 都为 true\n",
      "2 - 变量 a 和 b 都为true，或其中一个变量为 true\n",
      "3 - 变量 a 和 b 有一个不为 true\n",
      "4 - 变量 a 和 b 都为true，或其中一个变量为 true\n",
      "5 - 变量 a 和 b 都为 false҅，或其中一个变量为 false\n"
     ]
    }
   ],
   "source": [
    "a = 10\n",
    "b = 20\n",
    "if ( a and b ):\n",
    "    print (\"1 - 变量 a 和 b 都为 true\")\n",
    "else:\n",
    "    print (\"1 - 变量 a 和 b 有一个不为 true\")\n",
    "if ( a or b ):\n",
    "    print (\"2 - 变量 a 和 b 都为true，或其中一个变量为 true\")\n",
    "else:\n",
    "    print (\"2 - 变量 a 和 b 都不为 true\")\n",
    "#修改变量a的值\n",
    "\n",
    "a = 0\n",
    "if ( a and b ):\n",
    "    print (\"3 - 变量 a 和 b 都为 true\")\n",
    "else:\n",
    "    print (\"3 - 变量 a 和 b 有一个不为 true\")\n",
    "if ( a or b ):\n",
    "    print (\"4 - 变量 a 和 b 都为true，或其中一个变量为 true\")\n",
    "else:\n",
    "    print (\"4 - 变量 a 和 b 都不为 true\")\n",
    "if not( a and b ):\n",
    "    print (\"5 - 变量 a 和 b 都为 false҅，或其中一个变量为 false\")\n",
    "else:\n",
    "    print (\"5 - 变量 a 和 b 都为 true\")"
   ]
  },
  {
   "cell_type": "code",
   "execution_count": 24,
   "metadata": {},
   "outputs": [
    {
     "name": "stdout",
     "output_type": "stream",
     "text": [
      "1 - 变量 a 不在给定列表中 list Ӿ\n",
      "2 - 变量 b 不在给定列表中 list Ӿ\n",
      "3 - 变量 a 在给定列表中 list Ӿ\n"
     ]
    }
   ],
   "source": [
    "a = 10\n",
    "b = 20\n",
    "list = [1, 2, 3, 4, 5 ];\n",
    "if ( a in list ):\n",
    "    print (\"1 - 变量 a 在给定表中 list Ӿ\")\n",
    "else:\n",
    "    print (\"1 - 变量 a 不在给定列表中 list Ӿ\")\n",
    "if ( b not in list ):\n",
    "    print (\"2 - 变量 b 不在给定列表中 list Ӿ\")\n",
    "else:\n",
    "    print (\"2 - 变量 b 在给定列表中 list Ӿ\")\n",
    "#修改变量a的值\n",
    "a = 2\n",
    "if ( a in list ):\n",
    "    print (\"3 - 变量 a 在给定列表中 list Ӿ\")\n",
    "else:\n",
    "    print (\"3 - 变量 a 不在给定的列表中 list 中\")"
   ]
  },
  {
   "cell_type": "code",
   "execution_count": 30,
   "metadata": {},
   "outputs": [
    {
     "name": "stdout",
     "output_type": "stream",
     "text": [
      "1 -a 和 b 有相同的标识\n",
      "2 -a 和 b 有相同的标识\n",
      "3 - a 和 b 没有相同的标识\n",
      "4 - a 和 b 没有相同的标识\n"
     ]
    }
   ],
   "source": [
    "a=20\n",
    "b=20\n",
    "if (a is b):\n",
    "    print('1 -a 和 b 有相同的标识')\n",
    "else:\n",
    "    print('1-a 和 b 没有相同的标识')\n",
    "if (id(a)==id(b)):\n",
    "    print('2 -a 和 b 有相同的标识')\n",
    "else:\n",
    "    print('2 - a 和 b 没有相同的标识')\n",
    "#修改变量b的值\n",
    "b=30\n",
    "if (a is b):\n",
    "    print('3 - a 和 b 有相同的标识')\n",
    "else:\n",
    "    print('3 - a 和 b 没有相同的标识')\n",
    "if (a is not b):\n",
    "    print('4 - a 和 b 没有相同的标识')\n",
    "else:\n",
    "    print('4 - a 和 b 有相同的标识')"
   ]
  },
  {
   "cell_type": "code",
   "execution_count": 33,
   "metadata": {},
   "outputs": [
    {
     "name": "stdout",
     "output_type": "stream",
     "text": [
      "(a+b)*c/d 运算结果为 90.0\n",
      "((a+b)*c)/d 运算结果为: 90.0\n",
      "(a+b)*(c/d)运算结果为: 90.0\n",
      "a+(b*c)/d 运算结果为: 50.0\n"
     ]
    }
   ],
   "source": [
    "#is用于判断变量引用对象是否为同一个 ==用与判断引用变量的值是否相等\n",
    "a=20\n",
    "b=10\n",
    "c=15\n",
    "d=5\n",
    "e=0\n",
    "e=(a+b)*c/d  #(30*15)/5\n",
    "print('(a+b)*c/d 运算结果为',e)\n",
    "\n",
    "e=((a+b)*c)/d  #(30*15)/5\n",
    "print('((a+b)*c)/d 运算结果为:',e)\n",
    "\n",
    "e=(a+b)*(c/d);  #(30)*(15/5)\n",
    "print('(a+b)*(c/d)运算结果为:',e)\n",
    "\n",
    "e=a+(b*c)/d;  #20+(150/5)\n",
    "print('a+(b*c)/d 运算结果为:',e)"
   ]
  },
  {
   "cell_type": "code",
   "execution_count": 38,
   "metadata": {},
   "outputs": [
    {
     "name": "stdout",
     "output_type": "stream",
     "text": [
      "a+b 输出结果: hellopython\n",
      "a*2 输出结果: hellohello\n",
      "a[1] 输出结果 e\n",
      "a[1:4] 输出结果 ell\n",
      "H 不再变量 a Ӿ\n",
      "M 不再变量 a Ӿ\n",
      "\\n\n",
      "\\n\n"
     ]
    }
   ],
   "source": [
    "a='hello'\n",
    "b='python'\n",
    "print('a+b 输出结果:',a+b)\n",
    "print('a*2 输出结果:',a*2)\n",
    "print(\"a[1] 输出结果\", a[1])\n",
    "print(\"a[1:4] 输出结果\", a[1:4])\n",
    "if( \"H\" in a) :\n",
    "    print(\"H 在变量 a Ӿ\")\n",
    "else :\n",
    "    print(\"H 不再变量 a Ӿ\")\n",
    "if( \"M\" not in a) :\n",
    "    print(\"M 不再变量 a Ӿ\")\n",
    "else :\n",
    "    print(\"M 在变量 a Ӿ\")\n",
    "print (r'\\n')\n",
    "print (R'\\n')"
   ]
  },
  {
   "cell_type": "code",
   "execution_count": 44,
   "metadata": {},
   "outputs": [
    {
     "name": "stdout",
     "output_type": "stream",
     "text": [
      "我叫小明，今年10岁！\n"
     ]
    }
   ],
   "source": [
    "#字符串格式化\n",
    "print('我叫%s，今年%d岁！'%('小明',10))"
   ]
  },
  {
   "cell_type": "code",
   "execution_count": 45,
   "metadata": {},
   "outputs": [
    {
     "name": "stdout",
     "output_type": "stream",
     "text": [
      "\n",
      "print(math.fabs(-10))\n",
      "print(\n",
      "randaom.choice(Il))\n",
      "\n"
     ]
    }
   ],
   "source": [
    "#多行字符串\n",
    "string='''\n",
    "print(math.fabs(-10))\n",
    "print(\n",
    "randaom.choice(Il))\n",
    "'''\n",
    "print(string)"
   ]
  },
  {
   "cell_type": "code",
   "execution_count": null,
   "metadata": {},
   "outputs": [],
   "source": [
    "#字节\n",
    "#bytes转str\n",
    "n'abc'.decode()\n",
    "str(b'abc')\n",
    "str(b'abc',encoding='UTF-8')"
   ]
  },
  {
   "cell_type": "code",
   "execution_count": null,
   "metadata": {},
   "outputs": [],
   "source": [
    "#str转bytes\n",
    "'中国'.encode()\n",
    "bytes('中国',encoding='UTF-8')"
   ]
  },
  {
   "cell_type": "code",
   "execution_count": 2,
   "metadata": {},
   "outputs": [
    {
     "name": "stdout",
     "output_type": "stream",
     "text": [
      "*\n",
      "**\n",
      "***\n",
      "****\n",
      "*****\n"
     ]
    }
   ],
   "source": [
    "i=0\n",
    "while i <5:\n",
    "    j=0\n",
    "    while j < i+1 :\n",
    "        print('*',end='')\n",
    "        j+=1\n",
    "    print()\n",
    "    i+=1"
   ]
  },
  {
   "cell_type": "code",
   "execution_count": 8,
   "metadata": {},
   "outputs": [
    {
     "name": "stdout",
     "output_type": "stream",
     "text": [
      "*\n",
      "***\n",
      "*****\n",
      "*******\n",
      "*********\n"
     ]
    }
   ],
   "source": [
    "i=0\n",
    "while i <9:\n",
    "    j=0\n",
    "    while j < i+1 :\n",
    "        print('*',end='')\n",
    "        j+=1\n",
    "    print()\n",
    "    i+=2"
   ]
  },
  {
   "cell_type": "code",
   "execution_count": 50,
   "metadata": {},
   "outputs": [
    {
     "name": "stdout",
     "output_type": "stream",
     "text": [
      "   *\n",
      "  ***\n",
      " *****\n",
      "*******\n",
      " *****\n",
      "  ***\n",
      "   *\n"
     ]
    }
   ],
   "source": [
    "r = 1\n",
    "while r <= 4:\n",
    "    k = 1;\n",
    "    while k < 5 - r:\n",
    "        print(' ', end=\"\")\n",
    "        k += 1\n",
    "    c = 1\n",
    "    while c <= 2 * (r - 1) + 1:\n",
    "        print('*', end='')\n",
    "        c += 1\n",
    "    print(\"\")\n",
    "    r += 1\n",
    "    \n",
    "# 下半部\n",
    "r = 1\n",
    "while r <= 3:\n",
    "    k = 1;\n",
    "    while k <  r+1:\n",
    "        print(' ', end=\"\")\n",
    "        k += 1\n",
    "    c = 1\n",
    "    while c <= 6 - (2 * r - 1):\n",
    "        print('*', end='')\n",
    "        c += 1\n",
    "    print(\"\")\n",
    "    r += 1"
   ]
  },
  {
   "cell_type": "code",
   "execution_count": null,
   "metadata": {},
   "outputs": [],
   "source": []
  }
 ],
 "metadata": {
  "kernelspec": {
   "display_name": "Python 3",
   "language": "python",
   "name": "python3"
  },
  "language_info": {
   "codemirror_mode": {
    "name": "ipython",
    "version": 3
   },
   "file_extension": ".py",
   "mimetype": "text/x-python",
   "name": "python",
   "nbconvert_exporter": "python",
   "pygments_lexer": "ipython3",
   "version": "3.7.3"
  }
 },
 "nbformat": 4,
 "nbformat_minor": 4
}
