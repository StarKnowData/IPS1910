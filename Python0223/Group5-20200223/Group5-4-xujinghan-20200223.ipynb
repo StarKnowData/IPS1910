{
 "cells": [
  {
   "cell_type": "code",
   "execution_count": 4,
   "metadata": {},
   "outputs": [
    {
     "data": {
      "text/plain": [
       "' \\n这也是多行注释 \\n这也是多行注释 \\n'"
      ]
     },
     "execution_count": 4,
     "metadata": {},
     "output_type": "execute_result"
    }
   ],
   "source": [
    "# 这是单行注释 \n",
    "''' \n",
    "这是多行注释 \n",
    "这是多行注释 \n",
    "''' \n",
    "\"\"\" \n",
    "这也是多行注释 \n",
    "这也是多行注释 \n",
    "\"\"\" "
   ]
  },
  {
   "cell_type": "code",
   "execution_count": 6,
   "metadata": {},
   "outputs": [
    {
     "name": "stdout",
     "output_type": "stream",
     "text": [
      " 请输入点东西并按 Enter 键 a\n",
      "a\n"
     ]
    }
   ],
   "source": [
    "#input函数可以实现等待并接收命令行中的用户输入\n",
    "content = input(\" 请输入点东西并按 Enter 键 \") \n",
    "print(content) "
   ]
  },
  {
   "cell_type": "code",
   "execution_count": 7,
   "metadata": {},
   "outputs": [
    {
     "name": "stdout",
     "output_type": "stream",
     "text": [
      "hello world"
     ]
    }
   ],
   "source": [
    "#在同一行中想写多条语句，语句间用分号分隔\n",
    "import sys; x = 'hello world'; sys.stdout.write(x  + '')"
   ]
  },
  {
   "cell_type": "code",
   "execution_count": 8,
   "metadata": {},
   "outputs": [
    {
     "name": "stdout",
     "output_type": "stream",
     "text": [
      "123\n",
      "123"
     ]
    }
   ],
   "source": [
    "print('123')  #默认换行\n",
    "print('123',end = '')   #不换行\n"
   ]
  },
  {
   "cell_type": "code",
   "execution_count": 9,
   "metadata": {},
   "outputs": [
    {
     "name": "stdout",
     "output_type": "stream",
     "text": [
      "1 - c 的值为: 31\n",
      "2 - c 的值为: 11\n",
      "3 - c 的值为: 210\n",
      "4 - c 的值为: 2.1\n",
      "5 - c 的值为: 1\n",
      "6 - c 的值为: 8\n",
      "6 - c  的值为: 8\n",
      "7 - c 的值为: 2\n"
     ]
    }
   ],
   "source": [
    "#!/usr/bin/python3\n",
    "\n",
    "a = 21\n",
    "b = 10\n",
    "c = 0\n",
    "\n",
    "c = a + b\n",
    "print('1 - c 的值为:',c)\n",
    "\n",
    "c = a - b\n",
    "print('2 - c 的值为:',c)\n",
    "\n",
    "c = a * b\n",
    "print('3 - c 的值为:',c)\n",
    "\n",
    "\n",
    "c = a / b\n",
    "print('4 - c 的值为:',c)\n",
    "\n",
    "\n",
    "c = a % b\n",
    "print('5 - c 的值为:',c)\n",
    "\n",
    "#修改变量 a,b,c\n",
    "a = 2\n",
    "b = 3\n",
    "c = a**b\n",
    "print(\"6 - c 的值为:\",c)\n",
    "\n",
    "a = 2\n",
    "b = 3\n",
    "c = a**b\n",
    "print('6 - c  的值为:',c)\n",
    "\n",
    "a = 10\n",
    "b = 5\n",
    "c = a//b\n",
    "print(\"7 - c 的值为:\",c)"
   ]
  },
  {
   "cell_type": "code",
   "execution_count": 10,
   "metadata": {},
   "outputs": [
    {
     "name": "stdout",
     "output_type": "stream",
     "text": [
      "1 - c 的值为: 31\n",
      "2 - c 的值为: 52\n",
      "3 - c 的值为: 1092\n",
      "4 - c 的值为: 52.0\n",
      "5 - c 的值为: 2\n",
      "6 - c 的值为: 2097152\n",
      "7 - c 的值为: 99864\n"
     ]
    }
   ],
   "source": [
    "#赋值运算符应用\n",
    "#!/use/bin/python3\n",
    "\n",
    "a = 21\n",
    "b = 10\n",
    "c = 0\n",
    "\n",
    "c = a + b\n",
    "print(\"1 - c 的值为:\",c)\n",
    "\n",
    "c += a\n",
    "print(\"2 - c 的值为:\",c)\n",
    "\n",
    "\n",
    "c *= a\n",
    "print('3 - c 的值为:',c)\n",
    "\n",
    "\n",
    "c /= a\n",
    "print('4 - c 的值为:',c)\n",
    "\n",
    "\n",
    "c = 2\n",
    "c %= a\n",
    "print('5 - c 的值为:',c)\n",
    "\n",
    "\n",
    "c **= a\n",
    "print('6 - c 的值为:',c)\n",
    "\n",
    "\n",
    "c //= a\n",
    "print('7 - c 的值为:',c)"
   ]
  },
  {
   "cell_type": "code",
   "execution_count": 14,
   "metadata": {},
   "outputs": [
    {
     "name": "stdout",
     "output_type": "stream",
     "text": [
      "1 - c 的值为: 12\n",
      "2 - c 的值为: 61\n",
      "3 - c 的值为: 49\n",
      "4 - c 的值为: -61\n",
      "5 - c 的值为: 240\n",
      "6 - c 的值为: 15\n"
     ]
    }
   ],
   "source": [
    "#位运算符\n",
    "#!/usr/bin/python3\n",
    "a = 60\n",
    "b = 13\n",
    "c = 0\n",
    "\n",
    "c = a & b;\n",
    "print('1 - c 的值为:',c)\n",
    "\n",
    "c = a | b;\n",
    "print('2 - c 的值为:',c)\n",
    "\n",
    "c = a ^ b;\n",
    "print('3 - c 的值为:',c)\n",
    "\n",
    "c = ~a;\n",
    "print('4 - c 的值为:',c)\n",
    "\n",
    "c = a << 2;\n",
    "print('5 - c 的值为:',c)\n",
    "\n",
    "c = a >> 2;\n",
    "print('6 - c 的值为:',c)\n"
   ]
  },
  {
   "cell_type": "code",
   "execution_count": 16,
   "metadata": {},
   "outputs": [
    {
     "name": "stdout",
     "output_type": "stream",
     "text": [
      "1 - 变量a 和 b 都为 true\n",
      "2 - 变量a 和 b 都为 true,或者其中一个变量为true\n",
      "3 - 变量 a 和 b 有一个不为true\n",
      "4 - 变量a 和 b 都为 true,或者其中一个变量为true\n",
      "5 - 变量a 和 b 都为 flase,或者其中一个变量为flase\n"
     ]
    }
   ],
   "source": [
    "#逻辑运算符的应用\n",
    "#!/usr/bin/python3\n",
    "a = 10\n",
    "b = 20\n",
    "\n",
    "if(a and b):\n",
    "    print(\"1 - 变量a 和 b 都为 true\")\n",
    "else:\n",
    "    printf(\"1 - 变量 a 和 b 有一个不为true\")\n",
    "\n",
    "if(a or b):\n",
    "    print(\"2 - 变量a 和 b 都为 true,或者其中一个变量为true\")\n",
    "else:\n",
    "    printf(\"2 - 变量 a 和 b 都不为true\")\n",
    "    \n",
    "\n",
    "#修改变量a 的值\n",
    "a = 0\n",
    "if(a and b):\n",
    "    print(\"3 - 变量 a 和 b 都为 true\")\n",
    "else:\n",
    "    print(\"3 - 变量 a 和 b 有一个不为true\")\n",
    "\n",
    "if(a or b):\n",
    "    print(\"4 - 变量a 和 b 都为 true,或者其中一个变量为true\")\n",
    "else:\n",
    "    print(\"4 - 变量 a 和 b 都不为true\")\n",
    "    \n",
    "if not(a and b):\n",
    "    print(\"5 - 变量a 和 b 都为 flase,或者其中一个变量为flase\")\n",
    "else:\n",
    "    print(\"5 - 变量 a 和 b 都为true\")\n",
    "\n",
    "\n",
    "\n",
    "\n",
    "\n",
    "\n",
    "\n",
    "\n",
    "\n",
    "\n",
    "\n",
    "\n",
    "\n"
   ]
  },
  {
   "cell_type": "code",
   "execution_count": 18,
   "metadata": {},
   "outputs": [
    {
     "name": "stdout",
     "output_type": "stream",
     "text": [
      "1 - 变量 a 不在给定的列表中 list 中\n",
      "2 - 变量 b 不在给定的列表中 list 中\n",
      "3 - 变量 a 在给定的列表中 list 中\n"
     ]
    }
   ],
   "source": [
    "#成员运算符的应用\n",
    "\n",
    "#!/usr/bin/python3\n",
    "a = 10\n",
    "b = 20\n",
    "list = [1, 2, 3, 4, 5 ];\n",
    "if ( a in list ):\n",
    "    print (\"1 - 变量 a 在给定的列表中 list 中\")\n",
    "else:\n",
    "    print (\"1 - 变量 a 不在给定的列表中 list 中\")\n",
    "if ( b not in list ): \n",
    "    print (\"2 - 变量 b 不在给定的列表中 list 中\")\n",
    "else:\n",
    "    print (\"2 - 变量 b 在给定的列表中 list 中\") \n",
    "    \n",
    "# 修改变量 a 的值\n",
    "a = 2\n",
    "if ( a in list ):\n",
    "    print (\"3 - 变量 a 在给定的列表中 list 中\")\n",
    "else:\n",
    "    print (\"3 - 变量 a 不在给定的列表中 list 中\")\n"
   ]
  },
  {
   "cell_type": "code",
   "execution_count": 19,
   "metadata": {},
   "outputs": [
    {
     "name": "stdout",
     "output_type": "stream",
     "text": [
      "1 - a 和 b 有相同的标识\n",
      "2 - a 和 b 有相同的标识\n",
      "3 - a 和 b 没有相同的标识\n",
      "4 - a 和 b 没有相同的标识\n"
     ]
    }
   ],
   "source": [
    "#身份运算符的应用\n",
    "\n",
    "#!/usr/bin/python3 \n",
    "a = 20\n",
    "b = 20\n",
    "if ( a is b ):\n",
    "    print (\"1 - a 和 b 有相同的标识\")\n",
    "else:\n",
    "    print (\"1 - a 和 b 没有相同的标识\")\n",
    "if ( id(a) == id(b) ):\n",
    "    print (\"2 - a 和 b 有相同的标识\")\n",
    "else:   \n",
    "    print (\"2 - a 和 b 没有相同的标识\")\n",
    "    \n",
    "# 修改变量 b 的值\n",
    "b = 30\n",
    "if ( a is b ):\n",
    "    print (\"3 - a 和 b 有相同的标识\")\n",
    "else:\n",
    "    print (\"3 - a 和 b 没有相同的标识\")\n",
    "if ( a is not b ):\n",
    "    print (\"4 - a 和 b 没有相同的标识\")\n",
    "else:\n",
    "    print (\"4 - a 和 b 有相同的标识\")\n"
   ]
  },
  {
   "cell_type": "code",
   "execution_count": 20,
   "metadata": {},
   "outputs": [
    {
     "name": "stdout",
     "output_type": "stream",
     "text": [
      "(a + b) * c / d 运算结果为： 90.0\n",
      "((a + b) * c) / d 运算结果为： 90.0\n",
      "(a + b) * (c / d) 运算结果为： 90.0\n",
      "a + (b * c) / d 运算结果为： 50.0\n"
     ]
    }
   ],
   "source": [
    "#运算符优先级\n",
    "#!/usr/bin/python3 \n",
    "a = 20\n",
    "b = 10\n",
    "c = 15\n",
    "d = 5\n",
    "e = 0\n",
    "\n",
    "e = (a + b) * c / d       #( 30 * 15 ) / 5\n",
    "print (\"(a + b) * c / d 运算结果为：\",  e) \n",
    "\n",
    "e = ((a + b) * c) / d     # (30 * 15 ) / 5\n",
    "print (\"((a + b) * c) / d 运算结果为：\",  e) \n",
    "\n",
    "e = (a + b) * (c / d);    # (30) * (15/5)\n",
    "print (\"(a + b) * (c / d) 运算结果为：\",  e)\n",
    "\n",
    "e = a + (b * c) / d;      #  20 + (150/5)\n",
    "print (\"a + (b * c) / d 运算结果为：\",  e)"
   ]
  },
  {
   "cell_type": "code",
   "execution_count": 23,
   "metadata": {},
   "outputs": [
    {
     "data": {
      "text/plain": [
       "1.6"
      ]
     },
     "execution_count": 23,
     "metadata": {},
     "output_type": "execute_result"
    }
   ],
   "source": [
    "\n",
    ">>> 2 + 2\n",
    "4\n",
    ">>> 50 - 5*6\n",
    "20\n",
    ">>> (50 - 5*6) / 4\n",
    "5.0\n",
    ">>> 8 / 5  # 总是返回一个浮点数\n",
    "1.6"
   ]
  },
  {
   "cell_type": "code",
   "execution_count": 24,
   "metadata": {},
   "outputs": [
    {
     "name": "stdout",
     "output_type": "stream",
     "text": [
      "var1[0]:  H\n",
      "var2[1:5]:  unoo\n"
     ]
    }
   ],
   "source": [
    "#访问字符串中的值\n",
    "#!/usr/bin/python3\n",
    "\n",
    "var1 = 'Hello World!'\n",
    "var2 = \"Runoob\"\n",
    "\n",
    "print (\"var1[0]: \", var1[0])\n",
    "print (\"var2[1:5]: \", var2[1:5])"
   ]
  },
  {
   "cell_type": "code",
   "execution_count": 25,
   "metadata": {},
   "outputs": [
    {
     "name": "stdout",
     "output_type": "stream",
     "text": [
      "已更新字符串 :  Hello Runoob!\n"
     ]
    }
   ],
   "source": [
    "#更新字符串\n",
    "#!/usr/bin/python3\n",
    "\n",
    "var1 = 'Hello World!'\n",
    "print (\"已更新字符串 : \", var1[:6] + 'Runoob!')"
   ]
  },
  {
   "cell_type": "code",
   "execution_count": 26,
   "metadata": {},
   "outputs": [
    {
     "name": "stdout",
     "output_type": "stream",
     "text": [
      "a + b 输出结果： HelloPython\n",
      "a * 2 输出结果： HelloHello\n",
      "a[1] 输出结果： e\n",
      "a[1:4] 输出结果： ell\n",
      "H 在变量 a 中\n",
      "M 不在变量 a 中\n",
      "\\n\n",
      "\\n\n"
     ]
    }
   ],
   "source": [
    "#字符串运算符的应用\n",
    "\n",
    "#!/usr/bin/python3 \n",
    "a = \"Hello\"\n",
    "b = \"Python\"\n",
    "\n",
    "print(\"a + b 输出结果：\", a + b)\n",
    "print(\"a * 2 输出结果：\", a * 2)\n",
    "print(\"a[1] 输出结果：\", a[1])\n",
    "print(\"a[1:4] 输出结果：\", a[1:4])\n",
    "\n",
    "if( \"H\" in a) :\n",
    "    print(\"H 在变量 a 中\")\n",
    "else :\n",
    "    print(\"H 不在变量 a 中\")\n",
    "    \n",
    "if( \"M\" not in a) :\n",
    "    print(\"M 不在变量 a 中\")\n",
    "else :\n",
    "    print(\"M 在变量 a 中\")\n",
    "    \n",
    "print (r'\\n')\n",
    "print (R'\\n')"
   ]
  },
  {
   "cell_type": "code",
   "execution_count": 27,
   "metadata": {},
   "outputs": [
    {
     "name": "stdout",
     "output_type": "stream",
     "text": [
      "我叫小明， 今年 10 岁！\n"
     ]
    }
   ],
   "source": [
    "#字符串格式化\n",
    "print(\"我叫%s， 今年 %d 岁！\" % ('小明', 10)) "
   ]
  },
  {
   "cell_type": "markdown",
   "metadata": {},
   "source": [
    "#多行字符串\n"
   ]
  },
  {
   "cell_type": "code",
   "execution_count": 28,
   "metadata": {},
   "outputs": [
    {
     "name": "stdout",
     "output_type": "stream",
     "text": [
      "\n",
      "print(  math.fabs(-10))\n",
      "print(  random.choice(li)) \n",
      "\n"
     ]
    }
   ],
   "source": [
    "string = '''\n",
    "print(  math.fabs(-10))\n",
    "print(  random.choice(li)) \n",
    "''' \n",
    "print(string)  "
   ]
  },
  {
   "cell_type": "markdown",
   "metadata": {},
   "source": [
    "###打星星\n",
    "\n",
    "\n",
    "\n"
   ]
  },
  {
   "cell_type": "code",
   "execution_count": 47,
   "metadata": {},
   "outputs": [
    {
     "name": "stdout",
     "output_type": "stream",
     "text": [
      "*\n",
      "**\n",
      "***\n",
      "****\n",
      "*****\n"
     ]
    }
   ],
   "source": [
    "#作业1\n",
    "\n",
    "for i in range(5):\n",
    "    print(\"*\" * (i+1))\n",
    "    "
   ]
  },
  {
   "cell_type": "code",
   "execution_count": 49,
   "metadata": {},
   "outputs": [
    {
     "name": "stdout",
     "output_type": "stream",
     "text": [
      "*\n",
      "\n",
      "***\n",
      "\n",
      "*****\n",
      "\n",
      "*******\n",
      "\n",
      "*********\n",
      "\n"
     ]
    }
   ],
   "source": [
    "#作业2\n",
    "for i in range(1,6):\n",
    "    for j in range(5-i):\n",
    "        print(\"\",end=\"\")\n",
    "    for j in range(1,2*i):\n",
    "        print(\"*\",end=\"\")\n",
    "    print(\"\\n\")\n",
    "    \n",
    "\n"
   ]
  },
  {
   "cell_type": "code",
   "execution_count": 97,
   "metadata": {},
   "outputs": [
    {
     "name": "stdout",
     "output_type": "stream",
     "text": [
      "    * \n",
      "   * * \n",
      "  * * * \n",
      " * * * * \n",
      "* * * * * \n"
     ]
    }
   ],
   "source": [
    "#作业3\n",
    "for i in range(1,6):\n",
    "    for j in range(1,6-i):\n",
    "        print(\" \",end=\"\")\n",
    "    for k in range(1,i+1):\n",
    "        print(\"* \",end=\"\")\n",
    "    print(\"\")"
   ]
  },
  {
   "cell_type": "code",
   "execution_count": 116,
   "metadata": {},
   "outputs": [
    {
     "name": "stdout",
     "output_type": "stream",
     "text": [
      "     *\n",
      "    **\n",
      "   ***\n",
      "  ****\n",
      " *****\n"
     ]
    }
   ],
   "source": [
    "#作业4\n",
    "for i in range(5):\n",
    "    print(\" \"*(4-i),\"*\"*(i+1))"
   ]
  },
  {
   "cell_type": "code",
   "execution_count": 95,
   "metadata": {},
   "outputs": [
    {
     "name": "stdout",
     "output_type": "stream",
     "text": [
      "    *\n",
      "   ***\n",
      "  *****\n",
      " *******\n",
      "*********\n",
      " *******\n",
      "  *****\n",
      "   ***\n",
      "    *\n"
     ]
    }
   ],
   "source": [
    "#作业5\n",
    "for i in range(-4,5):\n",
    "    if i<0:\n",
    "        j=-i\n",
    "    else:\n",
    "        j=i\n",
    "    print(\" \"*j+\"*\"*(9-2*j))\n",
    "    \n",
    "\n",
    "\n"
   ]
  }
 ],
 "metadata": {
  "kernelspec": {
   "display_name": "Python 3",
   "language": "python",
   "name": "python3"
  },
  "language_info": {
   "codemirror_mode": {
    "name": "ipython",
    "version": 3
   },
   "file_extension": ".py",
   "mimetype": "text/x-python",
   "name": "python",
   "nbconvert_exporter": "python",
   "pygments_lexer": "ipython3",
   "version": "3.6.3"
  }
 },
 "nbformat": 4,
 "nbformat_minor": 2
}
