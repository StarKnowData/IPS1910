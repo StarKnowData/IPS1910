{
 "cells": [
  {
   "cell_type": "code",
   "execution_count": 7,
   "metadata": {},
   "outputs": [
    {
     "name": "stdout",
     "output_type": "stream",
     "text": [
      "请输入我的年龄：21\n",
      "ADULT\n"
     ]
    }
   ],
   "source": [
    "number=input(\"请输入我的年龄：\")\n",
    "if int(number)>18:\n",
    "    print(\"ADULT\")\n",
    "else:\n",
    "    print(\"child\")"
   ]
  },
  {
   "cell_type": "markdown",
   "metadata": {},
   "source": [
    "# 编码"
   ]
  },
  {
   "cell_type": "code",
   "execution_count": 9,
   "metadata": {},
   "outputs": [],
   "source": [
    "#-*- coding: utf-8 -*-          #手动指定文件编码UTF-8\n",
    "# encoding: utf-8               #手动指定文件编码UTF-8  注意：该行标注必须位于文件第一行"
   ]
  },
  {
   "cell_type": "markdown",
   "metadata": {},
   "source": [
    "# 保留字"
   ]
  },
  {
   "cell_type": "code",
   "execution_count": 11,
   "metadata": {},
   "outputs": [
    {
     "data": {
      "text/plain": [
       "['False',\n",
       " 'None',\n",
       " 'True',\n",
       " 'and',\n",
       " 'as',\n",
       " 'assert',\n",
       " 'async',\n",
       " 'await',\n",
       " 'break',\n",
       " 'class',\n",
       " 'continue',\n",
       " 'def',\n",
       " 'del',\n",
       " 'elif',\n",
       " 'else',\n",
       " 'except',\n",
       " 'finally',\n",
       " 'for',\n",
       " 'from',\n",
       " 'global',\n",
       " 'if',\n",
       " 'import',\n",
       " 'in',\n",
       " 'is',\n",
       " 'lambda',\n",
       " 'nonlocal',\n",
       " 'not',\n",
       " 'or',\n",
       " 'pass',\n",
       " 'raise',\n",
       " 'return',\n",
       " 'try',\n",
       " 'while',\n",
       " 'with',\n",
       " 'yield']"
      ]
     },
     "execution_count": 11,
     "metadata": {},
     "output_type": "execute_result"
    }
   ],
   "source": [
    ">>> import keyword\n",
    ">>> keyword.kwlist  #保留字即关键字，我们不能把它们用作任何标识符名称。Python的标准库提供了一个keyword模块，可以输出当前版本所有关键字。\n"
   ]
  },
  {
   "cell_type": "markdown",
   "metadata": {},
   "source": [
    "# 注释"
   ]
  },
  {
   "cell_type": "code",
   "execution_count": 12,
   "metadata": {},
   "outputs": [
    {
     "data": {
      "text/plain": [
       "'\\n这也是多行注释\\n这也是多行注释\\n'"
      ]
     },
     "execution_count": 12,
     "metadata": {},
     "output_type": "execute_result"
    }
   ],
   "source": [
    "#这是单行注释\n",
    "'''\n",
    "这是多行注释\n",
    "这是多行注释\n",
    "'''\n",
    "\"\"\"\n",
    "这也是多行注释\n",
    "这也是多行注释\n",
    "\"\"\""
   ]
  },
  {
   "cell_type": "markdown",
   "metadata": {},
   "source": [
    "# 输入"
   ]
  },
  {
   "cell_type": "code",
   "execution_count": 17,
   "metadata": {},
   "outputs": [
    {
     "name": "stdout",
     "output_type": "stream",
     "text": [
      "请输入点东西并按Enter键324\n",
      "324\n"
     ]
    }
   ],
   "source": [
    "content = input(\"请输入点东西并按Enter键\")  #输入任意\n",
    "print(content)                          #输出输入的内容"
   ]
  },
  {
   "cell_type": "markdown",
   "metadata": {},
   "source": [
    "# 同一行多条语句"
   ]
  },
  {
   "cell_type": "code",
   "execution_count": 18,
   "metadata": {},
   "outputs": [
    {
     "name": "stdout",
     "output_type": "stream",
     "text": [
      "hello world"
     ]
    }
   ],
   "source": [
    "import sys; x='hello world';sys.stdout.write(x+'')    #导入sys，输出helloworld，通过；隔开各条语句"
   ]
  },
  {
   "cell_type": "markdown",
   "metadata": {},
   "source": [
    "# print输出"
   ]
  },
  {
   "cell_type": "code",
   "execution_count": 19,
   "metadata": {},
   "outputs": [
    {
     "name": "stdout",
     "output_type": "stream",
     "text": [
      "123\n",
      "123"
     ]
    }
   ],
   "source": [
    "print('123') # 输出123，默认换行 \n",
    "print('123', end = \"\") # 输出123，不换行"
   ]
  },
  {
   "cell_type": "markdown",
   "metadata": {},
   "source": [
    "# 算术运算符实例 1"
   ]
  },
  {
   "cell_type": "code",
   "execution_count": 20,
   "metadata": {},
   "outputs": [
    {
     "name": "stdout",
     "output_type": "stream",
     "text": [
      "1.c的值为： 31\n",
      "2.c的值为： 11\n",
      "3.c的值为： 210\n",
      "4.c的值为： 2.1\n",
      "5.c的值为： 1\n",
      "6.c的值为： 8\n",
      "7.c的值为： 2\n"
     ]
    }
   ],
   "source": [
    "#!/usr/bin/python3\n",
    "\n",
    "a=21\n",
    "b=10\n",
    "c=0     #给a,b,c分别赋值21,10,0\n",
    "\n",
    "c=a+b\n",
    "print(\"1.c的值为：\",c)  #输出a+b的值\n",
    "\n",
    "c=a-b\n",
    "print(\"2.c的值为：\",c)  #输出a-b的值\n",
    "\n",
    "c=a*b\n",
    "print(\"3.c的值为：\",c)  #输出a*b的值\n",
    "\n",
    "c=a/b\n",
    "print(\"4.c的值为：\",c)  #输出a/b的值(a除以b)\n",
    "\n",
    "c=a%b\n",
    "print(\"5.c的值为：\",c)  #输出a%b的值（a除以b取余）\n",
    "\n",
    "a=2\n",
    "b=3\n",
    "c=a**b  #修改a,b,c的值，a为2，b为3，c为a的b次幂\n",
    "print(\"6.c的值为：\",c)  #输出a**b的值\n",
    "\n",
    "a=10\n",
    "b=5\n",
    "c=a//b  #修改a，b，c的值，a为10，b为5，c为a除以b向下取整\n",
    "print(\"7.c的值为：\",c)  #输出a//b的值"
   ]
  },
  {
   "cell_type": "markdown",
   "metadata": {},
   "source": [
    "# 比较运算符实例 2"
   ]
  },
  {
   "cell_type": "code",
   "execution_count": 21,
   "metadata": {},
   "outputs": [
    {
     "name": "stdout",
     "output_type": "stream",
     "text": [
      "1.a 不等于 b\n",
      "2.a 不等于 b\n",
      "3.a 大于等于 b\n",
      "4.a 大于 b\n",
      "5.a 小于等于 b\n",
      "6.b 大于等于 a\n"
     ]
    }
   ],
   "source": [
    "#!/usr/bin/python3\n",
    "\n",
    "a = 21\n",
    "b = 10\n",
    "c = 0  #给a赋值21，给b赋值10，给c赋值0\n",
    "\n",
    "if ( a == b ):          \n",
    " print (\"1.a 等于 b\")\n",
    "else:\n",
    " print (\"1.a 不等于 b\")    #如果a=b，则输出a等于b，否则输出a不等于b\n",
    "\n",
    "if ( a != b ):\n",
    " print (\"2.a 不等于 b\")    \n",
    "else:  \n",
    " print (\"2.a 等于 b\")     #如果a不等于b，则输出a不等于b，否则输出a等于b\n",
    "\n",
    "if ( a < b ):\n",
    " print (\"3.a 小于 b\")\n",
    "else:\n",
    " print (\"3.a 大于等于 b\")   #如果a小于b，则输出a小于b，否则输出a大于等于b\n",
    "\n",
    "if ( a > b ):\n",
    " print (\"4.a 大于 b\")\n",
    "else:\n",
    " print (\"4.a 小于等于 b\")  #如果a大于b，则输出a大于b，否则输出a小于等于b\n",
    "\n",
    "\n",
    "a = 5\n",
    "b = 20    #给a赋值5，给b赋值20\n",
    "if ( a <= b ):\n",
    " print (\"5.a 小于等于 b\")  \n",
    "else:\n",
    " print (\"5.a 大于 b\")   #如果a小于等于b，则输出a小于等于b，否则输出a大于b\n",
    "\n",
    "if ( b >= a ):\n",
    " print (\"6.b 大于等于 a\")\n",
    "else:\n",
    " print (\"6.b 小于 a\")   #如果a大于等于b，则输出a大于等于b，否则输出a小于b\n"
   ]
  },
  {
   "cell_type": "markdown",
   "metadata": {},
   "source": [
    "# 赋值运算符实例 3"
   ]
  },
  {
   "cell_type": "code",
   "execution_count": 22,
   "metadata": {},
   "outputs": [
    {
     "name": "stdout",
     "output_type": "stream",
     "text": [
      "1.c 的值为 31\n",
      "2.c 的值为 52\n",
      "3.c 的值为 1092\n",
      "4.c 的值为 52.0\n",
      "5.c 的值为 2\n",
      "6.c 的值为 2097152\n",
      "7.c 的值为 99864\n"
     ]
    }
   ],
   "source": [
    "#!/usr/bin/python3\n",
    "\n",
    "a = 21\n",
    "b = 10\n",
    "c = 0   #给a赋值21，给b赋值10，给c赋值0\n",
    "\n",
    "c = a + b  #给c赋值a+b\n",
    "print (\"1.c 的值为\", c)  #输出c\n",
    "\n",
    "c += a     #给c赋值a+c\n",
    "print (\"2.c 的值为\", c)  #输出c\n",
    "\n",
    "c *= a     #给c赋值a*c\n",
    "print (\"3.c 的值为\", c)  #输出c\n",
    "\n",
    "c /= a     #给c赋值c除以a\n",
    "print (\"4.c 的值为\", c)  #输出c\n",
    "\n",
    "c = 2      #给c赋值2\n",
    "c %= a     #给c赋值c除以a取余数\n",
    "print (\"5.c 的值为\", c)  #输出c\n",
    "\n",
    "c **= a    #给c赋值c的a次幂\n",
    "print (\"6.c 的值为\", c)  #输出c\n",
    "\n",
    "c //= a    #给c赋值c除以a向下取整\n",
    "print (\"7.c 的值为\", c)  #输出c"
   ]
  },
  {
   "cell_type": "markdown",
   "metadata": {},
   "source": [
    "# 位运算符实例 4"
   ]
  },
  {
   "cell_type": "code",
   "execution_count": 26,
   "metadata": {},
   "outputs": [
    {
     "name": "stdout",
     "output_type": "stream",
     "text": [
      "1.c 的值为 12\n",
      "2.c 的值为 61\n",
      "3.c 的值为 49\n",
      "4.c 的值为 -61\n",
      "5.c 的值为 240\n",
      "6.c 的值为 15\n"
     ]
    }
   ],
   "source": [
    "#!/usr/bin/python3\n",
    "\n",
    "a = 60    # 给a赋值60,60的二进制为60 = 0011 1100 \n",
    "b = 13    # 给b赋值13,13的二进制为13 = 0000 1101 \n",
    "c = 0\n",
    "\n",
    "c = a & b # 给c赋值a，b按位与（都是1为1，否则为0）,12的二进制为12 = 0000 1100\n",
    "print (\"1.c 的值为\", c)  #输出c\n",
    "c = a | b # 给c赋值a，b按位或（有一个为1则为1）,61的二进制为61 = 0011 1101 \n",
    "print (\"2.c 的值为\", c)\n",
    "c = a ^ b # 给c赋值a，b按位异或（不同为1）,49的二进制为49 = 0011 0001\n",
    "print (\"3.c 的值为\", c)\n",
    "c = ~a    # 给c赋值a按位取反（1变0,0变1）,-61的二进制为-61 = 1100 0011\n",
    "print (\"4.c 的值为\", c)\n",
    "c = a << 2 # 给c赋值a左移动（向左移动相应位数，高位丢弃，低位补0）,240的二进制为240 = 1111 0000\n",
    "print (\"5.c 的值为\", c)\n",
    "c = a >> 2; # 给c赋值a右移动（向右移动相应位数）,15的二进制为15 = 0000 1111\n",
    "print (\"6.c 的值为\", c)\n"
   ]
  },
  {
   "cell_type": "markdown",
   "metadata": {},
   "source": [
    "# 逻辑运算符实例 5"
   ]
  },
  {
   "cell_type": "code",
   "execution_count": 27,
   "metadata": {},
   "outputs": [
    {
     "name": "stdout",
     "output_type": "stream",
     "text": [
      "1.变量a和b都为true\n",
      "2.变量a和b都为true，或其中一个变量为true\n",
      "3.变量a和b有一个不为true\n",
      "4.变量a和b都为true，或其中一个变量为true\n",
      "5.变量a和b都为false，或其中一个变量为false\n"
     ]
    }
   ],
   "source": [
    "#!/usr/bin/python3\n",
    "\n",
    "a = 10\n",
    "b = 20  #给a赋值10，给b赋值20\n",
    "\n",
    "if ( a and b ):   #如果a为假，则为假，否则返回b的值，一假为假，都真为真\n",
    " print (\"1.变量a和b都为true\")\n",
    "else:\n",
    " print (\"1.变量a和b有一个不为true\")\n",
    "\n",
    "if ( a or b ):    #如果a为真，则返回a的值，否则返回b的值，一真为真，都假为假\n",
    " print (\"2.变量a和b都为true，或其中一个变量为true\")\n",
    "else:\n",
    " print (\"2.变量a和b都不为true\")\n",
    "\n",
    "a = 0\n",
    "if ( a and b ):   #如果a为假，则为假，否则为b的值，一假为假，都真为真\n",
    " print (\"3.变量a和b都为true\")\n",
    "else:\n",
    " print (\"3.变量a和b有一个不为true\")\n",
    "\n",
    "if ( a or b ):    #如果a为真，则返回a的值，否则返回b的值，一真为真，都假为假\n",
    " print (\"4.变量a和b都为true，或其中一个变量为true\")\n",
    "else:\n",
    " print (\"4.变量a和b都不为true\")\n",
    "\n",
    "if not( a and b ):  #如果括号内为真则为假，括号内为假则为真\n",
    " print (\"5.变量a和b都为false，或其中一个变量为false\")\n",
    "else:\n",
    " print (\"5.变量a和b都为true\")"
   ]
  },
  {
   "cell_type": "markdown",
   "metadata": {},
   "source": [
    "# 成员运算符 6"
   ]
  },
  {
   "cell_type": "code",
   "execution_count": 28,
   "metadata": {},
   "outputs": [
    {
     "name": "stdout",
     "output_type": "stream",
     "text": [
      "1.变量a不在给定的列表list中\n",
      "2.变量b不在给定的列表list中\n",
      "3.变量a在给定的列表list中\n"
     ]
    }
   ],
   "source": [
    "#!/usr/bin/python3\n",
    "\n",
    "a = 10\n",
    "b = 20\n",
    "list = [1, 2, 3, 4, 5 ];\n",
    "\n",
    "if ( a in list ):\n",
    " print (\"1.变量a在给定的列表list中\")\n",
    "else:\n",
    " print (\"1.变量a不在给定的列表list中\")\n",
    "\n",
    "if ( b not in list ):\n",
    " print (\"2.变量b不在给定的列表list中\")\n",
    "else:\n",
    " print (\"2.变量b在给定的列表list中\")\n",
    "\n",
    "a = 2\n",
    "if ( a in list ):\n",
    " print (\"3.变量a在给定的列表list中\")\n",
    "else:\n",
    " print (\"3.变量a不在给定的列表list中\")"
   ]
  },
  {
   "cell_type": "markdown",
   "metadata": {},
   "source": [
    "# 身份运算符 7"
   ]
  },
  {
   "cell_type": "code",
   "execution_count": 29,
   "metadata": {},
   "outputs": [
    {
     "name": "stdout",
     "output_type": "stream",
     "text": [
      "1.a和b有相同的标识\n",
      "2.a和b有相同的标识\n",
      "3.a和b没有相同的标识\n",
      "4.a和b没有相同的标识\n"
     ]
    }
   ],
   "source": [
    "#!/usr/bin/python3\n",
    "\n",
    "a = 20\n",
    "b = 20\n",
    "\n",
    "if ( a is b ):\n",
    " print (\"1.a和b有相同的标识\")\n",
    "else:\n",
    " print (\"1.a和b没有相同的标识\")\n",
    "\n",
    "if ( id(a) == id(b) ):\n",
    " print (\"2.a和b有相同的标识\")\n",
    "else:\n",
    " print (\"2.a和b没有相同的标识\")\n",
    "\n",
    "\n",
    "b = 30\n",
    "if ( a is b ):\n",
    " print (\"3.a和b有相同的标识\")\n",
    "else:\n",
    " print (\"3.a和b没有相同的标识\")\n",
    "\n",
    "if ( a is not b ):\n",
    " print (\"4.a和b没有相同的标识\")\n",
    "else:\n",
    " print (\"4.a和b有相同的标识\")"
   ]
  },
  {
   "cell_type": "code",
   "execution_count": 33,
   "metadata": {},
   "outputs": [
    {
     "data": {
      "text/plain": [
       "True"
      ]
     },
     "execution_count": 33,
     "metadata": {},
     "output_type": "execute_result"
    }
   ],
   "source": [
    ">>> a = [1,2,3]\n",
    ">>> b = a"
   ]
  },
  {
   "cell_type": "code",
   "execution_count": 34,
   "metadata": {},
   "outputs": [
    {
     "data": {
      "text/plain": [
       "True"
      ]
     },
     "execution_count": 34,
     "metadata": {},
     "output_type": "execute_result"
    }
   ],
   "source": [
    ">>> b == a"
   ]
  },
  {
   "cell_type": "code",
   "execution_count": 35,
   "metadata": {},
   "outputs": [
    {
     "data": {
      "text/plain": [
       "False"
      ]
     },
     "execution_count": 35,
     "metadata": {},
     "output_type": "execute_result"
    }
   ],
   "source": [
    ">>> b is a"
   ]
  },
  {
   "cell_type": "code",
   "execution_count": 36,
   "metadata": {},
   "outputs": [
    {
     "data": {
      "text/plain": [
       "False"
      ]
     },
     "execution_count": 36,
     "metadata": {},
     "output_type": "execute_result"
    }
   ],
   "source": [
    ">>> b = a[:]\n",
    ">>> b is a"
   ]
  },
  {
   "cell_type": "code",
   "execution_count": 37,
   "metadata": {},
   "outputs": [
    {
     "data": {
      "text/plain": [
       "True"
      ]
     },
     "execution_count": 37,
     "metadata": {},
     "output_type": "execute_result"
    }
   ],
   "source": [
    ">>> b == a"
   ]
  },
  {
   "cell_type": "markdown",
   "metadata": {},
   "source": [
    "# 运算符优先级实例 8"
   ]
  },
  {
   "cell_type": "code",
   "execution_count": 39,
   "metadata": {},
   "outputs": [
    {
     "name": "stdout",
     "output_type": "stream",
     "text": [
      "(a + b) * c / d 运算结果为 90.0\n",
      "((a + b) * c) / d 运算结果为 90.0\n",
      "(a + b) * (c / d) 运算结果为 90.0\n",
      "a + (b * c) / d 运算结果为 50.0\n"
     ]
    }
   ],
   "source": [
    "#!/usr/bin/python3\n",
    "\n",
    "a = 20\n",
    "b = 10\n",
    "c = 15\n",
    "d = 5\n",
    "e = 0\n",
    "\n",
    "e = (a + b) * c / d      \n",
    "print (\"(a + b) * c / d 运算结果为\", e)\n",
    "\n",
    "e = ((a + b) * c) / d   \n",
    "print (\"((a + b) * c) / d 运算结果为\", e)\n",
    "\n",
    "e = (a + b) * (c / d)    \n",
    "print (\"(a + b) * (c / d) 运算结果为\", e)\n",
    "\n",
    "e = a + (b * c) / d     \n",
    "print (\"a + (b * c) / d 运算结果为\", e)"
   ]
  },
  {
   "cell_type": "markdown",
   "metadata": {},
   "source": [
    "# 访问字符串中的值"
   ]
  },
  {
   "cell_type": "code",
   "execution_count": 42,
   "metadata": {},
   "outputs": [
    {
     "name": "stdout",
     "output_type": "stream",
     "text": [
      "var1[0]:  H\n",
      "var2[1:5]:  unoo\n"
     ]
    }
   ],
   "source": [
    "#!/usr/bin/python3\n",
    "\n",
    "var1 = 'Hello World!'\n",
    "var2 = \"Runoob\"\n",
    "\n",
    "print (\"var1[0]: \", var1[0])  #输出第一个字符\n",
    "print (\"var2[1:5]: \", var2[1:5])   #输出第2到第5个字符"
   ]
  },
  {
   "cell_type": "code",
   "execution_count": 43,
   "metadata": {},
   "outputs": [
    {
     "name": "stdout",
     "output_type": "stream",
     "text": [
      "已更新字符串 :  Hello Runoob!\n"
     ]
    }
   ],
   "source": [
    "#!/usr/bin/python3\n",
    "var1 = 'Hello World!'\n",
    "print (\"已更新字符串 : \", var1[:6] + 'Runoob!')  #输出前六个字符和Runoob！"
   ]
  },
  {
   "cell_type": "markdown",
   "metadata": {},
   "source": [
    "# 字符串运算实例"
   ]
  },
  {
   "cell_type": "code",
   "execution_count": 44,
   "metadata": {},
   "outputs": [
    {
     "name": "stdout",
     "output_type": "stream",
     "text": [
      "a + b 输出结果 HelloPython\n",
      "a * 2 输出结果 HelloHello\n",
      "a[1] 输出结果 e\n",
      "a[1:4]输出结果 ell\n",
      "H 在变量a中\n",
      "M 不在变量a中\n",
      "\\n\n",
      "\\n\n"
     ]
    }
   ],
   "source": [
    "#!/usr/bin/python3\n",
    "\n",
    "a = \"Hello\"\n",
    "b = \"Python\"\n",
    "\n",
    "print(\"a + b 输出结果\", a + b)\n",
    "print(\"a * 2 输出结果\", a * 2)\n",
    "print(\"a[1] 输出结果\", a[1])\n",
    "print(\"a[1:4]输出结果\", a[1:4])\n",
    "\n",
    "if( \"H\" in a) :\n",
    " print(\"H 在变量a中\")\n",
    "else :\n",
    " print(\"H 不在变量a中\")\n",
    "\n",
    "if( \"M\" not in a) :\n",
    " print(\"M 不在变量a中\")\n",
    "else :\n",
    " print(\"M 在变量a中\")\n",
    "\n",
    "print (r'\\n')\n",
    "print (R'\\n')"
   ]
  },
  {
   "cell_type": "markdown",
   "metadata": {},
   "source": [
    "# 字符串格式化"
   ]
  },
  {
   "cell_type": "code",
   "execution_count": 45,
   "metadata": {},
   "outputs": [
    {
     "name": "stdout",
     "output_type": "stream",
     "text": [
      "我叫小明，今年10岁\n"
     ]
    }
   ],
   "source": [
    "print(\"我叫%s，今年%d岁\" % ('小明', 10))"
   ]
  },
  {
   "cell_type": "markdown",
   "metadata": {},
   "source": [
    "# 多行字符串"
   ]
  },
  {
   "cell_type": "code",
   "execution_count": 47,
   "metadata": {},
   "outputs": [
    {
     "name": "stdout",
     "output_type": "stream",
     "text": [
      " \n",
      "print( math.fabs(-10)) \n",
      "print( \n",
      "random.choice(li)) \n",
      "\n"
     ]
    }
   ],
   "source": [
    "string = ''' \n",
    "print( math.fabs(-10)) \n",
    "print( \n",
    "random.choice(li)) \n",
    "''' \n",
    "print(string)"
   ]
  },
  {
   "cell_type": "markdown",
   "metadata": {},
   "source": [
    "# 字节"
   ]
  },
  {
   "cell_type": "code",
   "execution_count": 60,
   "metadata": {},
   "outputs": [
    {
     "data": {
      "text/plain": [
       "b'\\xe4\\xb8\\xad\\xe5\\x9b\\xbd'"
      ]
     },
     "execution_count": 60,
     "metadata": {},
     "output_type": "execute_result"
    }
   ],
   "source": [
    "'中国'.encode() \n",
    "bytes('中国',encoding='utf-8')   #将str类型数据转换成bytes"
   ]
  },
  {
   "cell_type": "code",
   "execution_count": 61,
   "metadata": {},
   "outputs": [
    {
     "data": {
      "text/plain": [
       "'abc'"
      ]
     },
     "execution_count": 61,
     "metadata": {},
     "output_type": "execute_result"
    }
   ],
   "source": [
    "b'abc'.decode() \n",
    "str(b'abc', encoding='utf-8')     #将bytes类数据转换成str"
   ]
  },
  {
   "cell_type": "markdown",
   "metadata": {},
   "source": [
    "# 星星游戏"
   ]
  },
  {
   "cell_type": "code",
   "execution_count": 84,
   "metadata": {},
   "outputs": [
    {
     "name": "stdout",
     "output_type": "stream",
     "text": [
      "*\n",
      "**\n",
      "***\n",
      "****\n",
      "*****\n"
     ]
    }
   ],
   "source": [
    "#作业1\n",
    "for i in range(5):\n",
    "    print(\"*\"*(i+1))"
   ]
  },
  {
   "cell_type": "code",
   "execution_count": 85,
   "metadata": {},
   "outputs": [
    {
     "name": "stdout",
     "output_type": "stream",
     "text": [
      "*\n",
      "***\n",
      "*****\n",
      "*******\n",
      "*********\n"
     ]
    }
   ],
   "source": [
    "#作业2\n",
    "for i in range(5):\n",
    "    print(\"*\"*(2*i+1))"
   ]
  },
  {
   "cell_type": "code",
   "execution_count": 110,
   "metadata": {},
   "outputs": [
    {
     "name": "stdout",
     "output_type": "stream",
     "text": [
      "     *\n",
      "    ***\n",
      "   *****\n",
      "  *******\n",
      " *********\n"
     ]
    }
   ],
   "source": [
    "#作业3\n",
    "for i in range(5):\n",
    "    print(\" \"*(4-i),\"*\"*(2*i+1))"
   ]
  },
  {
   "cell_type": "code",
   "execution_count": 113,
   "metadata": {},
   "outputs": [
    {
     "name": "stdout",
     "output_type": "stream",
     "text": [
      "     *\n",
      "    **\n",
      "   ***\n",
      "  ****\n",
      " *****\n"
     ]
    }
   ],
   "source": [
    "#作业4\n",
    "for i in range(5):\n",
    "    print(\" \"*(4-i),\"*\"*(i+1))"
   ]
  },
  {
   "cell_type": "code",
   "execution_count": 114,
   "metadata": {},
   "outputs": [
    {
     "name": "stdout",
     "output_type": "stream",
     "text": [
      "    *\n",
      "   ***\n",
      "  *****\n",
      " *******\n",
      "  *****\n",
      "   ***\n",
      "    *\n"
     ]
    }
   ],
   "source": [
    "#作业5\n",
    "for i in range(4):\n",
    "    print(\" \"*(3-i),\"*\"*(2*i+1))\n",
    "for i in range(3):\n",
    "    print(\" \"*(i+1),\"*\"*(5-2*i))"
   ]
  },
  {
   "cell_type": "code",
   "execution_count": null,
   "metadata": {},
   "outputs": [],
   "source": []
  },
  {
   "cell_type": "code",
   "execution_count": null,
   "metadata": {},
   "outputs": [],
   "source": []
  }
 ],
 "metadata": {
  "kernelspec": {
   "display_name": "Python 3",
   "language": "python",
   "name": "python3"
  },
  "language_info": {
   "codemirror_mode": {
    "name": "ipython",
    "version": 3
   },
   "file_extension": ".py",
   "mimetype": "text/x-python",
   "name": "python",
   "nbconvert_exporter": "python",
   "pygments_lexer": "ipython3",
   "version": "3.7.4"
  }
 },
 "nbformat": 4,
 "nbformat_minor": 2
}
