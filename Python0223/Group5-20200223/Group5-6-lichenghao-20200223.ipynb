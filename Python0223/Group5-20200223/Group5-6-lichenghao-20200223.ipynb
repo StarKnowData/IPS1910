{
 "cells": [
  {
   "cell_type": "code",
   "execution_count": 1,
   "metadata": {},
   "outputs": [
    {
     "data": {
      "text/plain": [
       "['False',\n",
       " 'None',\n",
       " 'True',\n",
       " 'and',\n",
       " 'as',\n",
       " 'assert',\n",
       " 'async',\n",
       " 'await',\n",
       " 'break',\n",
       " 'class',\n",
       " 'continue',\n",
       " 'def',\n",
       " 'del',\n",
       " 'elif',\n",
       " 'else',\n",
       " 'except',\n",
       " 'finally',\n",
       " 'for',\n",
       " 'from',\n",
       " 'global',\n",
       " 'if',\n",
       " 'import',\n",
       " 'in',\n",
       " 'is',\n",
       " 'lambda',\n",
       " 'nonlocal',\n",
       " 'not',\n",
       " 'or',\n",
       " 'pass',\n",
       " 'raise',\n",
       " 'return',\n",
       " 'try',\n",
       " 'while',\n",
       " 'with',\n",
       " 'yield']"
      ]
     },
     "execution_count": 1,
     "metadata": {},
     "output_type": "execute_result"
    }
   ],
   "source": [
    "import keyword\n",
    "keyword.kwlist"
   ]
  },
  {
   "cell_type": "code",
   "execution_count": null,
   "metadata": {},
   "outputs": [],
   "source": [
    "# 这是单行注释\n",
    "\n",
    "'''\n",
    "这是\n",
    "多行注释\n",
    "'''\n",
    "\n",
    "\"\"\"\n",
    "这也是\n",
    "多行注释\n",
    "\"\"\""
   ]
  },
  {
   "cell_type": "code",
   "execution_count": 5,
   "metadata": {},
   "outputs": [
    {
     "name": "stdout",
     "output_type": "stream",
     "text": [
      " 请输入点东西并按enter键 \n",
      "\n"
     ]
    }
   ],
   "source": [
    "content = input(\" 请输入点东西并按enter键 \")\n",
    "print (content)"
   ]
  },
  {
   "cell_type": "code",
   "execution_count": 9,
   "metadata": {},
   "outputs": [
    {
     "name": "stdout",
     "output_type": "stream",
     "text": [
      "hello world you"
     ]
    }
   ],
   "source": [
    "import sys; x = \"hello world\"; sys.stdout.write(x + \" you\")"
   ]
  },
  {
   "cell_type": "code",
   "execution_count": null,
   "metadata": {},
   "outputs": [],
   "source": [
    "print (\"123\") #默认换行\n",
    "print (\"123\", end=\"\")#默认不换行"
   ]
  },
  {
   "cell_type": "code",
   "execution_count": 11,
   "metadata": {},
   "outputs": [
    {
     "name": "stdout",
     "output_type": "stream",
     "text": [
      "1 - c 的值为 31\n",
      "2 - c 的值为 11\n",
      "3 - c 的值为 210\n",
      "4 - c 的值为 2.1\n",
      "5 - c 的值为 1\n",
      "7 - c 的值为 2\n"
     ]
    }
   ],
   "source": [
    "a = 21\n",
    "b = 10\n",
    "c = 0\n",
    " \n",
    "c = a + b\n",
    "print (\"1 - c 的值为\", c)\n",
    " \n",
    "c = a - b\n",
    "print (\"2 - c 的值为\", c)\n",
    " \n",
    "c = a * b\n",
    "print (\"3 - c 的值为\", c)\n",
    " \n",
    "c = a / b\n",
    "print (\"4 - c 的值为\", c)\n",
    " \n",
    "c = a % b\n",
    "print (\"5 - c 的值为\", c)\n",
    "\n",
    "# 改变变量abc\n",
    "a = 10\n",
    "b = 5\n",
    "c = a//b\n",
    "print (\"7 - c 的值为\", c)\n"
   ]
  },
  {
   "cell_type": "code",
   "execution_count": 12,
   "metadata": {},
   "outputs": [
    {
     "name": "stdout",
     "output_type": "stream",
     "text": [
      "1 - a 不等于 b\n",
      "2 - a 不等于 b\n",
      "3 - a 大于等于 b\n",
      "4 - a 大于 b\n",
      "5 - a 小于等于 b\n",
      "6 - b 大于等于 a\n"
     ]
    }
   ],
   "source": [
    "a = 21\n",
    "b = 10\n",
    "c = 0\n",
    " \n",
    "if ( a == b ):\n",
    "    print (\"1 - a 等于b\")\n",
    "else:\n",
    "    print (\"1 - a 不等于 b\")\n",
    " \n",
    "if ( a != b ):\n",
    "    print (\"2 - a 不等于 b\") \n",
    "else:\n",
    "    print (\"2 - a 等于 b\")\n",
    " \n",
    "if ( a < b ): \n",
    "    print (\"3 - a 小于 b\")\n",
    "else:   \n",
    "    print (\"3 - a 大于等于 b\")\n",
    " \n",
    "if ( a > b ):  \n",
    "    print (\"4 - a 大于 b\") \n",
    "else:  \n",
    "    print (\"4 - a 小于等于 b\")\n",
    " \n",
    "# 改变变量a,b\n",
    "a = 5;\n",
    "b = 20; \n",
    "if ( a <= b ): \n",
    "    print (\"5 - a 小于等于 b\")\n",
    "else: \n",
    "    print (\"5 - a 大于  b\")\n",
    " \n",
    "if ( b >= a ): \n",
    "    print (\"6 - b 大于等于 a\")\n",
    "else:  \n",
    "    print (\"6 - b 小于 a\")\n"
   ]
  },
  {
   "cell_type": "code",
   "execution_count": 13,
   "metadata": {},
   "outputs": [
    {
     "name": "stdout",
     "output_type": "stream",
     "text": [
      "1 - c 的值为： 31\n",
      "2 - c 的值为： 52\n",
      "3 - c 的值为： 1092\n",
      "4 - c 的值为： 52.0\n",
      "5 - c 的值为： 2\n",
      "6 - c 的值为： 2097152\n",
      "7 - c 的值为： 99864\n"
     ]
    }
   ],
   "source": [
    "a = 21 \n",
    "b = 10 \n",
    "c = 0\n",
    " \n",
    "c = a + b \n",
    "print (\"1 - c 的值为：\", c)\n",
    " \n",
    "c += a\n",
    "print (\"2 - c 的值为：\", c)\n",
    " \n",
    "c *= a\n",
    "print (\"3 - c 的值为：\", c)\n",
    " \n",
    "c /= a\n",
    "print (\"4 - c 的值为：\", c)\n",
    " \n",
    "c = 2\n",
    "c %= a\n",
    "print (\"5 - c 的值为：\", c)\n",
    " \n",
    "c **= a\n",
    "print (\"6 - c 的值为：\", c)\n",
    " \n",
    "c //= a\n",
    "print (\"7 - c 的值为：\", c)\n"
   ]
  },
  {
   "cell_type": "code",
   "execution_count": 14,
   "metadata": {},
   "outputs": [
    {
     "ename": "SyntaxError",
     "evalue": "invalid token (<ipython-input-14-1988b8aac32a>, line 1)",
     "output_type": "error",
     "traceback": [
      "\u001b[1;36m  File \u001b[1;32m\"<ipython-input-14-1988b8aac32a>\"\u001b[1;36m, line \u001b[1;32m1\u001b[0m\n\u001b[1;33m    a = 0011 1100\u001b[0m\n\u001b[1;37m           ^\u001b[0m\n\u001b[1;31mSyntaxError\u001b[0m\u001b[1;31m:\u001b[0m invalid token\n"
     ]
    }
   ],
   "source": [
    "a = 0011 1100\n",
    "b = 0000 1101\n",
    "----------------\n",
    "a&b = 0000 1100\n",
    "a|b = 0011 1101\n",
    "a^b = 0011 0001\n",
    "~a  = 1100 0011"
   ]
  },
  {
   "cell_type": "code",
   "execution_count": 15,
   "metadata": {},
   "outputs": [
    {
     "name": "stdout",
     "output_type": "stream",
     "text": [
      "1 - c 的值为： 12\n",
      "2 - c 的值为： 61\n",
      "3 - c 的值为： 49\n",
      "4 - c 的值为： -61\n",
      "5 - c 的值为： 240\n",
      "6 - c 的值为： 15\n"
     ]
    }
   ],
   "source": [
    "a = 60            # 60 = 0011 1100 \n",
    "b = 13            # 13 = 0000 1101 \n",
    "c = 0\n",
    " \n",
    "c = a & b;        # 12 = 0000 1100\n",
    "print (\"1 - c 的值为：\", c)\n",
    " \n",
    "c = a | b;        # 61 = 0011 1101 \n",
    "print (\"2 - c 的值为：\", c)\n",
    " \n",
    "c = a ^ b;        # 49 = 0011 0001\n",
    "print (\"3 - c 的值为：\", c)\n",
    " \n",
    "c = ~a;           # -61 = 1100 0011 \n",
    "print (\"4 - c 的值为：\", c)\n",
    " \n",
    "c = a << 2;       # 240 = 1111 0000 \n",
    "print (\"5 - c 的值为：\", c)\n",
    " \n",
    "c = a >> 2;       # 15 = 0000 1111 \n",
    "print (\"6 - c 的值为：\", c)\n"
   ]
  },
  {
   "cell_type": "code",
   "execution_count": 17,
   "metadata": {},
   "outputs": [
    {
     "name": "stdout",
     "output_type": "stream",
     "text": [
      "1 - 变量 a 和 b 都为 true\n",
      "2 - 变量 a 和 b 都为 true或其中一个变量为 true\n",
      "3 - 变量 a 和 b 有一个不为 true\n",
      "4 - 变量 a 和 b 都为 true或其中一个变量为 true\n",
      "5 - 变量 a 和 b 都为 false或其中一个变量为 false\n"
     ]
    }
   ],
   "source": [
    "a = 10\n",
    "b = 20\n",
    " \n",
    "if ( a and b ): \n",
    "    print (\"1 - 变量 a 和 b 都为 true\")\n",
    "else:  \n",
    "    print (\"1 - 变量 a 和 b 有一个不为 true\")\n",
    " \n",
    "if ( a or b ):  \n",
    "    print (\"2 - 变量 a 和 b 都为 true或其中一个变量为 true\") \n",
    "else:  \n",
    "    print (\"2 - 变量 a 和 b 都不为 true\")\n",
    " \n",
    "# 改变a的变量\n",
    "a = 0\n",
    "if ( a and b ): \n",
    "    print (\"3 - 变量 a 和 b 都为 true\")\n",
    "else: \n",
    "    print (\"3 - 变量 a 和 b 有一个不为 true\")\n",
    " \n",
    "if ( a or b ): \n",
    "    print (\"4 - 变量 a 和 b 都为 true或其中一个变量为 true\")\n",
    "else:  \n",
    "    print (\"4 - 变量 a 和 b 都不为 true\")\n",
    " \n",
    "if not( a and b ): \n",
    "    print (\"5 - 变量 a 和 b 都为 false或其中一个变量为 false\")\n",
    "else: \n",
    "    print (\"5 - 变量 a 和 b 都为 true\")\n"
   ]
  },
  {
   "cell_type": "code",
   "execution_count": 21,
   "metadata": {},
   "outputs": [
    {
     "name": "stdout",
     "output_type": "stream",
     "text": [
      "1 - 变量 a 不在给定的列表中 list 中\n",
      "2 - 变量 b 不在给定的列表中 list 中\n",
      "3 - 变量 a 在给定的列表中 list 中\n"
     ]
    }
   ],
   "source": [
    "a = 10\n",
    "b = 20\n",
    "list = [1, 2, 3, 4, 5 ]\n",
    " \n",
    "if ( a in list ):  \n",
    "    print (\"1 - 变量 a 在给定的列表中 list 中\")\n",
    "else:\n",
    "    print (\"1 - 变量 a 不在给定的列表中 list 中\")\n",
    " \n",
    "if ( b not in list ):  \n",
    "    print (\"2 - 变量 b 不在给定的列表中 list 中\") \n",
    "else:  \n",
    "    print (\"2 - 变量 b 在给定的列表中 list 中\")\n",
    " \n",
    "# 改变a的变量\n",
    "a = 2\n",
    "if ( a in list ): \n",
    "    print (\"3 - 变量 a 在给定的列表中 list 中\")\n",
    "else:  \n",
    "    print (\"3 - 变量 a 不在给定的列表中 list 中\")"
   ]
  },
  {
   "cell_type": "code",
   "execution_count": 25,
   "metadata": {},
   "outputs": [
    {
     "name": "stdout",
     "output_type": "stream",
     "text": [
      "1 - a 和 b 有相同的标识 \n",
      "2 - a 和 b 有相同的标识 \n",
      "3 - a 和 b 没有相同的标识 \n",
      "4 - a 和 b 没有相同的标识 \n"
     ]
    }
   ],
   "source": [
    "a = 20\n",
    "b = 20\n",
    " \n",
    "if ( a is b ): \n",
    "    print (\"1 - a 和 b 有相同的标识 \")\n",
    "else:\n",
    "    print (\"1 - a 和 b 没有相同的标识 \")\n",
    "if ( id(a) == id(b) ): \n",
    "    print (\"2 - a 和 b 有相同的标识 \")\n",
    "else:\n",
    "    print (\"2 - a 和 b 没有相同的标识 \")\n",
    " \n",
    "# ᰁݒදץ b ጱ꧊ \n",
    "b = 30\n",
    "if ( a is b ):   \n",
    "    print (\"3 - a 和 b 有相同的标识 \")\n",
    "else: \n",
    "    print (\"3 - a 和 b 没有相同的标识 \")\n",
    " \n",
    "if ( a is not b ): \n",
    "    print (\"4 - a 和 b 没有相同的标识 \")\n",
    "else:  \n",
    "    print (\"4 - a 和 b 有相同的标识 \")\n"
   ]
  },
  {
   "cell_type": "code",
   "execution_count": 30,
   "metadata": {},
   "outputs": [],
   "source": [
    "a = [1, 2, 3] \n",
    "b = a \n",
    "b is a \n",
    "b == a \n",
    "b = a[:] \n",
    "b is a \n",
    "b == a \n"
   ]
  },
  {
   "cell_type": "code",
   "execution_count": 32,
   "metadata": {},
   "outputs": [
    {
     "name": "stdout",
     "output_type": "stream",
     "text": [
      "(a + b) * c / d 的运算结果为： 90.0\n",
      "((a + b) * c) / d 的运算结果为： 90.0\n",
      "(a + b) * (c / d) 的运算结果为： 90.0\n",
      "a + (b * c) / d 的运算结果为： 50.0\n"
     ]
    }
   ],
   "source": [
    "a = 20\n",
    "b = 10\n",
    "c = 15 \n",
    "d = 5 \n",
    "e = 0\n",
    " \n",
    "e = (a + b) * c / d       #( 30 * 15 ) / 5 \n",
    "print (\"(a + b) * c / d 的运算结果为：\",  e)\n",
    " \n",
    "e = ((a + b) * c) / d     # (30 * 15 ) / 5\n",
    "print (\"((a + b) * c) / d 的运算结果为：\",  e)\n",
    " \n",
    "e = (a + b) * (c / d);    # (30) * (15/5) \n",
    "print (\"(a + b) * (c / d) 的运算结果为：\",  e)\n",
    " \n",
    "e = a + (b * c) / d;      #  20 + (150/5)\n",
    "print (\"a + (b * c) / d 的运算结果为：\",  e)\n"
   ]
  },
  {
   "cell_type": "code",
   "execution_count": 33,
   "metadata": {},
   "outputs": [
    {
     "name": "stdout",
     "output_type": "stream",
     "text": [
      "var1[0]:  H\n",
      "var2[1:5]:  unoo\n"
     ]
    }
   ],
   "source": [
    "var1 = 'Hello World!' \n",
    "var2 = \"Runoob\"\n",
    " \n",
    "print (\"var1[0]: \", var1[0])\n",
    "print (\"var2[1:5]: \", var2[1:5])\n"
   ]
  },
  {
   "cell_type": "code",
   "execution_count": 34,
   "metadata": {},
   "outputs": [
    {
     "name": "stdout",
     "output_type": "stream",
     "text": [
      "已更新字符串 :  Hello Runoob!\n"
     ]
    }
   ],
   "source": [
    "var1 = 'Hello World!'\n",
    " \n",
    "print (\"已更新字符串 : \", var1[:6] + 'Runoob!')\n"
   ]
  },
  {
   "cell_type": "code",
   "execution_count": 35,
   "metadata": {},
   "outputs": [
    {
     "name": "stdout",
     "output_type": "stream",
     "text": [
      "a + b 输出结果为： HelloPython\n",
      "a * 2 输出结果为： HelloHello\n",
      "a[1]  输出结果为： e\n",
      "a[1:4] 输出结果为： ell\n",
      "H 在变量 a 中\n",
      "M 不在变量 a 中\n",
      "\\n\n",
      "\\n\n"
     ]
    }
   ],
   "source": [
    "a = \"Hello\"\n",
    "b = \"Python\"\n",
    " \n",
    "print(\"a + b 输出结果为：\", a + b) \n",
    "print(\"a * 2 输出结果为：\", a * 2)\n",
    "print(\"a[1]  输出结果为：\", a[1]) \n",
    "print(\"a[1:4] 输出结果为：\", a[1:4])\n",
    " \n",
    "if( \"H\" in a) : \n",
    "    print(\"H 在变量 a 中\") \n",
    "else :   \n",
    "    print(\"H 不在变量 a 中\")\n",
    " \n",
    "if( \"M\" not in a) :  \n",
    "    print(\"M 不在变量 a 中\") \n",
    "else :   \n",
    "    print(\"M 在变量 a 中\")\n",
    " \n",
    "print (r'\\n')\n",
    "print (R'\\n')\n"
   ]
  },
  {
   "cell_type": "code",
   "execution_count": 37,
   "metadata": {},
   "outputs": [
    {
     "name": "stdout",
     "output_type": "stream",
     "text": [
      "我叫小明 ， 今年 10 岁\n"
     ]
    }
   ],
   "source": [
    "print (\"我叫%s ， 今年 %d 岁\" %(\"小明\",10))"
   ]
  },
  {
   "cell_type": "code",
   "execution_count": 39,
   "metadata": {},
   "outputs": [
    {
     "name": "stdout",
     "output_type": "stream",
     "text": [
      "\n",
      "print(  math.fabs(-10)) \n",
      "print(  \n",
      "random.choice(li))\n",
      "\n"
     ]
    }
   ],
   "source": [
    "string = '''\n",
    "print(  math.fabs(-10)) \n",
    "print(  \n",
    "random.choice(li))\n",
    "''' \n",
    "print(string)  "
   ]
  },
  {
   "cell_type": "code",
   "execution_count": 26,
   "metadata": {},
   "outputs": [
    {
     "data": {
      "text/plain": [
       "'abc'"
      ]
     },
     "execution_count": 26,
     "metadata": {},
     "output_type": "execute_result"
    }
   ],
   "source": [
    "b'abc'.decode() \n",
    "str(b'abc') \n",
    "str(b'abc', encoding='utf-8') "
   ]
  },
  {
   "cell_type": "code",
   "execution_count": 40,
   "metadata": {},
   "outputs": [
    {
     "data": {
      "text/plain": [
       "b'\\xe4\\xb8\\xad\\xe5\\x9b\\xbd'"
      ]
     },
     "execution_count": 40,
     "metadata": {},
     "output_type": "execute_result"
    }
   ],
   "source": [
    "'中国'.encode() \n",
    "bytes('中国', encoding='utf-8') "
   ]
  },
  {
   "cell_type": "code",
   "execution_count": 41,
   "metadata": {},
   "outputs": [
    {
     "name": "stdout",
     "output_type": "stream",
     "text": [
      "*\n",
      "**\n",
      "***\n",
      "****\n",
      "*****\n"
     ]
    }
   ],
   "source": [
    "row = 1\n",
    "while row <=5 :\n",
    "    col =1\n",
    "    while col <= row :\n",
    "        print (\"*\", end=\"\")\n",
    "        col +=1\n",
    "    print (\"\")\n",
    "    row +=1\n",
    "    "
   ]
  },
  {
   "cell_type": "code",
   "execution_count": 42,
   "metadata": {},
   "outputs": [
    {
     "name": "stdout",
     "output_type": "stream",
     "text": [
      "*\n",
      "***\n",
      "*****\n",
      "*******\n",
      "*********\n"
     ]
    }
   ],
   "source": [
    "row = 1\n",
    "while row <=9 :\n",
    "    col =1\n",
    "    while col <= row :\n",
    "        print (\"*\", end=\"\")\n",
    "        col +=1\n",
    "    print (\"\")\n",
    "    row +=2"
   ]
  },
  {
   "cell_type": "code",
   "execution_count": 43,
   "metadata": {},
   "outputs": [
    {
     "name": "stdout",
     "output_type": "stream",
     "text": [
      "   *\n",
      "  ***\n",
      " *****\n",
      "*******\n"
     ]
    }
   ],
   "source": [
    "row = 1\n",
    "\n",
    "while row <= 4:\n",
    "    blank = 1;\n",
    "    while blank < 5 - row:\n",
    "        print(' ',end=\"\")\n",
    "        blank += 1\n",
    "    col = 1\n",
    "    while col <= row:\n",
    "        print('*', end='')\n",
    "        col += 0.5\n",
    "    while blank < 5 - row:\n",
    "        print(' ',end=\"\")\n",
    "        blank += 1\n",
    "    print(\"\")\n",
    "    row += 1"
   ]
  },
  {
   "cell_type": "code",
   "execution_count": 44,
   "metadata": {},
   "outputs": [
    {
     "name": "stdout",
     "output_type": "stream",
     "text": [
      "     *\n",
      "    **\n",
      "   ***\n",
      "  ****\n",
      " *****\n",
      "******\n"
     ]
    }
   ],
   "source": [
    "row = 1\n",
    "\n",
    "while row <= 6:\n",
    "    blank = 1;\n",
    "    while blank < 7 - row:\n",
    "        print(' ',end=\"\")\n",
    "        blank += 1\n",
    "    col = 1\n",
    "    while col <= row:\n",
    "        print('*', end='')\n",
    "        col += 1\n",
    "    print(\"\")\n",
    "    row += 1"
   ]
  },
  {
   "cell_type": "code",
   "execution_count": 45,
   "metadata": {},
   "outputs": [
    {
     "name": "stdout",
     "output_type": "stream",
     "text": [
      "   *\n",
      "  ***\n",
      " *****\n",
      "*******\n",
      " *****\n",
      "  ***\n",
      "   *\n",
      "    \n"
     ]
    }
   ],
   "source": [
    "row =1\n",
    "while row <= 4:\n",
    "    blank = 1;\n",
    "    while blank < 5 - row:\n",
    "        print(' ',end=\"\")\n",
    "        blank += 1\n",
    "    col = 1\n",
    "    while col <= row:\n",
    "        print('*', end='')\n",
    "        col += 0.5\n",
    "    while blank < 5 - row:\n",
    "        print(' ',end=\"\")\n",
    "        blank += 1\n",
    "    print(\"\")\n",
    "    row += 1\n",
    "row =1\n",
    "while row <=4 :\n",
    "    blank =1\n",
    "    while blank <=row:\n",
    "        print (\" \",end=\"\")\n",
    "        blank +=1\n",
    "    col =1\n",
    "    while col <= 4 - row :\n",
    "        print (\"*\", end=\"\")\n",
    "        col +=0.5\n",
    "    print (\"\")\n",
    "    row +=1"
   ]
  },
  {
   "cell_type": "code",
   "execution_count": 46,
   "metadata": {},
   "outputs": [
    {
     "name": "stdout",
     "output_type": "stream",
     "text": [
      "gallahad the pure\n",
      "robin the brave\n"
     ]
    }
   ],
   "source": [
    "knights = {'gallahad': 'the pure', 'robin': 'the brave'}  \n",
    "for k, v in knights.items(): \n",
    "    print(k, v)  "
   ]
  },
  {
   "cell_type": "code",
   "execution_count": 47,
   "metadata": {},
   "outputs": [
    {
     "name": "stdout",
     "output_type": "stream",
     "text": [
      "0 tic\n",
      "1 tac\n",
      "2 toe\n"
     ]
    }
   ],
   "source": [
    "for i, v in enumerate(['tic', 'tac', 'toe']):  \n",
    "    print(i, v) "
   ]
  },
  {
   "cell_type": "code",
   "execution_count": 48,
   "metadata": {},
   "outputs": [
    {
     "name": "stdout",
     "output_type": "stream",
     "text": [
      "What is your name? It is lancelot.\n",
      "What is your quest? It is the holy grail.\n",
      "What is your favorite color? It is blue.\n"
     ]
    }
   ],
   "source": [
    "questions = ['name', 'quest', 'favorite color']  \n",
    "answers = ['lancelot', 'the holy grail', 'blue']  \n",
    "for q, a in zip(questions, answers): \n",
    "    print('What is your {0}? It is {1}.'.format(q, a)) "
   ]
  },
  {
   "cell_type": "code",
   "execution_count": 49,
   "metadata": {},
   "outputs": [
    {
     "name": "stdout",
     "output_type": "stream",
     "text": [
      "9\n",
      "7\n",
      "5\n",
      "3\n",
      "1\n"
     ]
    }
   ],
   "source": [
    "for i in reversed(range(1, 10, 2)):  \n",
    "    print(i) "
   ]
  },
  {
   "cell_type": "code",
   "execution_count": 50,
   "metadata": {},
   "outputs": [
    {
     "name": "stdout",
     "output_type": "stream",
     "text": [
      "apple\n",
      "banana\n",
      "orange\n",
      "pear\n"
     ]
    }
   ],
   "source": [
    "basket = ['apple', 'orange', 'apple', 'pear', 'orange', 'banana'] \n",
    "for f in sorted(set(basket)): \n",
    "    print(f) "
   ]
  },
  {
   "cell_type": "code",
   "execution_count": null,
   "metadata": {},
   "outputs": [],
   "source": []
  }
 ],
 "metadata": {
  "kernelspec": {
   "display_name": "Python 3",
   "language": "python",
   "name": "python3"
  },
  "language_info": {
   "codemirror_mode": {
    "name": "ipython",
    "version": 3
   },
   "file_extension": ".py",
   "mimetype": "text/x-python",
   "name": "python",
   "nbconvert_exporter": "python",
   "pygments_lexer": "ipython3",
   "version": "3.7.4"
  }
 },
 "nbformat": 4,
 "nbformat_minor": 2
}
