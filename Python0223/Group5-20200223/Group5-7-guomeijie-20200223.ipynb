{
 "cells": [
  {
   "cell_type": "code",
   "execution_count": 39,
   "metadata": {},
   "outputs": [
    {
     "name": "stdout",
     "output_type": "stream",
     "text": [
      "Hello Python,I am Cathy,Glad to see you !\n"
     ]
    }
   ],
   "source": [
    "print(\"Hello Python,I am Cathy,Glad to see you !\")"
   ]
  },
  {
   "cell_type": "code",
   "execution_count": 2,
   "metadata": {},
   "outputs": [
    {
     "name": "stdout",
     "output_type": "stream",
     "text": [
      "请输入您的年龄37\n",
      "Adult\n"
     ]
    }
   ],
   "source": [
    "numberInput=input(\"请输入您的年龄\")\n",
    "\n",
    "if int(numberInput)>18:\n",
    "    print('Adult')\n",
    "else:\n",
    "    print(\"Child\")"
   ]
  },
  {
   "cell_type": "code",
   "execution_count": 3,
   "metadata": {},
   "outputs": [
    {
     "name": "stdout",
     "output_type": "stream",
     "text": [
      "123\n",
      "123"
     ]
    }
   ],
   "source": [
    "#print输出\n",
    "print('123')#默认换行\n",
    "print('123',end=\"\")#不换行"
   ]
  },
  {
   "cell_type": "code",
   "execution_count": 4,
   "metadata": {},
   "outputs": [
    {
     "name": "stdout",
     "output_type": "stream",
     "text": [
      "1-c的值为: 31\n",
      "2-c的值为: 11\n",
      "3-c的值为: 210\n",
      "4-c的值为: 2.1\n",
      "5-c的值为: 1\n",
      "6-c的值为: 8\n",
      "7-c的值为: 2\n"
     ]
    }
   ],
   "source": [
    "#Python算术运算符\n",
    "\n",
    "a=21\n",
    "b=10\n",
    "c=0\n",
    "\n",
    "c=a+b\n",
    "print(\"1-c的值为:\",c)\n",
    "\n",
    "c=a-b\n",
    "print(\"2-c的值为:\",c)\n",
    "\n",
    "c=a*b\n",
    "print(\"3-c的值为:\",c)\n",
    "\n",
    "c=a/b\n",
    "print(\"4-c的值为:\",c)\n",
    "\n",
    "c=a%b\n",
    "print(\"5-c的值为:\",c)\n",
    "\n",
    "#修改变量a、b、c\n",
    "a=2\n",
    "b=3\n",
    "c=a**b\n",
    "print(\"6-c的值为:\",c)\n",
    "\n",
    "a=10\n",
    "b=5\n",
    "c=a//b\n",
    "print(\"7-c的值为:\",c)"
   ]
  },
  {
   "cell_type": "code",
   "execution_count": 5,
   "metadata": {},
   "outputs": [
    {
     "name": "stdout",
     "output_type": "stream",
     "text": [
      "1-a不等于b\n",
      "2-a不等于b\n",
      "3-a大于等于b\n",
      "4-a大于b\n",
      "5-a小于等于b\n",
      "6-b大于等于a\n"
     ]
    }
   ],
   "source": [
    "#Python比较运算符\n",
    "\n",
    "a=21\n",
    "b=10\n",
    "c=0\n",
    "\n",
    "if(a==b):\n",
    "    print(\"1-a等于b\")\n",
    "else:\n",
    "     print(\"1-a不等于b\")\n",
    "\n",
    "if(a!=b):\n",
    "     print(\"2-a不等于b\")\n",
    "else:\n",
    "     print(\"2-a等于b\")\n",
    "        \n",
    "if(a<b):\n",
    "     print(\"3-a小于b\")\n",
    "else:\n",
    "     print(\"3-a大于等于b\")\n",
    "        \n",
    "if(a>b):\n",
    "     print(\"4-a大于b\")\n",
    "else:\n",
    "     print(\"4-a小于等于b\")\n",
    "\n",
    "#修改变量a和b的值\n",
    "a=5\n",
    "b=20\n",
    "if(a<=b):\n",
    "     print(\"5-a小于等于b\")\n",
    "else:\n",
    "     print(\"5-a大于b\")\n",
    "\n",
    "if(b>=a):\n",
    "     print(\"6-b大于等于a\")\n",
    "else:\n",
    "    print(\"6-b小于a\")"
   ]
  },
  {
   "cell_type": "code",
   "execution_count": 6,
   "metadata": {},
   "outputs": [
    {
     "name": "stdout",
     "output_type": "stream",
     "text": [
      "1-c的值为： 31\n",
      "2-c的值为： 52\n",
      "3-c的值为： 1092\n",
      "4-c的值为： 52.0\n",
      "5-c的值为： 2\n",
      "6-c的值为： 2097152\n",
      "7-c的值为： 99864\n"
     ]
    }
   ],
   "source": [
    "#Python赋值运算符\n",
    "\n",
    "a=21\n",
    "b=10\n",
    "c=0\n",
    "\n",
    "c=a+b\n",
    "print(\"1-c的值为：\",c)\n",
    "\n",
    "c+=a\n",
    "print(\"2-c的值为：\",c)\n",
    "\n",
    "c*=a\n",
    "print(\"3-c的值为：\",c)\n",
    "\n",
    "c/=a\n",
    "print(\"4-c的值为：\",c)\n",
    "\n",
    "c=2\n",
    "c%=a\n",
    "print(\"5-c的值为：\",c)\n",
    "\n",
    "c**=a\n",
    "print(\"6-c的值为：\",c)\n",
    "\n",
    "c//=a\n",
    "print(\"7-c的值为：\",c)"
   ]
  },
  {
   "cell_type": "code",
   "execution_count": 7,
   "metadata": {},
   "outputs": [
    {
     "name": "stdout",
     "output_type": "stream",
     "text": [
      "1-c的值为： 12\n",
      "2-c的值为： 61\n",
      "3-c的值为： 49\n",
      "4-c的值为： -61\n",
      "5-c的值为： 240\n",
      "6-c的值为： 15\n"
     ]
    }
   ],
   "source": [
    "#Python位运算符\n",
    "\n",
    "a=60             #60=0011 1100\n",
    "b=13             #13=0000 1101\n",
    "c=0              \n",
    "\n",
    "c=a&b;           #12=0000 1100\n",
    "print(\"1-c的值为：\",c)\n",
    "\n",
    "c=a|b;           #61=0011 1101\n",
    "print(\"2-c的值为：\",c)\n",
    "\n",
    "c=a^b;           #49=0011 0001\n",
    "print(\"3-c的值为：\",c)\n",
    "\n",
    "c=~a;            #-61=1100 0011\n",
    "print(\"4-c的值为：\",c)\n",
    "\n",
    "c=a<<2;          #240=1111 0000\n",
    "print(\"5-c的值为：\",c)\n",
    "\n",
    "c=a>>2;          #15=0000 1111\n",
    "print(\"6-c的值为：\",c)"
   ]
  },
  {
   "cell_type": "code",
   "execution_count": 8,
   "metadata": {},
   "outputs": [
    {
     "name": "stdout",
     "output_type": "stream",
     "text": [
      "1-变量a和b都为true\n",
      "2-变量a和b都为true,或其中一个变量为true\n",
      "3-变量a和b有一个不为true\n",
      "4-变量a和b都为true,或其中一个变量为true\n",
      "5-变量a和b都为false,或其中一个变量为false\n"
     ]
    }
   ],
   "source": [
    "#Python逻辑运算符\n",
    "\n",
    "a=10\n",
    "b=20\n",
    "\n",
    "if(a and b):\n",
    "    print(\"1-变量a和b都为true\")\n",
    "else:\n",
    "    print(\"1-变量a和b有一个不为true\")\n",
    "\n",
    "if(a or b):\n",
    "    print(\"2-变量a和b都为true,或其中一个变量为true\")\n",
    "else:\n",
    "    print(\"2-变量a和b都不为true\")\n",
    "    \n",
    "#修改变量a的值\n",
    "a=0\n",
    "if(a and b):\n",
    "    print(\"3-变量a和b都为true\")\n",
    "else:\n",
    "    print(\"3-变量a和b有一个不为true\")\n",
    "    \n",
    "if(a or b):\n",
    "    print(\"4-变量a和b都为true,或其中一个变量为true\")\n",
    "else:\n",
    "    print(\"4-变量a和b都不为true\")\n",
    "    \n",
    "if not(a and b):\n",
    "    print(\"5-变量a和b都为false,或其中一个变量为false\")\n",
    "else:\n",
    "    print(\"5-变量a和b都为true\")\n",
    "    "
   ]
  },
  {
   "cell_type": "code",
   "execution_count": 9,
   "metadata": {},
   "outputs": [
    {
     "name": "stdout",
     "output_type": "stream",
     "text": [
      "1-变量a不在给定的列表中list中\n",
      "2-变量b不在给定的列表中list中\n",
      "3-变量a在给定的列表中list中\n"
     ]
    }
   ],
   "source": [
    "#Python成员运算符\n",
    "\n",
    "a=10\n",
    "b=20\n",
    "list=[1,2,3,4,5];\n",
    "\n",
    "if(a in list):\n",
    "    print(\"1-变量a在给定的列表中list中\")\n",
    "else:\n",
    "    print(\"1-变量a不在给定的列表中list中\")\n",
    "    \n",
    "if(b not in list):\n",
    "    print(\"2-变量b不在给定的列表中list中\")\n",
    "else:\n",
    "    print(\"2-变量b在给定的列表中list中\")\n",
    "    \n",
    "#修改变量a的值\n",
    "a=2\n",
    "if(a in list):\n",
    "    print(\"3-变量a在给定的列表中list中\")\n",
    "else:\n",
    "    print(\"3-变量a不在给定的列表中list中\")"
   ]
  },
  {
   "cell_type": "code",
   "execution_count": 12,
   "metadata": {},
   "outputs": [
    {
     "name": "stdout",
     "output_type": "stream",
     "text": [
      "1-a和b有相同的标识\n",
      "2-a和b有相同的标识\n",
      "3-a和b没有相同的标识\n",
      "4-a和b没有相同的标识\n"
     ]
    }
   ],
   "source": [
    "#Python身份运算符\n",
    "\n",
    "a=20\n",
    "b=20\n",
    "\n",
    "if(a is b):\n",
    "    print(\"1-a和b有相同的标识\")\n",
    "else:\n",
    "    print(\"1-a和b没有相同的标识\")\n",
    "    \n",
    "if(id(a)==id(b)):\n",
    "    print(\"2-a和b有相同的标识\")\n",
    "else:\n",
    "    print(\"2-a和b没有相同的标识\")\n",
    "    \n",
    "#修改变量b的值\n",
    "b=30\n",
    "if(a is b):\n",
    "    print(\"3-a和b有相同的标识\")\n",
    "else:\n",
    "    print(\"3-a和b没有相同的标识\")\n",
    "    \n",
    "if(a is not b):\n",
    "    print(\"4-a和b没有相同的标识\")\n",
    "else:\n",
    "    print(\"4-a和b有相同的标识\")"
   ]
  },
  {
   "cell_type": "code",
   "execution_count": 13,
   "metadata": {},
   "outputs": [
    {
     "name": "stdout",
     "output_type": "stream",
     "text": [
      "(a+b)*c/d运算结果为: 90.0\n",
      "((a+b)*c)/d运算结果为: 90.0\n",
      "(a+b)*(c/d)运算结果为: 90.0\n",
      "a+(b*c)/d运算结果为: 50.0\n"
     ]
    }
   ],
   "source": [
    "#Python字符串优先级\n",
    "\n",
    "a=20\n",
    "b=10\n",
    "c=15\n",
    "d=5\n",
    "e=0\n",
    "\n",
    "e=(a+b)*c/d           #(30*15)/5\n",
    "print(\"(a+b)*c/d运算结果为:\",e)\n",
    "\n",
    "e=((a+b)*c)/d         #(30*15)/5\n",
    "print(\"((a+b)*c)/d运算结果为:\",e)\n",
    "\n",
    "e=(a+b)*(c/d);        #(30)*(15/5)\n",
    "print(\"(a+b)*(c/d)运算结果为:\",e)\n",
    "\n",
    "e=a+(b*c)/d;          #20+(150/5)\n",
    "print(\"a+(b*c)/d运算结果为:\",e)"
   ]
  },
  {
   "cell_type": "code",
   "execution_count": 14,
   "metadata": {},
   "outputs": [
    {
     "name": "stdout",
     "output_type": "stream",
     "text": [
      "var1[0]: H\n",
      "var2[1:5]: unoo\n"
     ]
    }
   ],
   "source": [
    "#Python访问字符串中的值\n",
    "\n",
    "var1='Hello World!'\n",
    "var2=\"Runoob\"\n",
    "\n",
    "print(\"var1[0]:\",var1[0])\n",
    "print(\"var2[1:5]:\",var2[1:5])\n"
   ]
  },
  {
   "cell_type": "code",
   "execution_count": 15,
   "metadata": {},
   "outputs": [
    {
     "name": "stdout",
     "output_type": "stream",
     "text": [
      "已更新字符串: Hello Runoob!\n"
     ]
    }
   ],
   "source": [
    "#Python字符串更新\n",
    "\n",
    "var1='Hello World!'\n",
    "\n",
    "print(\"已更新字符串:\",var1[:6]+'Runoob!')"
   ]
  },
  {
   "cell_type": "code",
   "execution_count": 16,
   "metadata": {},
   "outputs": [
    {
     "name": "stdout",
     "output_type": "stream",
     "text": [
      "a+b输出结果: HelloPython\n",
      "a*2输出结果: HelloHello\n",
      "a[1]输出结果: e\n",
      "a[1:4]输出结果: ell\n",
      "H在变量a中\n",
      "M不在变量a中\n",
      "\\n\n",
      "\\n\n"
     ]
    }
   ],
   "source": [
    "#字符串运算符\n",
    "\n",
    "a=\"Hello\"\n",
    "b=\"Python\"\n",
    "\n",
    "print(\"a+b输出结果:\",a+b)\n",
    "print(\"a*2输出结果:\",a*2)\n",
    "print(\"a[1]输出结果:\",a[1])\n",
    "print(\"a[1:4]输出结果:\",a[1:4])\n",
    "\n",
    "if(\"H\"in a):\n",
    "    print(\"H在变量a中\")\n",
    "else:\n",
    "    print(\"H不在变量a中\")\n",
    "    \n",
    "if(\"M\"not in a):\n",
    "    print(\"M不在变量a中\")\n",
    "else:\n",
    "    print(\"M在变量a中\")\n",
    "    \n",
    "print(r'\\n')\n",
    "print(R'\\n')"
   ]
  },
  {
   "cell_type": "code",
   "execution_count": 18,
   "metadata": {},
   "outputs": [
    {
     "name": "stdout",
     "output_type": "stream",
     "text": [
      "我叫小明, 今年10岁！\n"
     ]
    }
   ],
   "source": [
    "#字符串格式化\n",
    "print(\"我叫%s, 今年%d岁！\"%('小明',10))"
   ]
  },
  {
   "cell_type": "code",
   "execution_count": 19,
   "metadata": {},
   "outputs": [
    {
     "name": "stdout",
     "output_type": "stream",
     "text": [
      "\n",
      "print( math.fabs(-10))\n",
      "print(\n",
      "random.choice(li))\n",
      "\n"
     ]
    }
   ],
   "source": [
    "#多行字符串\n",
    "string='''\n",
    "print( math.fabs(-10))\n",
    "print(\n",
    "random.choice(li))\n",
    "'''\n",
    "print(string)"
   ]
  },
  {
   "cell_type": "code",
   "execution_count": 20,
   "metadata": {
    "scrolled": true
   },
   "outputs": [
    {
     "data": {
      "text/plain": [
       "'abc'"
      ]
     },
     "execution_count": 20,
     "metadata": {},
     "output_type": "execute_result"
    }
   ],
   "source": [
    "#bytes转str:\n",
    "b'abc'.decode()\n",
    "str(b'abc')\n",
    "str(b'abc',encoding='utf-8')\n"
   ]
  },
  {
   "cell_type": "code",
   "execution_count": null,
   "metadata": {},
   "outputs": [],
   "source": [
    "#str转bytes:\n",
    "'中国'.encode()\n",
    "bytes('中国',encoding='utf-8')"
   ]
  },
  {
   "cell_type": "code",
   "execution_count": 21,
   "metadata": {},
   "outputs": [
    {
     "name": "stdout",
     "output_type": "stream",
     "text": [
      "*****\n",
      "*****\n",
      "*****\n",
      "*****\n",
      "*****\n"
     ]
    }
   ],
   "source": [
    "for rowIndex in range(5):#行\n",
    "    for columnIndex in range(5):#列\n",
    "        print(\"*\",end='')#这个print是列上的\n",
    "    print('')"
   ]
  },
  {
   "cell_type": "code",
   "execution_count": 27,
   "metadata": {},
   "outputs": [
    {
     "name": "stdout",
     "output_type": "stream",
     "text": [
      "*\n",
      "**\n",
      "***\n",
      "****\n",
      "*****\n"
     ]
    }
   ],
   "source": [
    "#作业1\n",
    "\n",
    "for i in range(5):#行\n",
    "    for j in range (i+1):#列\n",
    "        print(\"*\",end='')#这个print是列上的\n",
    "    print('')"
   ]
  },
  {
   "cell_type": "code",
   "execution_count": 31,
   "metadata": {},
   "outputs": [
    {
     "name": "stdout",
     "output_type": "stream",
     "text": [
      "*\n",
      "***\n",
      "*****\n",
      "*******\n",
      "*********\n"
     ]
    }
   ],
   "source": [
    "#作业2\n",
    "\n",
    "for i in range(5):#行\n",
    "    for j in range (i+i+1):#列\n",
    "        print(\"*\",end='')#这个print是列上的\n",
    "    print('')"
   ]
  },
  {
   "cell_type": "code",
   "execution_count": 32,
   "metadata": {},
   "outputs": [
    {
     "name": "stdout",
     "output_type": "stream",
     "text": [
      "    *    \n",
      "   ***   \n",
      "  *****  \n",
      " ******* \n"
     ]
    }
   ],
   "source": [
    "#作业3\n",
    "\n",
    "for i in range(4):#行\n",
    "    for j in range (4-i):#列\n",
    "        print(\" \",end='')\n",
    "    for j in range (i+i+1):#列\n",
    "        print(\"*\",end='')#这个print是列上的\n",
    "    for j in range (4-i):#列\n",
    "        print(\" \",end='')\n",
    "    print('')"
   ]
  },
  {
   "cell_type": "code",
   "execution_count": 33,
   "metadata": {},
   "outputs": [
    {
     "name": "stdout",
     "output_type": "stream",
     "text": [
      "      *\n",
      "     **\n",
      "    ***\n",
      "   ****\n",
      "  *****\n",
      " ******\n"
     ]
    }
   ],
   "source": [
    "#作业4\n",
    "\n",
    "for i in range(6):#行\n",
    "    for j in range (6-i):#列\n",
    "        print(\" \",end='')\n",
    "    for j in range (i+1):#列\n",
    "        print(\"*\",end='')#这个print是列上的\n",
    "    print('')"
   ]
  },
  {
   "cell_type": "code",
   "execution_count": 38,
   "metadata": {},
   "outputs": [
    {
     "name": "stdout",
     "output_type": "stream",
     "text": [
      "    *    \n",
      "   ***   \n",
      "  *****  \n",
      " *******\n",
      "  ***** \n",
      "   ***  \n",
      "    *   \n"
     ]
    }
   ],
   "source": [
    "#作业5\n",
    "\n",
    "for i in range(3):#行\n",
    "    for j in range (4-i):#列\n",
    "        print(\" \",end='')\n",
    "    for j in range (i+i+1):#列\n",
    "        print(\"*\",end='')#这个print是列上的\n",
    "    for j in range (4-i):#列\n",
    "        print(\" \",end='')\n",
    "    print('')\n",
    "for i in range(4):#行\n",
    "    for j in range (i+1):#列\n",
    "        print(\" \",end='')\n",
    "    for j in range (7-i-i):#列\n",
    "        print(\"*\",end='')#这个print是列上的\n",
    "    for j in range (i):#列\n",
    "        print(\" \",end='')\n",
    "    print('')"
   ]
  },
  {
   "cell_type": "code",
   "execution_count": null,
   "metadata": {},
   "outputs": [],
   "source": []
  }
 ],
 "metadata": {
  "kernelspec": {
   "display_name": "Python 3",
   "language": "python",
   "name": "python3"
  },
  "language_info": {
   "codemirror_mode": {
    "name": "ipython",
    "version": 3
   },
   "file_extension": ".py",
   "mimetype": "text/x-python",
   "name": "python",
   "nbconvert_exporter": "python",
   "pygments_lexer": "ipython3",
   "version": "3.7.4"
  }
 },
 "nbformat": 4,
 "nbformat_minor": 2
}
